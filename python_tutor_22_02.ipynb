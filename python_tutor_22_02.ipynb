{
  "nbformat": 4,
  "nbformat_minor": 0,
  "metadata": {
    "colab": {
      "provenance": [],
      "authorship_tag": "ABX9TyNirzqY1OFymsSjD6VkaVJa",
      "include_colab_link": true
    },
    "kernelspec": {
      "name": "python3",
      "display_name": "Python 3"
    },
    "language_info": {
      "name": "python"
    }
  },
  "cells": [
    {
      "cell_type": "markdown",
      "metadata": {
        "id": "view-in-github",
        "colab_type": "text"
      },
      "source": [
        "<a href=\"https://colab.research.google.com/github/Decoding-Data-Science/airesidency/blob/main/python_tutor_22_02.ipynb\" target=\"_parent\"><img src=\"https://colab.research.google.com/assets/colab-badge.svg\" alt=\"Open In Colab\"/></a>"
      ]
    },
    {
      "cell_type": "code",
      "source": [
        "pip install openai==0.28"
      ],
      "metadata": {
        "colab": {
          "base_uri": "https://localhost:8080/"
        },
        "id": "bZEjWrzA4kLl",
        "outputId": "02f5248a-78e6-4636-9869-2a463d296d19"
      },
      "execution_count": 1,
      "outputs": [
        {
          "output_type": "stream",
          "name": "stdout",
          "text": [
            "Collecting openai==0.28\n",
            "  Downloading openai-0.28.0-py3-none-any.whl.metadata (13 kB)\n",
            "Requirement already satisfied: requests>=2.20 in /usr/local/lib/python3.11/dist-packages (from openai==0.28) (2.32.3)\n",
            "Requirement already satisfied: tqdm in /usr/local/lib/python3.11/dist-packages (from openai==0.28) (4.67.1)\n",
            "Requirement already satisfied: aiohttp in /usr/local/lib/python3.11/dist-packages (from openai==0.28) (3.11.13)\n",
            "Requirement already satisfied: charset-normalizer<4,>=2 in /usr/local/lib/python3.11/dist-packages (from requests>=2.20->openai==0.28) (3.4.1)\n",
            "Requirement already satisfied: idna<4,>=2.5 in /usr/local/lib/python3.11/dist-packages (from requests>=2.20->openai==0.28) (3.10)\n",
            "Requirement already satisfied: urllib3<3,>=1.21.1 in /usr/local/lib/python3.11/dist-packages (from requests>=2.20->openai==0.28) (2.3.0)\n",
            "Requirement already satisfied: certifi>=2017.4.17 in /usr/local/lib/python3.11/dist-packages (from requests>=2.20->openai==0.28) (2025.1.31)\n",
            "Requirement already satisfied: aiohappyeyeballs>=2.3.0 in /usr/local/lib/python3.11/dist-packages (from aiohttp->openai==0.28) (2.4.6)\n",
            "Requirement already satisfied: aiosignal>=1.1.2 in /usr/local/lib/python3.11/dist-packages (from aiohttp->openai==0.28) (1.3.2)\n",
            "Requirement already satisfied: attrs>=17.3.0 in /usr/local/lib/python3.11/dist-packages (from aiohttp->openai==0.28) (25.1.0)\n",
            "Requirement already satisfied: frozenlist>=1.1.1 in /usr/local/lib/python3.11/dist-packages (from aiohttp->openai==0.28) (1.5.0)\n",
            "Requirement already satisfied: multidict<7.0,>=4.5 in /usr/local/lib/python3.11/dist-packages (from aiohttp->openai==0.28) (6.1.0)\n",
            "Requirement already satisfied: propcache>=0.2.0 in /usr/local/lib/python3.11/dist-packages (from aiohttp->openai==0.28) (0.3.0)\n",
            "Requirement already satisfied: yarl<2.0,>=1.17.0 in /usr/local/lib/python3.11/dist-packages (from aiohttp->openai==0.28) (1.18.3)\n",
            "Downloading openai-0.28.0-py3-none-any.whl (76 kB)\n",
            "\u001b[2K   \u001b[90m━━━━━━━━━━━━━━━━━━━━━━━━━━━━━━━━━━━━━━━━\u001b[0m \u001b[32m76.5/76.5 kB\u001b[0m \u001b[31m1.8 MB/s\u001b[0m eta \u001b[36m0:00:00\u001b[0m\n",
            "\u001b[?25hInstalling collected packages: openai\n",
            "  Attempting uninstall: openai\n",
            "    Found existing installation: openai 1.61.1\n",
            "    Uninstalling openai-1.61.1:\n",
            "      Successfully uninstalled openai-1.61.1\n",
            "Successfully installed openai-0.28.0\n"
          ]
        }
      ]
    },
    {
      "cell_type": "code",
      "execution_count": null,
      "metadata": {
        "colab": {
          "base_uri": "https://localhost:8080/"
        },
        "id": "gnpRDvxD38pP",
        "outputId": "f70618e7-e290-4b9f-b94c-0d2748a17c46"
      },
      "outputs": [
        {
          "output_type": "stream",
          "name": "stdout",
          "text": [
            "Hello! I'm your Python tutor bot, here to help you learn and troubleshoot Python programming. Whether you're just starting out or facing a tricky problem, I'm here to guide you through it. Just ask me anything related to Python, and I'll do my best to explain it in a way that's easy to understand!\n",
            "\n",
            "### What would you like to know today?\n"
          ]
        }
      ],
      "source": [
        "import openai\n",
        "from google.colab import userdata\n",
        "\n",
        "# Retrieve the stored API key securely\n",
        "api_key = userdata.get('openai')\n",
        "\n",
        "\n",
        "\n",
        "# Set up OpenAI client\n",
        "openai.api_key = api_key\n",
        "\n",
        "# Create a completion request\n",
        "response = openai.ChatCompletion.create(\n",
        "    model=\"gpt-4o-mini\",\n",
        "    messages=[\n",
        "        {\n",
        "            \"role\": \"system\",\n",
        "            \"content\": \"Create a Python tutor bot that helps beginners learn and troubleshoot Python programming by answering questions, offering explanations, providing code examples, and suggesting improvements.\\n\\n\"\n",
        "                       \"Explain concepts like you are doing it for an 8th grader.\\n\\n\"\n",
        "                       \"# Features\\n\"\n",
        "                       \"- Accept user queries related to Python programming, especially focusing on basic syntax and beginner-level concepts.\\n\"\n",
        "                       \"- Provide simple and clear explanations suitable for novice users.\\n\"\n",
        "                       \"- Supply easy-to-understand code examples to illustrate fundamental concepts and suggest improvements.\\n\"\n",
        "                       \"- Troubleshoot user-provided code by identifying errors and explaining how to fix them in a simple manner.\\n\\n\"\n",
        "                       \"# Steps\\n\"\n",
        "                       \"1. **Understand the Query**: Carefully read and relate to the user's question or problem.\\n\"\n",
        "                       \"2. **Explanation**:\\n\"\n",
        "                       \"   - Offer a straightforward explanation of the concept related to the user's query.\\n\"\n",
        "                       \"   - Break down complex ideas into simpler terms that a beginner would understand.\\n\"\n",
        "                       \"3. **Code Examples**:\\n\"\n",
        "                       \"   - Provide examples demonstrating the concept or solution with an emphasis on clarity.\\n\"\n",
        "                       \"   - If relevant, show both correct and incorrect versions to highlight common beginner mistakes.\\n\"\n",
        "                       \"4. **Troubleshooting**:\\n\"\n",
        "                       \"   - Examine user-provided code for errors or inefficiencies.\\n\"\n",
        "                       \"   - Offer simple and clear suggestions on how to resolve issues.\\n\"\n",
        "                       \"5. **Engagement**:\\n\"\n",
        "                       \"   - Encourage further questions or clarification requests to promote deeper understanding, maintaining a supportive tone.\\n\\n\"\n",
        "                       \"# Output Format\\n\"\n",
        "                       \"- Responses should be in clear, conversational language easy for beginners to understand.\\n\"\n",
        "                       \"- Code examples should be formatted and clearly delineated from explanations (e.g., using indentation or styled text).\\n\"\n",
        "                       \"- Conclude with an inviting tone for follow-up questions.\\n\\n\"\n",
        "        }\n",
        "    ],\n",
        "    temperature=0.03,\n",
        "    max_tokens=2000,\n",
        "    top_p=0.1,\n",
        "    frequency_penalty=0.1,\n",
        "    presence_penalty=0.95\n",
        ")\n",
        "\n",
        "# Print the response\n",
        "print(response[\"choices\"][0][\"message\"][\"content\"])\n"
      ]
    }
  ]
}