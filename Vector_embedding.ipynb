{
  "cells": [
    {
      "cell_type": "markdown",
      "metadata": {
        "id": "view-in-github",
        "colab_type": "text"
      },
      "source": [
        "<a href=\"https://colab.research.google.com/github/Decoding-Data-Science/airesidency/blob/main/Vector_embedding.ipynb\" target=\"_parent\"><img src=\"https://colab.research.google.com/assets/colab-badge.svg\" alt=\"Open In Colab\"/></a>"
      ]
    },
    {
      "cell_type": "markdown",
      "metadata": {
        "id": "6gVTvuuckMtP"
      },
      "source": [
        "## Weaviate quickstart guide (as a notebook!)\n",
        "\n",
        "This notebook will guide you through the basics of Weaviate. You can find the full documentation [on our site here](https://weaviate.io/developers/weaviate/quickstart).\n",
        "\n",
        "<a target=\"_blank\" href=\"https://colab.research.google.com/github/weaviate-tutorials/quickstart/blob/main/quickstart_end_to_end.ipynb\">\n",
        "  <img src=\"https://colab.research.google.com/assets/colab-badge.svg\" alt=\"Open In Colab\"/>\n",
        "</a>"
      ]
    },
    {
      "cell_type": "markdown",
      "source": [],
      "metadata": {
        "id": "jgIZBZZDpeb-"
      }
    },
    {
      "cell_type": "markdown",
      "metadata": {
        "id": "NhV90rankMtQ"
      },
      "source": [
        "You will need the Weaviate Python client. If you don't yet have it installed - you can do so with:"
      ]
    },
    {
      "cell_type": "code",
      "execution_count": 14,
      "metadata": {
        "id": "BRWhefPukMtR",
        "collapsed": true,
        "outputId": "cf179868-5f8a-4e08-862d-3b3bea64364b",
        "colab": {
          "base_uri": "https://localhost:8080/"
        }
      },
      "outputs": [
        {
          "output_type": "stream",
          "name": "stdout",
          "text": [
            "Requirement already satisfied: weaviate-client in /usr/local/lib/python3.10/dist-packages (4.6.7)\n",
            "Requirement already satisfied: requests<3.0.0,>=2.30.0 in /usr/local/lib/python3.10/dist-packages (from weaviate-client) (2.31.0)\n",
            "Requirement already satisfied: httpx<=0.27.0,>=0.25.0 in /usr/local/lib/python3.10/dist-packages (from weaviate-client) (0.27.0)\n",
            "Requirement already satisfied: validators==0.33.0 in /usr/local/lib/python3.10/dist-packages (from weaviate-client) (0.33.0)\n",
            "Requirement already satisfied: authlib<2.0.0,>=1.2.1 in /usr/local/lib/python3.10/dist-packages (from weaviate-client) (1.3.1)\n",
            "Requirement already satisfied: pydantic<3.0.0,>=2.5.0 in /usr/local/lib/python3.10/dist-packages (from weaviate-client) (2.8.2)\n",
            "Requirement already satisfied: grpcio<2.0.0,>=1.57.0 in /usr/local/lib/python3.10/dist-packages (from weaviate-client) (1.65.1)\n",
            "Requirement already satisfied: grpcio-tools<2.0.0,>=1.57.0 in /usr/local/lib/python3.10/dist-packages (from weaviate-client) (1.65.1)\n",
            "Requirement already satisfied: grpcio-health-checking<2.0.0,>=1.57.0 in /usr/local/lib/python3.10/dist-packages (from weaviate-client) (1.65.1)\n",
            "Requirement already satisfied: cryptography in /usr/local/lib/python3.10/dist-packages (from authlib<2.0.0,>=1.2.1->weaviate-client) (42.0.8)\n",
            "Requirement already satisfied: protobuf<6.0dev,>=5.26.1 in /usr/local/lib/python3.10/dist-packages (from grpcio-health-checking<2.0.0,>=1.57.0->weaviate-client) (5.27.2)\n",
            "Requirement already satisfied: setuptools in /usr/local/lib/python3.10/dist-packages (from grpcio-tools<2.0.0,>=1.57.0->weaviate-client) (67.7.2)\n",
            "Requirement already satisfied: anyio in /usr/local/lib/python3.10/dist-packages (from httpx<=0.27.0,>=0.25.0->weaviate-client) (3.7.1)\n",
            "Requirement already satisfied: certifi in /usr/local/lib/python3.10/dist-packages (from httpx<=0.27.0,>=0.25.0->weaviate-client) (2024.7.4)\n",
            "Requirement already satisfied: httpcore==1.* in /usr/local/lib/python3.10/dist-packages (from httpx<=0.27.0,>=0.25.0->weaviate-client) (1.0.5)\n",
            "Requirement already satisfied: idna in /usr/local/lib/python3.10/dist-packages (from httpx<=0.27.0,>=0.25.0->weaviate-client) (3.7)\n",
            "Requirement already satisfied: sniffio in /usr/local/lib/python3.10/dist-packages (from httpx<=0.27.0,>=0.25.0->weaviate-client) (1.3.1)\n",
            "Requirement already satisfied: h11<0.15,>=0.13 in /usr/local/lib/python3.10/dist-packages (from httpcore==1.*->httpx<=0.27.0,>=0.25.0->weaviate-client) (0.14.0)\n",
            "Requirement already satisfied: annotated-types>=0.4.0 in /usr/local/lib/python3.10/dist-packages (from pydantic<3.0.0,>=2.5.0->weaviate-client) (0.7.0)\n",
            "Requirement already satisfied: pydantic-core==2.20.1 in /usr/local/lib/python3.10/dist-packages (from pydantic<3.0.0,>=2.5.0->weaviate-client) (2.20.1)\n",
            "Requirement already satisfied: typing-extensions>=4.6.1 in /usr/local/lib/python3.10/dist-packages (from pydantic<3.0.0,>=2.5.0->weaviate-client) (4.12.2)\n",
            "Requirement already satisfied: charset-normalizer<4,>=2 in /usr/local/lib/python3.10/dist-packages (from requests<3.0.0,>=2.30.0->weaviate-client) (3.3.2)\n",
            "Requirement already satisfied: urllib3<3,>=1.21.1 in /usr/local/lib/python3.10/dist-packages (from requests<3.0.0,>=2.30.0->weaviate-client) (2.0.7)\n",
            "Requirement already satisfied: exceptiongroup in /usr/local/lib/python3.10/dist-packages (from anyio->httpx<=0.27.0,>=0.25.0->weaviate-client) (1.2.2)\n",
            "Requirement already satisfied: cffi>=1.12 in /usr/local/lib/python3.10/dist-packages (from cryptography->authlib<2.0.0,>=1.2.1->weaviate-client) (1.16.0)\n",
            "Requirement already satisfied: pycparser in /usr/local/lib/python3.10/dist-packages (from cffi>=1.12->cryptography->authlib<2.0.0,>=1.2.1->weaviate-client) (2.22)\n"
          ]
        }
      ],
      "source": [
        "!pip install -U weaviate-client"
      ]
    },
    {
      "cell_type": "markdown",
      "metadata": {
        "id": "k5_3E4LKkMtR"
      },
      "source": [
        "### Weaviate instance\n",
        "\n",
        "For this, you will need a working instance of Weaviate somewhere. We recommend either:\n",
        "- Creating a free sandbox instance on Weaviate Cloud Services (https://console.weaviate.cloud/), or\n",
        "- Using [Embedded Weaviate](https://weaviate.io/developers/weaviate/installation/embedded).\n",
        "\n",
        "Instantiate the client using **one** of the following code examples:"
      ]
    },
    {
      "cell_type": "markdown",
      "metadata": {
        "id": "SI7LBw5skMtS"
      },
      "source": [
        "#### For using WCS\n",
        "\n",
        "NOTE: Before you do this, you need to create the instance in WCS and get the credentials. Please refer to the [WCS Quickstart guide](https://weaviate.io/developers/wcs/quickstart)."
      ]
    },
    {
      "cell_type": "code",
      "execution_count": null,
      "metadata": {
        "id": "hzgYvFrlkMtS"
      },
      "outputs": [],
      "source": [
        "# # For using WCS\n",
        "# import weaviate\n",
        "# import json\n",
        "# import os\n",
        "\n",
        "# client = weaviate.Client(\n",
        "#     url = \"https://some-endpoint.weaviate.network\",  # Replace with your endpoint\n",
        "#     auth_client_secret=weaviate.AuthApiKey(api_key=\"YOUR-WEAVIATE-API-KEY\"),  # Replace w/ your Weaviate instance API key\n",
        "#     additional_headers = {\n",
        "#         \"X-OpenAI-Api-Key\": os.environ[\"OPENAI_APIKEY\"]  # Replace with your inference API key\n",
        "#     }\n",
        "# )"
      ]
    },
    {
      "cell_type": "markdown",
      "metadata": {
        "id": "IX7VeS5hkMtS"
      },
      "source": [
        "#### For using Embedded Weaviate\n",
        "\n",
        "This will spin up a Weaviate instance in the background."
      ]
    },
    {
      "cell_type": "code",
      "source": [
        "pip install openai==0.28"
      ],
      "metadata": {
        "id": "8XAbMJgvlJze",
        "outputId": "11ea8acd-ec4a-4089-8026-0e0dd01fad13",
        "colab": {
          "base_uri": "https://localhost:8080/"
        },
        "collapsed": true
      },
      "execution_count": 15,
      "outputs": [
        {
          "output_type": "stream",
          "name": "stdout",
          "text": [
            "Requirement already satisfied: openai==0.28 in /usr/local/lib/python3.10/dist-packages (0.28.0)\n",
            "Requirement already satisfied: requests>=2.20 in /usr/local/lib/python3.10/dist-packages (from openai==0.28) (2.31.0)\n",
            "Requirement already satisfied: tqdm in /usr/local/lib/python3.10/dist-packages (from openai==0.28) (4.66.4)\n",
            "Requirement already satisfied: aiohttp in /usr/local/lib/python3.10/dist-packages (from openai==0.28) (3.9.5)\n",
            "Requirement already satisfied: charset-normalizer<4,>=2 in /usr/local/lib/python3.10/dist-packages (from requests>=2.20->openai==0.28) (3.3.2)\n",
            "Requirement already satisfied: idna<4,>=2.5 in /usr/local/lib/python3.10/dist-packages (from requests>=2.20->openai==0.28) (3.7)\n",
            "Requirement already satisfied: urllib3<3,>=1.21.1 in /usr/local/lib/python3.10/dist-packages (from requests>=2.20->openai==0.28) (2.0.7)\n",
            "Requirement already satisfied: certifi>=2017.4.17 in /usr/local/lib/python3.10/dist-packages (from requests>=2.20->openai==0.28) (2024.7.4)\n",
            "Requirement already satisfied: aiosignal>=1.1.2 in /usr/local/lib/python3.10/dist-packages (from aiohttp->openai==0.28) (1.3.1)\n",
            "Requirement already satisfied: attrs>=17.3.0 in /usr/local/lib/python3.10/dist-packages (from aiohttp->openai==0.28) (23.2.0)\n",
            "Requirement already satisfied: frozenlist>=1.1.1 in /usr/local/lib/python3.10/dist-packages (from aiohttp->openai==0.28) (1.4.1)\n",
            "Requirement already satisfied: multidict<7.0,>=4.5 in /usr/local/lib/python3.10/dist-packages (from aiohttp->openai==0.28) (6.0.5)\n",
            "Requirement already satisfied: yarl<2.0,>=1.0 in /usr/local/lib/python3.10/dist-packages (from aiohttp->openai==0.28) (1.9.4)\n",
            "Requirement already satisfied: async-timeout<5.0,>=4.0 in /usr/local/lib/python3.10/dist-packages (from aiohttp->openai==0.28) (4.0.3)\n"
          ]
        }
      ]
    },
    {
      "cell_type": "code",
      "source": [
        "import os\n",
        "import openai\n",
        "\n",
        "openai.api_key = \"sk-proj----\" #put your own openaikey\n",
        "\n",
        "openai.ChatCompletion.create(\n",
        "  model=\"gpt-3.5-turbo\",\n",
        "  messages=[\n",
        "    {\"role\": \"user\", \"content\": \"Hello ChatGPT, does this work?\"}\n",
        "  ]\n",
        "  )"
      ],
      "metadata": {
        "id": "Ph5dIEvIkqD5",
        "outputId": "737f443f-79c3-46ae-861f-e3205fcbf2f0",
        "colab": {
          "base_uri": "https://localhost:8080/"
        }
      },
      "execution_count": 16,
      "outputs": [
        {
          "output_type": "execute_result",
          "data": {
            "text/plain": [
              "<OpenAIObject chat.completion id=chatcmpl-9n0pZCdwbrkG8ybLdPKQDoWvJ1UGt at 0x7b81cc3891c0> JSON: {\n",
              "  \"id\": \"chatcmpl-9n0pZCdwbrkG8ybLdPKQDoWvJ1UGt\",\n",
              "  \"object\": \"chat.completion\",\n",
              "  \"created\": 1721468293,\n",
              "  \"model\": \"gpt-3.5-turbo-0125\",\n",
              "  \"choices\": [\n",
              "    {\n",
              "      \"index\": 0,\n",
              "      \"message\": {\n",
              "        \"role\": \"assistant\",\n",
              "        \"content\": \"Hello! Yes, it seems to be working fine. How can I assist you today?\"\n",
              "      },\n",
              "      \"logprobs\": null,\n",
              "      \"finish_reason\": \"stop\"\n",
              "    }\n",
              "  ],\n",
              "  \"usage\": {\n",
              "    \"prompt_tokens\": 16,\n",
              "    \"completion_tokens\": 18,\n",
              "    \"total_tokens\": 34\n",
              "  },\n",
              "  \"system_fingerprint\": null\n",
              "}"
            ]
          },
          "metadata": {},
          "execution_count": 16
        }
      ]
    },
    {
      "cell_type": "code",
      "source": [
        "OPENAI_APIKEY = openai.api_key"
      ],
      "metadata": {
        "id": "EDxC8qvrmGZa"
      },
      "execution_count": null,
      "outputs": []
    },
    {
      "cell_type": "code",
      "execution_count": 17,
      "metadata": {
        "id": "3UiFHs_CkMtS",
        "outputId": "833f678d-9941-493e-e64e-4edf563a7867",
        "colab": {
          "base_uri": "https://localhost:8080/"
        }
      },
      "outputs": [
        {
          "output_type": "stream",
          "name": "stderr",
          "text": [
            "INFO:weaviate-client:embedded weaviate is already listening on port 8079\n"
          ]
        }
      ],
      "source": [
        "# For using embedded\n",
        "import weaviate\n",
        "from weaviate.embedded import EmbeddedOptions\n",
        "import json\n",
        "import os\n",
        "\n",
        "client = weaviate.Client(\n",
        "    embedded_options=EmbeddedOptions(),\n",
        "    additional_headers = {\n",
        "        \"X-OpenAI-Api-Key\": openai.api_key # Replace with your inference API key\n",
        "    }\n",
        ")"
      ]
    },
    {
      "cell_type": "markdown",
      "metadata": {
        "id": "Utlr1RZnkMtT"
      },
      "source": [
        "### Create a class"
      ]
    },
    {
      "cell_type": "code",
      "execution_count": 18,
      "metadata": {
        "id": "pLFLqTKnkMtT"
      },
      "outputs": [],
      "source": [
        "if client.schema.exists(\"Question\"):\n",
        "    client.schema.delete_class(\"Question\")"
      ]
    },
    {
      "cell_type": "code",
      "execution_count": 19,
      "metadata": {
        "id": "VQhTCWSTkMtT"
      },
      "outputs": [],
      "source": [
        "class_obj = {\n",
        "    \"class\": \"Question\",\n",
        "    \"vectorizer\": \"text2vec-openai\",\n",
        "    \"moduleConfig\": {\n",
        "        \"text2vec-openai\": {},\n",
        "        \"generative-openai\": {}\n",
        "    }\n",
        "}\n",
        "\n",
        "client.schema.create_class(class_obj)"
      ]
    },
    {
      "cell_type": "code",
      "source": [
        "class_obj"
      ],
      "metadata": {
        "id": "fXClmqcrmttJ",
        "outputId": "74d67974-41f1-4afa-ac9a-425e7cbdd564",
        "colab": {
          "base_uri": "https://localhost:8080/"
        }
      },
      "execution_count": 20,
      "outputs": [
        {
          "output_type": "execute_result",
          "data": {
            "text/plain": [
              "{'class': 'Question',\n",
              " 'vectorizer': 'text2vec-openai',\n",
              " 'moduleConfig': {'text2vec-openai': {}, 'generative-openai': {}}}"
            ]
          },
          "metadata": {},
          "execution_count": 20
        }
      ]
    },
    {
      "cell_type": "markdown",
      "metadata": {
        "id": "--4MxRh3kMtU"
      },
      "source": [
        "### Add objects\n",
        "\n",
        "We'll add objects to our Weaviate instance using a batch import process.\n",
        "\n",
        "We shows you two options, where you can either:\n",
        "- Have Weaviate create vectors, or\n",
        "- Specify custom vectors."
      ]
    },
    {
      "cell_type": "markdown",
      "metadata": {
        "id": "MgkxG26JkMtU"
      },
      "source": [
        "#### Have Weaviate create vectors (with `text2vec-openai`)"
      ]
    },
    {
      "cell_type": "code",
      "execution_count": 21,
      "metadata": {
        "id": "gsH08hkGkMtU",
        "outputId": "ac64de72-e0da-46b5-e5f1-93188a27b69a",
        "colab": {
          "base_uri": "https://localhost:8080/"
        }
      },
      "outputs": [
        {
          "output_type": "stream",
          "name": "stdout",
          "text": [
            "importing question: 1\n",
            "importing question: 2\n",
            "importing question: 3\n",
            "importing question: 4\n",
            "importing question: 5\n",
            "importing question: 6\n",
            "importing question: 7\n",
            "importing question: 8\n",
            "importing question: 9\n",
            "importing question: 10\n"
          ]
        }
      ],
      "source": [
        "# Load data\n",
        "import requests\n",
        "url = 'https://raw.githubusercontent.com/weaviate-tutorials/quickstart/main/data/jeopardy_tiny.json'\n",
        "resp = requests.get(url)\n",
        "data = json.loads(resp.text)\n",
        "\n",
        "# Configure a batch process\n",
        "with client.batch(\n",
        "    batch_size=100\n",
        ") as batch:\n",
        "    # Batch import all Questions\n",
        "    for i, d in enumerate(data):\n",
        "        print(f\"importing question: {i+1}\")\n",
        "\n",
        "        properties = {\n",
        "            \"answer\": d[\"Answer\"],\n",
        "            \"question\": d[\"Question\"],\n",
        "            \"category\": d[\"Category\"],\n",
        "        }\n",
        "\n",
        "        client.batch.add_data_object(\n",
        "            properties,\n",
        "            \"Question\",\n",
        "        )"
      ]
    },
    {
      "cell_type": "markdown",
      "source": [
        "### **Extract one questions** and get the lenght of dimensions"
      ],
      "metadata": {
        "id": "NUPFFdP1i3p1"
      }
    },
    {
      "cell_type": "code",
      "source": [
        "result = client.query.get(\"Question\", ['category', 'question', 'answer']).with_additional('vector').with_limit(1).do()\n",
        "\n"
      ],
      "metadata": {
        "id": "0U2pekQHi6V1"
      },
      "execution_count": 31,
      "outputs": []
    },
    {
      "cell_type": "code",
      "source": [
        "result"
      ],
      "metadata": {
        "collapsed": true,
        "id": "dyyPZUY7ghyg"
      },
      "execution_count": null,
      "outputs": []
    },
    {
      "cell_type": "code",
      "source": [
        "result['data']['Get']['Question'][0]['question']"
      ],
      "metadata": {
        "colab": {
          "base_uri": "https://localhost:8080/",
          "height": 35
        },
        "id": "OvAdGSm_jR-e",
        "outputId": "b7136484-3ef5-40c2-ca60-e8256dce0448"
      },
      "execution_count": 36,
      "outputs": [
        {
          "output_type": "execute_result",
          "data": {
            "text/plain": [
              "\"2000 news: the Gunnison sage grouse isn't just another northern sage grouse, but a new one of this classification\""
            ],
            "application/vnd.google.colaboratory.intrinsic+json": {
              "type": "string"
            }
          },
          "metadata": {},
          "execution_count": 36
        }
      ]
    },
    {
      "cell_type": "code",
      "source": [
        "\n",
        "result['data']['Get']['Question'][0]['answer']"
      ],
      "metadata": {
        "colab": {
          "base_uri": "https://localhost:8080/",
          "height": 35
        },
        "id": "v7P1Uz8wjG8f",
        "outputId": "6dc2f9ec-c9a0-408a-8b80-dbbe438830a0"
      },
      "execution_count": 37,
      "outputs": [
        {
          "output_type": "execute_result",
          "data": {
            "text/plain": [
              "'species'"
            ],
            "application/vnd.google.colaboratory.intrinsic+json": {
              "type": "string"
            }
          },
          "metadata": {},
          "execution_count": 37
        }
      ]
    },
    {
      "cell_type": "code",
      "source": [
        "len(result['data']['Get']['Question'][0]['_additional']['vector'])"
      ],
      "metadata": {
        "colab": {
          "base_uri": "https://localhost:8080/"
        },
        "id": "uI6iQDM6jcld",
        "outputId": "a9972121-ecce-413e-ec99-af30616b12ab"
      },
      "execution_count": 39,
      "outputs": [
        {
          "output_type": "execute_result",
          "data": {
            "text/plain": [
              "1536"
            ]
          },
          "metadata": {},
          "execution_count": 39
        }
      ]
    },
    {
      "cell_type": "code",
      "source": [
        "result['data']['Get']['Question'][0]['_additional']['vector']"
      ],
      "metadata": {
        "colab": {
          "base_uri": "https://localhost:8080/"
        },
        "id": "99tr1XRNjrAC",
        "outputId": "dd2a0ba0-c47f-4405-ec35-f796d08b9f6f"
      },
      "execution_count": 40,
      "outputs": [
        {
          "output_type": "execute_result",
          "data": {
            "text/plain": [
              "[-0.003701081,\n",
              " 0.014764058,\n",
              " -0.0030920636,\n",
              " -0.00989863,\n",
              " 0.002697796,\n",
              " 0.017757136,\n",
              " -0.010214045,\n",
              " -0.01887115,\n",
              " -0.021501837,\n",
              " -0.025555244,\n",
              " -0.020065699,\n",
              " 0.012676958,\n",
              " -0.011106599,\n",
              " -0.008697373,\n",
              " 0.015945183,\n",
              " 0.034091555,\n",
              " 0.029367056,\n",
              " 0.0087309275,\n",
              " 0.027152447,\n",
              " -0.0035970616,\n",
              " -0.017958464,\n",
              " 0.029420743,\n",
              " 0.001456273,\n",
              " -0.017569229,\n",
              " 0.0045802137,\n",
              " 0.023568807,\n",
              " 0.008039701,\n",
              " -0.011985731,\n",
              " -0.020978386,\n",
              " 0.027152447,\n",
              " -0.00824774,\n",
              " 0.02653504,\n",
              " -0.008831591,\n",
              " -0.020548886,\n",
              " -0.01649548,\n",
              " -0.01828059,\n",
              " 0.00430171,\n",
              " -0.031219274,\n",
              " 0.022172932,\n",
              " -0.025259962,\n",
              " 0.018897995,\n",
              " 0.011985731,\n",
              " -0.002498146,\n",
              " -0.0055465885,\n",
              " -0.013878215,\n",
              " -0.007878639,\n",
              " -0.0061069517,\n",
              " -0.006009643,\n",
              " -0.007992725,\n",
              " 0.012650114,\n",
              " 0.005462702,\n",
              " 0.00408696,\n",
              " -0.028964398,\n",
              " -0.014294293,\n",
              " -0.015408308,\n",
              " -0.008073255,\n",
              " 0.010851583,\n",
              " -0.013864793,\n",
              " -0.0034292883,\n",
              " -0.0012054518,\n",
              " -0.014146653,\n",
              " -0.0045433035,\n",
              " -0.027595367,\n",
              " 0.029098617,\n",
              " -0.010046271,\n",
              " -0.008153787,\n",
              " -0.016804183,\n",
              " -0.008073255,\n",
              " 0.0017138052,\n",
              " -0.017179996,\n",
              " 0.02101865,\n",
              " 0.005724428,\n",
              " 0.027165867,\n",
              " -0.0131400125,\n",
              " 0.039540835,\n",
              " -0.017314214,\n",
              " -0.017112887,\n",
              " -0.012717224,\n",
              " 0.01964962,\n",
              " -0.0049728034,\n",
              " 0.02610554,\n",
              " -0.033608366,\n",
              " -0.027300086,\n",
              " 0.013113168,\n",
              " 0.024763353,\n",
              " 0.009697302,\n",
              " -0.006476053,\n",
              " 0.020105964,\n",
              " -0.011878356,\n",
              " 0.003222927,\n",
              " 0.037715457,\n",
              " 0.009965739,\n",
              " 0.010079825,\n",
              " 0.0067545567,\n",
              " -0.031944055,\n",
              " 0.012005864,\n",
              " 0.0040265615,\n",
              " 0.009804677,\n",
              " -0.0043486864,\n",
              " -0.03699068,\n",
              " -0.01583781,\n",
              " 0.001311988,\n",
              " 0.0043923073,\n",
              " -0.011039489,\n",
              " -0.017394746,\n",
              " -0.022844026,\n",
              " 0.00039154117,\n",
              " 0.00838867,\n",
              " 0.004029917,\n",
              " -0.01441509,\n",
              " -0.0030618645,\n",
              " 0.013623199,\n",
              " 0.008549732,\n",
              " -0.038842898,\n",
              " 0.021689745,\n",
              " -0.019931478,\n",
              " 0.015797542,\n",
              " 0.021005228,\n",
              " 0.009086607,\n",
              " -0.01657601,\n",
              " 0.038923427,\n",
              " -0.009797966,\n",
              " 0.022830604,\n",
              " -0.021112604,\n",
              " 0.01915301,\n",
              " 0.034950554,\n",
              " -0.00781824,\n",
              " 0.00090597634,\n",
              " -0.010052982,\n",
              " -0.00059685385,\n",
              " 0.0013648366,\n",
              " 0.01828059,\n",
              " 0.021474995,\n",
              " 0.016441792,\n",
              " -0.0199449,\n",
              " -0.0027263176,\n",
              " -0.0019763706,\n",
              " 0.017394746,\n",
              " 0.013415161,\n",
              " -0.018186636,\n",
              " -0.0051305103,\n",
              " 0.030413961,\n",
              " -0.026910853,\n",
              " 0.005288217,\n",
              " 0.003922542,\n",
              " 0.011811247,\n",
              " 0.043513708,\n",
              " 0.013999012,\n",
              " 0.011448856,\n",
              " 0.011965599,\n",
              " -0.00039300916,\n",
              " 0.014911699,\n",
              " 0.045016956,\n",
              " -0.010220755,\n",
              " 0.0058351588,\n",
              " -0.002610554,\n",
              " -0.0059358226,\n",
              " 0.018468495,\n",
              " -0.012435364,\n",
              " 0.001563648,\n",
              " 0.013133301,\n",
              " 0.006905553,\n",
              " 0.009737568,\n",
              " 0.007194123,\n",
              " 0.011240818,\n",
              " 0.01935434,\n",
              " 0.0016215298,\n",
              " -0.006972662,\n",
              " 0.007294787,\n",
              " 0.0006392166,\n",
              " -0.004868784,\n",
              " 0.006784756,\n",
              " -0.0011937077,\n",
              " 0.033742584,\n",
              " 0.03750071,\n",
              " 0.010422084,\n",
              " -0.0143345585,\n",
              " 0.0021558881,\n",
              " -0.0036339718,\n",
              " -0.023984885,\n",
              " -0.005315061,\n",
              " 0.0008950711,\n",
              " 0.019059058,\n",
              " 0.018481918,\n",
              " -0.026977962,\n",
              " -0.0031373624,\n",
              " 0.003600417,\n",
              " -0.010979091,\n",
              " 0.008549732,\n",
              " 0.012744067,\n",
              " 0.009193982,\n",
              " 0.008650396,\n",
              " 0.0030366983,\n",
              " 0.009120162,\n",
              " -0.65713483,\n",
              " -0.017045777,\n",
              " 0.024790198,\n",
              " 0.0018438296,\n",
              " 0.030601867,\n",
              " 0.028534899,\n",
              " 0.0038118116,\n",
              " -0.013811106,\n",
              " -0.023031931,\n",
              " 0.0070733265,\n",
              " -0.0025132454,\n",
              " 0.0137372855,\n",
              " -0.0053888815,\n",
              " -0.0044359285,\n",
              " -0.0066438266,\n",
              " -0.024414385,\n",
              " 0.028642274,\n",
              " -0.022105822,\n",
              " 0.01722026,\n",
              " 0.0027481283,\n",
              " -0.026280025,\n",
              " 0.014025856,\n",
              " 0.012502474,\n",
              " 0.013220543,\n",
              " 0.016696809,\n",
              " 0.018334277,\n",
              " 0.001589653,\n",
              " -0.012609849,\n",
              " 0.004962737,\n",
              " -0.009838232,\n",
              " -0.019918058,\n",
              " 0.039862957,\n",
              " -0.007449139,\n",
              " -0.02524654,\n",
              " 0.0345479,\n",
              " -0.0037614794,\n",
              " 0.0088919895,\n",
              " 0.031890366,\n",
              " 0.027085336,\n",
              " 0.026548462,\n",
              " -0.014039278,\n",
              " -0.010703943,\n",
              " 0.0066069164,\n",
              " -0.019340917,\n",
              " -0.0025568665,\n",
              " 0.019904636,\n",
              " 0.007663889,\n",
              " -0.0047949636,\n",
              " 0.010851583,\n",
              " -0.03444052,\n",
              " 0.026951117,\n",
              " 0.020857587,\n",
              " 0.013314497,\n",
              " 0.012938684,\n",
              " -0.002503179,\n",
              " -0.0010125125,\n",
              " 0.004100382,\n",
              " -0.0019696597,\n",
              " -0.00968388,\n",
              " 0.019542245,\n",
              " -0.014146653,\n",
              " -0.0016198521,\n",
              " 0.00803299,\n",
              " -0.017904777,\n",
              " -0.013670176,\n",
              " 0.019018792,\n",
              " -0.043486863,\n",
              " -0.012791043,\n",
              " 0.016911559,\n",
              " -0.018978527,\n",
              " 0.00034750064,\n",
              " 0.0118313795,\n",
              " -0.014186918,\n",
              " 0.00057210727,\n",
              " -0.00034099942,\n",
              " 0.034896865,\n",
              " 0.0005171615,\n",
              " -0.0017750425,\n",
              " -0.008334982,\n",
              " 0.013797684,\n",
              " -0.012871575,\n",
              " 0.0007780491,\n",
              " -0.004623835,\n",
              " -0.018978527,\n",
              " 0.033796273,\n",
              " -0.03835971,\n",
              " -0.0009814744,\n",
              " 0.0153143555,\n",
              " 0.016092824,\n",
              " -0.0143345585,\n",
              " 0.008670529,\n",
              " 0.014361403,\n",
              " -0.016669964,\n",
              " 0.0032296379,\n",
              " 0.007522959,\n",
              " -0.007194123,\n",
              " 0.0014537565,\n",
              " -0.018656401,\n",
              " 0.008381959,\n",
              " -0.0433258,\n",
              " -0.0021676323,\n",
              " -0.00015655355,\n",
              " 0.025622353,\n",
              " 0.0043788855,\n",
              " -0.0013170211,\n",
              " 0.0081336545,\n",
              " -0.023515118,\n",
              " -0.004180913,\n",
              " 0.019394604,\n",
              " -0.019166432,\n",
              " 0.023085618,\n",
              " 0.015515683,\n",
              " -0.009160427,\n",
              " 0.004003073,\n",
              " -0.021434728,\n",
              " -0.02496468,\n",
              " 0.028159086,\n",
              " 0.0036876593,\n",
              " -0.012683668,\n",
              " -0.0036239054,\n",
              " 0.01958251,\n",
              " -0.0011450534,\n",
              " 0.017985309,\n",
              " -0.0195154,\n",
              " 0.0016324351,\n",
              " 0.028561743,\n",
              " -0.0074625607,\n",
              " -0.027998025,\n",
              " -0.0066505373,\n",
              " -0.029393898,\n",
              " 0.012187059,\n",
              " -0.018334277,\n",
              " 0.011019357,\n",
              " -0.006727713,\n",
              " 0.012395099,\n",
              " 0.018468495,\n",
              " 0.012898418,\n",
              " 0.015287512,\n",
              " 0.017555809,\n",
              " -0.021407885,\n",
              " -0.030467648,\n",
              " -0.0060431976,\n",
              " 0.011415302,\n",
              " -0.01505934,\n",
              " -0.010307997,\n",
              " -0.020750213,\n",
              " -0.0242399,\n",
              " 0.009140295,\n",
              " -0.04088302,\n",
              " -0.020414667,\n",
              " -0.0031004522,\n",
              " -0.011079755,\n",
              " -0.01829401,\n",
              " 0.00019409285,\n",
              " 0.004939249,\n",
              " 0.017676605,\n",
              " -0.0005066756,\n",
              " -0.013442004,\n",
              " -0.010764341,\n",
              " -0.001708772,\n",
              " 0.022481635,\n",
              " 0.014683528,\n",
              " -0.011381747,\n",
              " -0.016253887,\n",
              " -0.010945536,\n",
              " -0.0162002,\n",
              " -0.037903365,\n",
              " 0.030306585,\n",
              " -0.006368678,\n",
              " -0.014938543,\n",
              " -0.0067344243,\n",
              " -0.011542809,\n",
              " -0.0013128268,\n",
              " 0.00939531,\n",
              " 0.014213762,\n",
              " -0.026078697,\n",
              " -0.028293306,\n",
              " 0.0035702179,\n",
              " -0.032158803,\n",
              " -0.019273808,\n",
              " -0.009019498,\n",
              " 0.010563013,\n",
              " -0.014978808,\n",
              " -0.0036272607,\n",
              " -0.011683739,\n",
              " -0.009536239,\n",
              " 0.022750072,\n",
              " 0.011811247,\n",
              " 0.016898137,\n",
              " 0.03543374,\n",
              " -0.0006832571,\n",
              " 0.004566792,\n",
              " -0.011623341,\n",
              " 0.02044151,\n",
              " -0.014307715,\n",
              " -0.020307291,\n",
              " 0.0059693772,\n",
              " 0.014401668,\n",
              " -0.002402515,\n",
              " 0.020696526,\n",
              " 0.0225219,\n",
              " -0.028964398,\n",
              " -0.00026843743,\n",
              " -0.014562731,\n",
              " 0.034601584,\n",
              " -0.018978527,\n",
              " 0.004509749,\n",
              " -0.015435153,\n",
              " 0.0029712669,\n",
              " 0.007341764,\n",
              " 0.016455214,\n",
              " -0.010267732,\n",
              " -0.013650043,\n",
              " -0.030628711,\n",
              " 0.011012645,\n",
              " -0.0006262142,\n",
              " -0.011985731,\n",
              " -0.015086183,\n",
              " -0.008274584,\n",
              " -0.0015040885,\n",
              " -0.0010041237,\n",
              " 0.00022943012,\n",
              " 0.0025468,\n",
              " 0.020052277,\n",
              " -0.01154952,\n",
              " 0.010958958,\n",
              " 0.009019498,\n",
              " 0.017676605,\n",
              " 0.012710513,\n",
              " -0.020334136,\n",
              " 0.00199147,\n",
              " 0.015717011,\n",
              " 0.007637045,\n",
              " 0.0051674205,\n",
              " 0.010683809,\n",
              " -0.0076840213,\n",
              " 0.01986437,\n",
              " -0.026306868,\n",
              " 0.02101865,\n",
              " 0.0051003112,\n",
              " 0.0069458187,\n",
              " -0.0064794086,\n",
              " 0.023984885,\n",
              " -0.01720684,\n",
              " 0.04490958,\n",
              " -0.00078392116,\n",
              " 0.012462208,\n",
              " 0.0028454368,\n",
              " -0.015945183,\n",
              " 0.0034527765,\n",
              " -0.022709807,\n",
              " -0.011066333,\n",
              " 0.003456132,\n",
              " 0.009777834,\n",
              " 0.013891637,\n",
              " -0.010938825,\n",
              " 0.002994755,\n",
              " 0.021474995,\n",
              " 0.0103616845,\n",
              " 0.02925968,\n",
              " 0.0066069164,\n",
              " -0.007422295,\n",
              " 0.014616418,\n",
              " -0.0080262795,\n",
              " 0.02151526,\n",
              " 0.0246694,\n",
              " -0.015810965,\n",
              " -0.033742584,\n",
              " 0.0078048185,\n",
              " 0.00416078,\n",
              " -0.025474712,\n",
              " 0.0021491772,\n",
              " -0.0007700799,\n",
              " -0.026642416,\n",
              " 0.021407885,\n",
              " 0.0068216664,\n",
              " -0.009563084,\n",
              " 0.013757418,\n",
              " 0.015045918,\n",
              " -0.01722026,\n",
              " -0.0067344243,\n",
              " -0.015676746,\n",
              " 0.020253604,\n",
              " 0.0027665833,\n",
              " -0.01699209,\n",
              " 0.004976159,\n",
              " -0.0069189747,\n",
              " 0.0097644115,\n",
              " -0.031219274,\n",
              " 0.0424668,\n",
              " 0.018736932,\n",
              " 0.0066740257,\n",
              " -0.008402091,\n",
              " 0.012442075,\n",
              " 0.0032162159,\n",
              " -0.022937978,\n",
              " 0.01956909,\n",
              " 0.0026625637,\n",
              " -0.007643756,\n",
              " 0.017354479,\n",
              " 0.007831662,\n",
              " -0.012039418,\n",
              " 0.0073484746,\n",
              " -0.0014051022,\n",
              " 0.024682822,\n",
              " -0.0062713693,\n",
              " -0.0050902446,\n",
              " -0.021609213,\n",
              " 0.006828377,\n",
              " -0.0018471851,\n",
              " 0.0018069195,\n",
              " -0.03457474,\n",
              " -0.015327778,\n",
              " -0.02288429,\n",
              " -0.021045495,\n",
              " 0.011428724,\n",
              " 0.0011609918,\n",
              " -0.002150855,\n",
              " 0.027622212,\n",
              " -0.004187624,\n",
              " -0.004617124,\n",
              " -0.026655836,\n",
              " -0.030709242,\n",
              " -0.017045777,\n",
              " 0.07231704,\n",
              " 0.015045918,\n",
              " -0.016482059,\n",
              " 0.021971604,\n",
              " -0.006046553,\n",
              " -0.026642416,\n",
              " -0.03183668,\n",
              " 0.0030299874,\n",
              " 0.013173567,\n",
              " -0.020092541,\n",
              " -0.0018018862,\n",
              " 0.027447727,\n",
              " 0.011757559,\n",
              " 0.007925615,\n",
              " 0.022011869,\n",
              " 0.0022112534,\n",
              " -0.0058989124,\n",
              " -0.02402515,\n",
              " -0.00967717,\n",
              " -0.027568525,\n",
              " 0.012354833,\n",
              " 0.010066404,\n",
              " 0.0020770347,\n",
              " 0.029152306,\n",
              " 0.00080069853,\n",
              " -0.02359565,\n",
              " 0.023515118,\n",
              " 0.0067075803,\n",
              " 0.023286948,\n",
              " -0.024615712,\n",
              " -0.015529105,\n",
              " 0.0007054871,\n",
              " 0.0010527781,\n",
              " -0.0033907003,\n",
              " -0.0019763706,\n",
              " -0.0034796202,\n",
              " 0.0060566193,\n",
              " -0.016079402,\n",
              " -0.0077645527,\n",
              " -0.00624117,\n",
              " 0.038091272,\n",
              " 0.0071538575,\n",
              " 0.028239617,\n",
              " -0.023850666,\n",
              " -0.005922401,\n",
              " 0.0013983912,\n",
              " -0.0022380971,\n",
              " 0.015300933,\n",
              " -0.011844802,\n",
              " -0.031756148,\n",
              " 0.0022867513,\n",
              " -0.0038789208,\n",
              " 0.012522606,\n",
              " -0.0187772,\n",
              " 0.023300368,\n",
              " -0.0003254804,\n",
              " -0.013025926,\n",
              " -0.0049157604,\n",
              " -0.026293447,\n",
              " -0.023662759,\n",
              " -0.049392488,\n",
              " -0.030172367,\n",
              " 0.0055902093,\n",
              " -0.004633901,\n",
              " -0.048372425,\n",
              " -0.0063217017,\n",
              " -0.012133372,\n",
              " 0.005442569,\n",
              " -0.014079543,\n",
              " -0.0036104834,\n",
              " 0.011992442,\n",
              " -0.043003675,\n",
              " 0.002521634,\n",
              " -0.013837949,\n",
              " 0.03342046,\n",
              " 0.012180349,\n",
              " 0.011005934,\n",
              " 0.010556302,\n",
              " 0.020844167,\n",
              " 0.017743714,\n",
              " 0.010992513,\n",
              " -0.010563013,\n",
              " -0.0038420106,\n",
              " -0.008408803,\n",
              " 0.0229514,\n",
              " -0.012381677,\n",
              " 0.0015661647,\n",
              " -0.006747846,\n",
              " -0.007616912,\n",
              " -0.0010603279,\n",
              " -0.0011509255,\n",
              " -0.0004022367,\n",
              " 0.008616841,\n",
              " -0.008227607,\n",
              " 0.018012151,\n",
              " 0.009663748,\n",
              " 0.0041037374,\n",
              " 0.019891214,\n",
              " 0.0025803547,\n",
              " -0.011012645,\n",
              " 0.002925968,\n",
              " -0.0037480576,\n",
              " -0.0121065285,\n",
              " -0.021407885,\n",
              " 0.00068829034,\n",
              " 0.0094959745,\n",
              " 0.0076705995,\n",
              " 0.003650749,\n",
              " -0.002098845,\n",
              " 0.0060834633,\n",
              " 0.025850525,\n",
              " -0.020924699,\n",
              " 0.008368537,\n",
              " 4.2126852e-05,\n",
              " -0.00024851435,\n",
              " -0.013582934,\n",
              " 0.012616559,\n",
              " 0.01355609,\n",
              " -0.013388317,\n",
              " -0.013562801,\n",
              " 0.0068216664,\n",
              " 0.00067822397,\n",
              " 0.009012787,\n",
              " 0.028266462,\n",
              " -0.0087846145,\n",
              " 0.038520772,\n",
              " -0.0029544896,\n",
              " -0.006828377,\n",
              " -0.03170246,\n",
              " -0.0071538575,\n",
              " 0.006778045,\n",
              " 0.025877368,\n",
              " -0.012388388,\n",
              " -0.03929924,\n",
              " -0.0042983545,\n",
              " -0.01621362,\n",
              " -0.020173073,\n",
              " 0.020454932,\n",
              " -0.0242399,\n",
              " -0.026722947,\n",
              " -0.021850808,\n",
              " -0.009093318,\n",
              " -0.0051170886,\n",
              " 0.012884997,\n",
              " 0.042332582,\n",
              " -0.023286948,\n",
              " -0.017193418,\n",
              " 0.015113028,\n",
              " 0.00451646,\n",
              " 0.0045701475,\n",
              " -0.020481776,\n",
              " -0.035541117,\n",
              " 0.010059693,\n",
              " -0.011468989,\n",
              " 0.016723651,\n",
              " -0.0390308,\n",
              " -0.015327778,\n",
              " -0.004603702,\n",
              " 0.010576434,\n",
              " 0.027568525,\n",
              " 0.021246823,\n",
              " -0.0358364,\n",
              " -0.0042916434,\n",
              " 0.008985943,\n",
              " 0.006818311,\n",
              " 0.015461996,\n",
              " -0.011952177,\n",
              " 0.015408308,\n",
              " -0.027702743,\n",
              " 0.01728737,\n",
              " -0.011166997,\n",
              " -0.029501274,\n",
              " 0.005979444,\n",
              " -0.004325198,\n",
              " 0.0014738892,\n",
              " 0.026065275,\n",
              " -0.015019074,\n",
              " -0.00989863,\n",
              " -0.024521759,\n",
              " -0.033796273,\n",
              " -0.010838161,\n",
              " -0.01684445,\n",
              " -0.00017846895,\n",
              " -0.007791396,\n",
              " -0.025904212,\n",
              " -0.021099182,\n",
              " 0.034467366,\n",
              " 0.004422507,\n",
              " -0.0021424661,\n",
              " -0.01305277,\n",
              " 0.039191864,\n",
              " -0.0019881148,\n",
              " 0.024803618,\n",
              " -0.005717717,\n",
              " -0.0017867866,\n",
              " -0.034601584,\n",
              " 0.0031356846,\n",
              " -0.026830321,\n",
              " 0.012495763,\n",
              " -0.0042480226,\n",
              " 0.00968388,\n",
              " 0.035245836,\n",
              " 0.0053687487,\n",
              " -0.01248234,\n",
              " 0.0011878356,\n",
              " 0.024978103,\n",
              " -0.008898701,\n",
              " 0.0060633305,\n",
              " 0.006590139,\n",
              " -0.03457474,\n",
              " -0.013905059,\n",
              " -0.028749648,\n",
              " -0.026642416,\n",
              " -0.032158803,\n",
              " 0.03521899,\n",
              " 0.0075900685,\n",
              " 0.006898842,\n",
              " 0.016253887,\n",
              " 0.0060834633,\n",
              " -0.014562731,\n",
              " 0.02331379,\n",
              " -0.00398294,\n",
              " 0.042788927,\n",
              " 0.0023756712,\n",
              " 0.016012292,\n",
              " 0.028373836,\n",
              " -0.008194053,\n",
              " -0.03406471,\n",
              " 0.025635775,\n",
              " 0.00026990546,\n",
              " 0.004949315,\n",
              " 0.015461996,\n",
              " -0.007408873,\n",
              " -0.0054828343,\n",
              " -0.019126168,\n",
              " 0.0041070925,\n",
              " 0.010348263,\n",
              " -0.023689603,\n",
              " -0.053177454,\n",
              " 0.019206699,\n",
              " -0.025595509,\n",
              " 0.0081873415,\n",
              " -0.019032214,\n",
              " -0.023488276,\n",
              " -0.005650608,\n",
              " 0.0016257241,\n",
              " 0.01377084,\n",
              " 0.011086466,\n",
              " -0.00036364884,\n",
              " -0.014710371,\n",
              " -0.014401668,\n",
              " 0.008724216,\n",
              " -0.020535463,\n",
              " 0.01634784,\n",
              " 0.008093389,\n",
              " 0.0027967824,\n",
              " 0.0060566193,\n",
              " -0.014347981,\n",
              " -0.010079825,\n",
              " -0.0020569018,\n",
              " 0.006274725,\n",
              " 0.034386836,\n",
              " -0.011992442,\n",
              " -0.036775928,\n",
              " 0.015247246,\n",
              " -0.0053519714,\n",
              " -0.023260104,\n",
              " 0.0010477449,\n",
              " -0.012515895,\n",
              " 0.034655273,\n",
              " -0.033098336,\n",
              " -0.010234177,\n",
              " 0.0022380971,\n",
              " 0.016227042,\n",
              " 0.018535605,\n",
              " 0.006680737,\n",
              " -0.010261021,\n",
              " -0.0013438648,\n",
              " -0.012958817,\n",
              " -0.020964963,\n",
              " 0.015864652,\n",
              " 0.0063217017,\n",
              " 0.006818311,\n",
              " -0.0013866471,\n",
              " -0.0051539987,\n",
              " 0.0028336926,\n",
              " -0.021219978,\n",
              " -0.0067042247,\n",
              " -0.021904495,\n",
              " -0.01657601,\n",
              " 0.014884856,\n",
              " -0.0053687487,\n",
              " -0.0183477,\n",
              " 0.014052699,\n",
              " 0.028159086,\n",
              " -0.015099606,\n",
              " -0.0077578416,\n",
              " 0.032883584,\n",
              " -0.017770559,\n",
              " 0.019273808,\n",
              " 0.004560081,\n",
              " 0.004402374,\n",
              " -0.011750849,\n",
              " 0.005315061,\n",
              " 0.021206558,\n",
              " -0.029125461,\n",
              " 0.0034326436,\n",
              " -0.036051147,\n",
              " -0.009589927,\n",
              " 0.0029041574,\n",
              " 0.0016844448,\n",
              " 0.011408591,\n",
              " 0.0018052417,\n",
              " -0.011435434,\n",
              " 0.024213057,\n",
              " 0.012723934,\n",
              " 0.011113309,\n",
              " -0.02646793,\n",
              " -0.025555244,\n",
              " 0.03277621,\n",
              " 0.013186988,\n",
              " -0.014240606,\n",
              " 0.014884856,\n",
              " -0.009046341,\n",
              " 0.021032073,\n",
              " -0.036373273,\n",
              " 0.010509325,\n",
              " 0.019770417,\n",
              " -0.04568805,\n",
              " -0.009999295,\n",
              " -0.01369702,\n",
              " 0.010643544,\n",
              " 0.0004158683,\n",
              " 0.0025618998,\n",
              " -0.011073044,\n",
              " -0.000551555,\n",
              " -0.041205145,\n",
              " 0.015327778,\n",
              " -0.0005247113,\n",
              " -0.023072198,\n",
              " -0.014965387,\n",
              " -0.0004206918,\n",
              " -0.015341199,\n",
              " 0.003008177,\n",
              " -0.0119052,\n",
              " -0.019743573,\n",
              " 0.010274443,\n",
              " -0.02029387,\n",
              " -0.05502967,\n",
              " -0.016012292,\n",
              " -0.00085858034,\n",
              " 0.03205143,\n",
              " 0.014428512,\n",
              " -0.022964822,\n",
              " -0.028642274,\n",
              " 0.012844731,\n",
              " -0.023031931,\n",
              " -0.0030601867,\n",
              " -0.0041440027,\n",
              " 0.0033370128,\n",
              " 0.003563507,\n",
              " 0.020897854,\n",
              " -0.008616841,\n",
              " -0.016441792,\n",
              " 0.008650396,\n",
              " 0.0022414525,\n",
              " -0.0144419335,\n",
              " 0.0012742389,\n",
              " 0.006066686,\n",
              " 0.025072057,\n",
              " 0.023823822,\n",
              " 0.031085055,\n",
              " -0.029877085,\n",
              " -0.010522747,\n",
              " 0.016334418,\n",
              " -0.01684445,\n",
              " 0.0035098195,\n",
              " -0.005472768,\n",
              " -0.031299803,\n",
              " -0.0059995768,\n",
              " -0.008059834,\n",
              " -0.023890931,\n",
              " 0.005939178,\n",
              " 0.008435646,\n",
              " -0.0056438968,\n",
              " -0.0053519714,\n",
              " -0.03269568,\n",
              " 0.008724216,\n",
              " -0.013670176,\n",
              " -0.0398898,\n",
              " 0.011281083,\n",
              " -0.012126661,\n",
              " 0.013294363,\n",
              " 0.042252053,\n",
              " -0.016186778,\n",
              " -0.024092259,\n",
              " -0.008663818,\n",
              " -0.0014579508,\n",
              " 0.010623411,\n",
              " 0.02990393,\n",
              " 0.004503038,\n",
              " 0.037527554,\n",
              " -0.00041293228,\n",
              " -0.015099606,\n",
              " -0.015824387,\n",
              " -0.0028068488,\n",
              " -0.010489193,\n",
              " 0.028239617,\n",
              " 0.0042010457,\n",
              " 0.0066572484,\n",
              " 0.037232272,\n",
              " -0.035541117,\n",
              " 0.018052418,\n",
              " -0.027783275,\n",
              " 0.018629558,\n",
              " -0.013717153,\n",
              " -0.00046431288,\n",
              " -0.019112745,\n",
              " 0.01956909,\n",
              " 0.0127642,\n",
              " -0.020991808,\n",
              " -0.023541963,\n",
              " -0.009670459,\n",
              " 0.010173779,\n",
              " 0.0049929363,\n",
              " -0.024723087,\n",
              " -0.009979161,\n",
              " -0.02883018,\n",
              " 0.009576505,\n",
              " 0.0036608155,\n",
              " -0.0036742373,\n",
              " -0.04037299,\n",
              " -0.0069323964,\n",
              " 0.0050969557,\n",
              " -0.01657601,\n",
              " 0.021394463,\n",
              " 0.19252333,\n",
              " -0.002427681,\n",
              " 0.014146653,\n",
              " 0.04085618,\n",
              " 0.00846249,\n",
              " -0.0043084207,\n",
              " 0.014670106,\n",
              " -0.00057546276,\n",
              " -0.0023874154,\n",
              " 0.010583146,\n",
              " 0.020468354,\n",
              " 0.0034796202,\n",
              " 0.011945466,\n",
              " 0.0027330285,\n",
              " 0.010153646,\n",
              " -0.023139307,\n",
              " -0.00505669,\n",
              " -0.004831874,\n",
              " -0.012019286,\n",
              " -0.008012857,\n",
              " 0.02717929,\n",
              " -0.022360837,\n",
              " 0.022481635,\n",
              " -0.018468495,\n",
              " 0.02021334,\n",
              " -0.002623976,\n",
              " 0.00087493827,\n",
              " -0.0041406476,\n",
              " -0.0032145383,\n",
              " 0.0075632245,\n",
              " -0.030494493,\n",
              " 0.0032011163,\n",
              " 0.0029343567,\n",
              " -0.0087846145,\n",
              " -0.009093318,\n",
              " -0.00055449107,\n",
              " 0.020334136,\n",
              " 0.019327495,\n",
              " 0.010885138,\n",
              " 0.0220924,\n",
              " 0.016294152,\n",
              " -0.014790903,\n",
              " 0.032373555,\n",
              " 0.012327989,\n",
              " -0.003607128,\n",
              " 0.0029058352,\n",
              " ...]"
            ]
          },
          "metadata": {},
          "execution_count": 40
        }
      ]
    },
    {
      "cell_type": "code",
      "source": [
        "import json"
      ],
      "metadata": {
        "id": "Ev3kPZy_tUDZ"
      },
      "execution_count": 22,
      "outputs": []
    },
    {
      "cell_type": "code",
      "source": [
        "def json_print(json_data):\n",
        "    import json  # Import the 'json' module\n",
        "    print(json.dumps(json_data, indent=2))  # Pretty-print the JSON\n"
      ],
      "metadata": {
        "id": "xqrmYZVyocdW"
      },
      "execution_count": 23,
      "outputs": []
    },
    {
      "cell_type": "code",
      "source": [
        "json_print(data)"
      ],
      "metadata": {
        "id": "07TFSuJHte_0",
        "outputId": "86c4a1a1-d8a2-48a9-c04a-7fa1a2adfd52",
        "colab": {
          "base_uri": "https://localhost:8080/"
        }
      },
      "execution_count": 24,
      "outputs": [
        {
          "output_type": "stream",
          "name": "stdout",
          "text": [
            "[\n",
            "  {\n",
            "    \"Category\": \"SCIENCE\",\n",
            "    \"Question\": \"This organ removes excess glucose from the blood & stores it as glycogen\",\n",
            "    \"Answer\": \"Liver\"\n",
            "  },\n",
            "  {\n",
            "    \"Category\": \"ANIMALS\",\n",
            "    \"Question\": \"It's the only living mammal in the order Proboseidea\",\n",
            "    \"Answer\": \"Elephant\"\n",
            "  },\n",
            "  {\n",
            "    \"Category\": \"ANIMALS\",\n",
            "    \"Question\": \"The gavial looks very much like a crocodile except for this bodily feature\",\n",
            "    \"Answer\": \"the nose or snout\"\n",
            "  },\n",
            "  {\n",
            "    \"Category\": \"ANIMALS\",\n",
            "    \"Question\": \"Weighing around a ton, the eland is the largest species of this animal in Africa\",\n",
            "    \"Answer\": \"Antelope\"\n",
            "  },\n",
            "  {\n",
            "    \"Category\": \"ANIMALS\",\n",
            "    \"Question\": \"Heaviest of all poisonous snakes is this North American rattlesnake\",\n",
            "    \"Answer\": \"the diamondback rattler\"\n",
            "  },\n",
            "  {\n",
            "    \"Category\": \"SCIENCE\",\n",
            "    \"Question\": \"2000 news: the Gunnison sage grouse isn't just another northern sage grouse, but a new one of this classification\",\n",
            "    \"Answer\": \"species\"\n",
            "  },\n",
            "  {\n",
            "    \"Category\": \"SCIENCE\",\n",
            "    \"Question\": \"A metal that is ductile can be pulled into this while cold & under pressure\",\n",
            "    \"Answer\": \"wire\"\n",
            "  },\n",
            "  {\n",
            "    \"Category\": \"SCIENCE\",\n",
            "    \"Question\": \"In 1953 Watson & Crick built a model of the molecular structure of this, the gene-carrying substance\",\n",
            "    \"Answer\": \"DNA\"\n",
            "  },\n",
            "  {\n",
            "    \"Category\": \"SCIENCE\",\n",
            "    \"Question\": \"Changes in the tropospheric layer of this are what gives us weather\",\n",
            "    \"Answer\": \"the atmosphere\"\n",
            "  },\n",
            "  {\n",
            "    \"Category\": \"SCIENCE\",\n",
            "    \"Question\": \"In 70-degree air, a plane traveling at about 1,130 feet per second breaks it\",\n",
            "    \"Answer\": \"Sound barrier\"\n",
            "  }\n",
            "]\n"
          ]
        }
      ]
    },
    {
      "cell_type": "code",
      "source": [
        "json_print(client.query.aggregate(\"Question\").with_meta_count().do())"
      ],
      "metadata": {
        "id": "vkBmxgxxnKMS",
        "outputId": "b0e04c48-4825-411c-8a0a-b96b3ed50502",
        "colab": {
          "base_uri": "https://localhost:8080/"
        }
      },
      "execution_count": 25,
      "outputs": [
        {
          "output_type": "stream",
          "name": "stderr",
          "text": [
            "INFO:weaviate-client:Embedded weaviate wasn't listening on ports http:8079 & grpc:50060, so starting embedded weaviate again\n",
            "INFO:weaviate-client:Started /root/.cache/weaviate-embedded: process ID 5858\n"
          ]
        },
        {
          "output_type": "stream",
          "name": "stdout",
          "text": [
            "{\n",
            "  \"data\": {\n",
            "    \"Aggregate\": {\n",
            "      \"Question\": [\n",
            "        {\n",
            "          \"meta\": {\n",
            "            \"count\": 10\n",
            "          }\n",
            "        }\n",
            "      ]\n",
            "    }\n",
            "  }\n",
            "}\n"
          ]
        }
      ]
    },
    {
      "cell_type": "code",
      "source": [
        "json_print(client.query.get(\"Question\",[\"question\",\"answer\"]).with_limit(3).do())"
      ],
      "metadata": {
        "id": "Cd_Rhxkkoxvf",
        "outputId": "42c60112-e959-481c-eda1-4cd5ba9ddf82",
        "colab": {
          "base_uri": "https://localhost:8080/"
        }
      },
      "execution_count": 26,
      "outputs": [
        {
          "output_type": "stream",
          "name": "stdout",
          "text": [
            "{\n",
            "  \"data\": {\n",
            "    \"Get\": {\n",
            "      \"Question\": [\n",
            "        {\n",
            "          \"answer\": \"species\",\n",
            "          \"question\": \"2000 news: the Gunnison sage grouse isn't just another northern sage grouse, but a new one of this classification\"\n",
            "        },\n",
            "        {\n",
            "          \"answer\": \"Liver\",\n",
            "          \"question\": \"This organ removes excess glucose from the blood & stores it as glycogen\"\n",
            "        },\n",
            "        {\n",
            "          \"answer\": \"the atmosphere\",\n",
            "          \"question\": \"Changes in the tropospheric layer of this are what gives us weather\"\n",
            "        }\n",
            "      ]\n",
            "    }\n",
            "  }\n",
            "}\n"
          ]
        }
      ]
    },
    {
      "cell_type": "markdown",
      "metadata": {
        "id": "xCU70ljkkMtU"
      },
      "source": [
        "#### Specify \"custom\" vectors (i.e. generated outside of Weaviate)"
      ]
    },
    {
      "cell_type": "code",
      "execution_count": null,
      "metadata": {
        "id": "qLwxTv4XkMtU"
      },
      "outputs": [],
      "source": [
        "# # Load data\n",
        "# import requests\n",
        "# fname = \"jeopardy_tiny_with_vectors_all-OpenAI-ada-002.json\"  # This file includes pre-generated vectors\n",
        "# url = f'https://raw.githubusercontent.com/weaviate-tutorials/quickstart/main/data/{fname}'\n",
        "# resp = requests.get(url)\n",
        "# data = json.loads(resp.text)\n",
        "\n",
        "# # Configure a batch process\n",
        "# with client.batch(\n",
        "#     batch_size=100\n",
        "# ) as batch:\n",
        "#     # Batch import all Questions\n",
        "#     for i, d in enumerate(data):\n",
        "#         print(f\"importing question: {i+1}\")\n",
        "\n",
        "#         properties = {\n",
        "#             \"answer\": d[\"Answer\"],\n",
        "#             \"question\": d[\"Question\"],\n",
        "#             \"category\": d[\"Category\"],\n",
        "#         }\n",
        "\n",
        "#         custom_vector = d[\"vector\"]\n",
        "#         client.batch.add_data_object(\n",
        "#             properties,\n",
        "#             \"Question\",\n",
        "#             vector=custom_vector  # Add custom vector\n",
        "#         )"
      ]
    },
    {
      "cell_type": "markdown",
      "metadata": {
        "id": "1GL2QgZDkMtU"
      },
      "source": [
        "### Queries"
      ]
    },
    {
      "cell_type": "markdown",
      "metadata": {
        "id": "nNyNpYQWkMtV"
      },
      "source": [
        "#### Semantic search\n",
        "\n",
        "Let's try a similarity search. We'll use nearText search to look for quiz objects most similar to biology."
      ]
    },
    {
      "cell_type": "code",
      "execution_count": 27,
      "metadata": {
        "id": "u8LNXC3lkMtV",
        "outputId": "ccd0ffa2-c3f6-41a3-de5d-a687d84f8427",
        "colab": {
          "base_uri": "https://localhost:8080/"
        }
      },
      "outputs": [
        {
          "output_type": "stream",
          "name": "stdout",
          "text": [
            "{\n",
            "    \"data\": {\n",
            "        \"Get\": {\n",
            "            \"Question\": [\n",
            "                {\n",
            "                    \"answer\": \"DNA\",\n",
            "                    \"category\": \"SCIENCE\",\n",
            "                    \"question\": \"In 1953 Watson & Crick built a model of the molecular structure of this, the gene-carrying substance\"\n",
            "                },\n",
            "                {\n",
            "                    \"answer\": \"species\",\n",
            "                    \"category\": \"SCIENCE\",\n",
            "                    \"question\": \"2000 news: the Gunnison sage grouse isn't just another northern sage grouse, but a new one of this classification\"\n",
            "                }\n",
            "            ]\n",
            "        }\n",
            "    }\n",
            "}\n"
          ]
        }
      ],
      "source": [
        "nearText = {\"concepts\": [\"biology\"]}\n",
        "\n",
        "response = (\n",
        "    client.query\n",
        "    .get(\"Question\", [\"question\", \"answer\", \"category\"])\n",
        "    .with_near_text(nearText)\n",
        "    .with_limit(2)\n",
        "    .do()\n",
        ")\n",
        "\n",
        "print(json.dumps(response, indent=4))"
      ]
    },
    {
      "cell_type": "markdown",
      "metadata": {
        "id": "BZQpYWQkkMtV"
      },
      "source": [
        "The response includes a list of top 2 (due to the limit set) objects whose vectors are most similar to the word biology.\n",
        "\n",
        "Notice that even though the word biology does not appear anywhere, Weaviate returns biology-related entries.\n",
        "\n",
        "This example shows why vector searches are powerful. Vectorized data objects allow for searches based on degrees of similarity, as shown here."
      ]
    },
    {
      "cell_type": "markdown",
      "metadata": {
        "id": "vWafBeRlkMtV"
      },
      "source": [
        "#### Semantic search with a filter\n",
        "You can add a Boolean filter to your example. For example, let's run the same search, but only look in objects that have a \"category\" value of \"ANIMALS\"."
      ]
    },
    {
      "cell_type": "code",
      "execution_count": 29,
      "metadata": {
        "id": "umLaYP7ekMtV",
        "outputId": "eda21826-5c3d-4b05-b88f-7cf44cd2a77f",
        "colab": {
          "base_uri": "https://localhost:8080/"
        }
      },
      "outputs": [
        {
          "output_type": "stream",
          "name": "stdout",
          "text": [
            "{\n",
            "    \"data\": {\n",
            "        \"Get\": {\n",
            "            \"Question\": [\n",
            "                {\n",
            "                    \"_additional\": {\n",
            "                        \"distance\": 0.22146547\n",
            "                    },\n",
            "                    \"answer\": \"the nose or snout\",\n",
            "                    \"category\": \"ANIMALS\",\n",
            "                    \"question\": \"The gavial looks very much like a crocodile except for this bodily feature\"\n",
            "                }\n",
            "            ]\n",
            "        }\n",
            "    }\n",
            "}\n"
          ]
        }
      ],
      "source": [
        "nearText = {\"concepts\": [\"biology\"]}\n",
        "\n",
        "response = (\n",
        "    client.query\n",
        "    .get(\"Question\", [\"question\", \"answer\", \"category\",   \"_additional { distance }\" ])\n",
        "    .with_near_text(nearText)\n",
        "    .with_where({\n",
        "        \"path\": [\"category\"],\n",
        "        \"operator\": \"Equal\",\n",
        "        \"valueText\": \"ANIMALS\"\n",
        "    })\n",
        "    .with_limit(1)\n",
        "    .do()\n",
        ")\n",
        "\n",
        "print(json.dumps(response, indent=4))"
      ]
    },
    {
      "cell_type": "markdown",
      "metadata": {
        "id": "u0TBbrDnkMtV"
      },
      "source": [
        "The response includes a list of top 2 (due to the limit set) objects whose vectors are most similar to the word biology - but only from the \"ANIMALS\" category.\n",
        "\n",
        "Using a Boolean filter allows you to combine the flexibility of vector search with the precision of where filters."
      ]
    },
    {
      "cell_type": "markdown",
      "metadata": {
        "id": "S7r0K5rvkMtV"
      },
      "source": [
        "#### Generative search (single prompt)\n",
        "\n",
        "Next, let's try a generative search, where search results are processed with a large language model (LLM).\n",
        "\n",
        "Here, we use a `single prompt` query, and the model to explain each answer in plain terms."
      ]
    },
    {
      "cell_type": "code",
      "execution_count": 30,
      "metadata": {
        "id": "GZqpC3VIkMtV",
        "outputId": "545dcf93-93ef-4ede-85fd-7989f861fd00",
        "colab": {
          "base_uri": "https://localhost:8080/"
        }
      },
      "outputs": [
        {
          "output_type": "stream",
          "name": "stdout",
          "text": [
            "{\n",
            "    \"data\": {\n",
            "        \"Get\": {\n",
            "            \"Question\": [\n",
            "                {\n",
            "                    \"_additional\": {\n",
            "                        \"generate\": {\n",
            "                            \"error\": null,\n",
            "                            \"singleResult\": \"DNA is like a recipe book that tells our bodies how to grow and work. It is made up of tiny instructions that are passed down from our parents to us. Just like how a recipe tells you how to make a cake, DNA tells our bodies how to make us!\"\n",
            "                        }\n",
            "                    },\n",
            "                    \"answer\": \"DNA\",\n",
            "                    \"category\": \"SCIENCE\",\n",
            "                    \"question\": \"In 1953 Watson & Crick built a model of the molecular structure of this, the gene-carrying substance\"\n",
            "                },\n",
            "                {\n",
            "                    \"_additional\": {\n",
            "                        \"generate\": {\n",
            "                            \"error\": null,\n",
            "                            \"singleResult\": \"A species is a group of animals or plants that are similar to each other in certain ways. They look alike and can have babies that grow up to be just like them. Each species has its own special features that make it different from other species.\"\n",
            "                        }\n",
            "                    },\n",
            "                    \"answer\": \"species\",\n",
            "                    \"category\": \"SCIENCE\",\n",
            "                    \"question\": \"2000 news: the Gunnison sage grouse isn't just another northern sage grouse, but a new one of this classification\"\n",
            "                }\n",
            "            ]\n",
            "        }\n",
            "    }\n",
            "}\n"
          ]
        }
      ],
      "source": [
        "nearText = {\"concepts\": [\"biology\"]}\n",
        "\n",
        "response = (\n",
        "    client.query\n",
        "    .get(\"Question\", [\"question\", \"answer\", \"category\"])\n",
        "    .with_near_text(nearText)\n",
        "    .with_generate(single_prompt=\"Explain {answer} as you might to a five-year-old.\")\n",
        "    .with_limit(2)\n",
        "    .do()\n",
        ")\n",
        "\n",
        "print(json.dumps(response, indent=4))"
      ]
    },
    {
      "cell_type": "markdown",
      "metadata": {
        "id": "_XjH-B-TkMtW"
      },
      "source": [
        "We see that Weaviate has retrieved the same results as before. But now it includes an additional, generated text with a plain-language explanation of each answer."
      ]
    },
    {
      "cell_type": "markdown",
      "metadata": {
        "id": "Hw9maIuAkMtW"
      },
      "source": [
        "#### Generative search (grouped task)\n",
        "\n",
        "In the next example, we will use a grouped task prompt instead to combine all search results and send them to the LLM with a prompt. We ask the LLM to write a tweet about all of these search results."
      ]
    },
    {
      "cell_type": "code",
      "execution_count": null,
      "metadata": {
        "id": "f5qqwbtCkMtW",
        "outputId": "c7bebebe-b121-4375-ab1a-14f3940963aa"
      },
      "outputs": [
        {
          "name": "stdout",
          "output_type": "stream",
          "text": [
            "🧬 Did you know? In 1953, Watson & Crick 🧪 built a model of the molecular structure of DNA, the gene-carrying substance! 🧬 #ScienceFacts\n",
            "\n",
            "🐦🌿 Exciting news! In 2000, a new species 🆕 of sage grouse, the Gunnison sage grouse, was discovered. It's not just another northern sage grouse, but a unique classification! 🦆🌿 #ScienceDiscoveries\n"
          ]
        }
      ],
      "source": [
        "response = (\n",
        "    client.query\n",
        "    .get(\"Question\", [\"question\", \"answer\", \"category\"])\n",
        "    .with_near_text({\"concepts\": [\"biology\"]})\n",
        "    .with_generate(grouped_task=\"Write a tweet with emojis about these facts.\")\n",
        "    .with_limit(2)\n",
        "    .do()\n",
        ")\n",
        "\n",
        "print(response[\"data\"][\"Get\"][\"Question\"][0][\"_additional\"][\"generate\"][\"groupedResult\"])"
      ]
    },
    {
      "cell_type": "markdown",
      "metadata": {
        "id": "ONha7BjmkMtW"
      },
      "source": [
        "Generative search sends retrieved data from Weaviate to a large language model, or LLM. This allows you to go beyond simple data retrieval, but transform the data into a more useful form, without ever leaving Weaviate."
      ]
    },
    {
      "cell_type": "markdown",
      "metadata": {
        "id": "L-stEFylkMtW"
      },
      "source": [
        "Well done! In just a few short minutes, you have:\n",
        "\n",
        "- Created your own cloud-based vector database with Weaviate,\n",
        "- Populated it with data objects,\n",
        "    - Using an inference API, or\n",
        "    - Using custom vectors,\n",
        "- Performed searches, including:\n",
        "    - Semantic search,\n",
        "    - Sementic search with a filter and\n",
        "    - Generative search."
      ]
    },
    {
      "cell_type": "markdown",
      "metadata": {
        "id": "FOeXklf8kMtW"
      },
      "source": [
        "## Next\n",
        "\n",
        "You can do much more with Weaviate. We suggest trying:\n",
        "\n",
        "- Examples from our [search how-to](https://weaviate.io/developers/weaviate/search) guides for [keyword](https://weaviate.io/developers/weaviate/search/bm25), [similarity](https://weaviate.io/developers/weaviate/search/similarity), [hybrid](https://weaviate.io/developers/weaviate/search/hybrid), [generative](https://weaviate.io/developers/weaviate/search/generative) searches and [filters](https://weaviate.io/developers/weaviate/search/filters) or\n",
        "- Learning [how to manage data](https://weaviate.io/developers/weaviate/manage-data), like [reading](https://weaviate.io/developers/weaviate/manage-data/read), [batch importing](https://weaviate.io/developers/weaviate/manage-data/import), [updating](https://weaviate.io/developers/weaviate/manage-data/update), [deleting](https://weaviate.io/developers/weaviate/manage-data/delete) objects or [bulk exporting](https://weaviate.io/developers/weaviate/manage-data/read-all-objects) data.\n",
        "\n",
        "For more holistic learning, try <i class=\"fa-solid fa-graduation-cap\"></i> [Weaviate Academy](https://weaviate.io/developers/academy). We have built free courses for you to learn about Weaviate and the world of vector search.\n",
        "\n",
        "You can also try a larger, [1,000 row](https://raw.githubusercontent.com/databyjp/wv_demo_uploader/main/weaviate_datasets/data/jeopardy_1k.json) version of the Jeopardy! dataset, or [this tiny set of 50 wine reviews](https://raw.githubusercontent.com/databyjp/wv_demo_uploader/main/weaviate_datasets/data/winemag_tiny.csv)."
      ]
    },
    {
      "cell_type": "markdown",
      "metadata": {
        "id": "95tf73S4kMtW"
      },
      "source": []
    }
  ],
  "metadata": {
    "kernelspec": {
      "display_name": "base",
      "language": "python",
      "name": "python3"
    },
    "language_info": {
      "codemirror_mode": {
        "name": "ipython",
        "version": 3
      },
      "file_extension": ".py",
      "mimetype": "text/x-python",
      "name": "python",
      "nbconvert_exporter": "python",
      "pygments_lexer": "ipython3",
      "version": "3.10.12"
    },
    "orig_nbformat": 4,
    "colab": {
      "provenance": [],
      "include_colab_link": true
    }
  },
  "nbformat": 4,
  "nbformat_minor": 0
}