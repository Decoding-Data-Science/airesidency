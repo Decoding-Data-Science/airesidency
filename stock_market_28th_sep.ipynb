{
  "nbformat": 4,
  "nbformat_minor": 0,
  "metadata": {
    "colab": {
      "provenance": [],
      "authorship_tag": "ABX9TyPNREYHme0tXpiOBfp5xVXn",
      "include_colab_link": true
    },
    "kernelspec": {
      "name": "python3",
      "display_name": "Python 3"
    },
    "language_info": {
      "name": "python"
    }
  },
  "cells": [
    {
      "cell_type": "markdown",
      "metadata": {
        "id": "view-in-github",
        "colab_type": "text"
      },
      "source": [
        "<a href=\"https://colab.research.google.com/github/Decoding-Data-Science/airesidency/blob/main/stock_market_28th_sep.ipynb\" target=\"_parent\"><img src=\"https://colab.research.google.com/assets/colab-badge.svg\" alt=\"Open In Colab\"/></a>"
      ]
    },
    {
      "cell_type": "code",
      "execution_count": null,
      "metadata": {
        "id": "0WEQK_Ri44fM"
      },
      "outputs": [],
      "source": [
        "!pip install openai==0.28 requests gradio"
      ]
    },
    {
      "cell_type": "code",
      "source": [
        "import os\n",
        "from google.colab import userdata\n",
        "\n",
        "os.environ[\"OPENAI_API_KEY\"] = userdata.get('openai')\n"
      ],
      "metadata": {
        "id": "DrxkBQc7GuBc"
      },
      "execution_count": 4,
      "outputs": []
    },
    {
      "cell_type": "code",
      "source": [
        "import gradio as gr\n",
        "import openai\n",
        "import requests\n",
        "\n",
        "# Set your OpenAI and stock market API keys from Alpha Vantage here\n",
        "\n",
        "STOCK_API_KEY = '4CVR0EO3D90OX22H'\n",
        "\n",
        "\n",
        "\n",
        "# Function to get stock symbol from company name using Alpha Vantage SYMBOL_SEARCH\n",
        "def get_stock_symbol(company_name):\n",
        "    base_url = 'https://www.alphavantage.co/query'\n",
        "    params = {\n",
        "        'function': 'SYMBOL_SEARCH',\n",
        "        'keywords': company_name,\n",
        "        'apikey': STOCK_API_KEY\n",
        "    }\n",
        "    response = requests.get(base_url, params=params)\n",
        "    data = response.json()\n",
        "\n",
        "    try:\n",
        "        # Return the best match's symbol\n",
        "        symbol = data['bestMatches'][0]['1. symbol']\n",
        "        return symbol\n",
        "    except (KeyError, IndexError):\n",
        "        return None\n",
        "\n",
        "# Function to get stock quote from Alpha Vantage\n",
        "def get_stock_quote(symbol):\n",
        "    base_url = 'https://www.alphavantage.co/query'\n",
        "    params = {\n",
        "        'function': 'GLOBAL_QUOTE',\n",
        "        'symbol': symbol,\n",
        "        'apikey': STOCK_API_KEY\n",
        "    }\n",
        "    response = requests.get(base_url, params=params)\n",
        "    data = response.json()\n",
        "\n",
        "    try:\n",
        "        quote = data['Global Quote']\n",
        "        price = quote['05. price']\n",
        "        return f\"The latest price for {symbol} is ${price}\"\n",
        "    except KeyError:\n",
        "        return \"Could not fetch the stock data. Please try again later.\"\n",
        "\n",
        "# Function to interact with OpenAI GPT\n",
        "def ask_gpt(prompt):\n",
        "    try:\n",
        "        # Interact with OpenAI GPT using gpt-3.5-turbo\n",
        "        response = openai.ChatCompletion.create(\n",
        "            model=\"gpt-3.5-turbo\",\n",
        "            messages=[\n",
        "                {\"role\": \"system\", \"content\": \"You are a helpful stock market assistant.\"},\n",
        "                {\"role\": \"user\", \"content\": prompt}\n",
        "            ],\n",
        "            max_tokens=250,\n",
        "            temperature=0.2\n",
        "        )\n",
        "        return response['choices'][0]['message']['content'].strip()\n",
        "\n",
        "    except openai.error.OpenAIError as e:\n",
        "        return f\"An error occurred while contacting OpenAI: {e}\"\n",
        "\n",
        "    except Exception as e:\n",
        "        return f\"An unexpected error occurred: {e}\"\n",
        "\n",
        "# Gradio interface function\n",
        "def stock_info(company_name):\n",
        "    symbol = get_stock_symbol(company_name)\n",
        "    if not symbol:\n",
        "        return f\"Could not find stock symbol for {company_name}.\", \"\"\n",
        "\n",
        "    stock_price = get_stock_quote(symbol)\n",
        "    gpt_response = ask_gpt(f\"What do you think about {company_name} stock? Which all stock exchanges is the stock listed, is it a good long term investment , give some historical financial milestones and annoucements\")\n",
        "\n",
        "    return stock_price, gpt_response\n",
        "\n",
        "# Create Gradio interface\n",
        "with gr.Blocks(title=\"DDS Stock Market and GPT Assistant\") as demo:\n",
        "    gr.Markdown(\"<h1 style='text-align: center;'>Stock Market and ChatGPT Assistant</h1>\")\n",
        "    gr.Markdown(\"<p style='text-align: center;'>This app provides the latest stock prices and Long term insights from ChatGPT. Enter a company name below:</p>\")\n",
        "    company_name = gr.Textbox(label=\"Enter Company Name\")\n",
        "    stock_output = gr.Textbox(label=\"Stock Price\")\n",
        "    gpt_output = gr.Textbox(label=\"AI Opinion\")\n",
        "\n",
        "    submit_button = gr.Button(\"Get Stock Info\")\n",
        "\n",
        "    submit_button.click(fn=stock_info, inputs=company_name, outputs=[stock_output, gpt_output])\n",
        "\n",
        "# Launch the Gradio app\n",
        "demo.launch()\n",
        "\n",
        "#65 line of code"
      ],
      "metadata": {
        "id": "gBttFak546Ta",
        "colab": {
          "base_uri": "https://localhost:8080/",
          "height": 647
        },
        "outputId": "780b3984-5fb5-4d47-9527-5ca7b7b168d7"
      },
      "execution_count": 5,
      "outputs": [
        {
          "output_type": "stream",
          "name": "stdout",
          "text": [
            "It looks like you are running Gradio on a hosted a Jupyter notebook. For the Gradio app to work, sharing must be enabled. Automatically setting `share=True` (you can turn this off by setting `share=False` in `launch()` explicitly).\n",
            "\n",
            "Colab notebook detected. To show errors in colab notebook, set debug=True in launch()\n",
            "* Running on public URL: https://69eaddef1433c8d8e5.gradio.live\n",
            "\n",
            "This share link expires in 1 week. For free permanent hosting and GPU upgrades, run `gradio deploy` from the terminal in the working directory to deploy to Hugging Face Spaces (https://huggingface.co/spaces)\n"
          ]
        },
        {
          "output_type": "display_data",
          "data": {
            "text/plain": [
              "<IPython.core.display.HTML object>"
            ],
            "text/html": [
              "<div><iframe src=\"https://69eaddef1433c8d8e5.gradio.live\" width=\"100%\" height=\"500\" allow=\"autoplay; camera; microphone; clipboard-read; clipboard-write;\" frameborder=\"0\" allowfullscreen></iframe></div>"
            ]
          },
          "metadata": {}
        },
        {
          "output_type": "execute_result",
          "data": {
            "text/plain": []
          },
          "metadata": {},
          "execution_count": 5
        }
      ]
    }
  ]
}