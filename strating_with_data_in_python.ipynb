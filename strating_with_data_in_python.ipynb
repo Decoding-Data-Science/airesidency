{
  "cells": [
    {
      "cell_type": "markdown",
      "metadata": {
        "id": "view-in-github",
        "colab_type": "text"
      },
      "source": [
        "<a href=\"https://colab.research.google.com/github/Decoding-Data-Science/airesidency/blob/main/strating_with_data_in_python.ipynb\" target=\"_parent\"><img src=\"https://colab.research.google.com/assets/colab-badge.svg\" alt=\"Open In Colab\"/></a>"
      ]
    },
    {
      "cell_type": "markdown",
      "metadata": {
        "id": "oON2eZdNG6cN"
      },
      "source": [
        "# Lesson 6: Data in Python"
      ]
    },
    {
      "cell_type": "markdown",
      "metadata": {
        "id": "64hJVEe9G6cP"
      },
      "source": [
        "There are different types of data in Python. Here, you will see how text and numbers are used in Python."
      ]
    },
    {
      "cell_type": "markdown",
      "metadata": {
        "id": "J5D6DoK3G6cP"
      },
      "source": [
        "## Strings"
      ]
    },
    {
      "cell_type": "markdown",
      "metadata": {
        "id": "xmSyfJWnG6cP"
      },
      "source": [
        "Strings are used to store and manipulate text. As you see here, strings are written inside of quotes and can contain letters, numbers, punctuation marks, and other special characters. Run the following cells to print these four different strings."
      ]
    },
    {
      "cell_type": "code",
      "execution_count": 1,
      "metadata": {
        "colab": {
          "base_uri": "https://localhost:8080/"
        },
        "id": "DwTuMc8wG6cQ",
        "outputId": "40791fd5-9b06-40f4-e4fe-576558ee9320"
      },
      "outputs": [
        {
          "output_type": "stream",
          "name": "stdout",
          "text": [
            "Hello, World\n"
          ]
        }
      ],
      "source": [
        "print(\"Hello, World\")"
      ]
    },
    {
      "cell_type": "code",
      "execution_count": 2,
      "metadata": {
        "colab": {
          "base_uri": "https://localhost:8080/"
        },
        "id": "lnVf_5HIG6cQ",
        "outputId": "2f3df45c-24ec-41a3-fd10-d3094ee5f529"
      },
      "outputs": [
        {
          "output_type": "stream",
          "name": "stdout",
          "text": [
            "My favorite drink is Earl Grey tea.\n"
          ]
        }
      ],
      "source": [
        "print(\"My favorite drink is Earl Grey tea.\")"
      ]
    },
    {
      "cell_type": "code",
      "execution_count": 3,
      "metadata": {
        "colab": {
          "base_uri": "https://localhost:8080/"
        },
        "id": "ogEva3c9G6cQ",
        "outputId": "4431b2bf-3bf3-44a7-e422-19529fb07dc9"
      },
      "outputs": [
        {
          "output_type": "stream",
          "name": "stdout",
          "text": [
            "¯\\_(ツ)_/¯\n"
          ]
        }
      ],
      "source": [
        "print(\"¯\\_(ツ)_/¯\")"
      ]
    },
    {
      "cell_type": "code",
      "execution_count": 4,
      "metadata": {
        "colab": {
          "base_uri": "https://localhost:8080/"
        },
        "id": "73W4ykA1G6cQ",
        "outputId": "8538f479-5c86-4a6a-ec2c-b23300934f33"
      },
      "outputs": [
        {
          "output_type": "stream",
          "name": "stdout",
          "text": [
            "2.99\n"
          ]
        }
      ],
      "source": [
        "print(\"2.99\")"
      ]
    },
    {
      "cell_type": "markdown",
      "metadata": {
        "id": "V8s1e-a4G6cR"
      },
      "source": [
        "## Multiline strings"
      ]
    },
    {
      "cell_type": "markdown",
      "metadata": {
        "id": "P1ExWAcHG6cR"
      },
      "source": [
        "If you use triple quotation marks, you can store a multiline string. These strings can span more than one line. When you run the following cell, you will see how the spaces in the second line are actually read as characters for the string."
      ]
    },
    {
      "cell_type": "code",
      "execution_count": 5,
      "metadata": {
        "colab": {
          "base_uri": "https://localhost:8080/"
        },
        "id": "bRXylEWjG6cR",
        "outputId": "85493152-e8de-4e30-a396-60e328a691de"
      },
      "outputs": [
        {
          "output_type": "stream",
          "name": "stdout",
          "text": [
            "Hello, World!\n",
            "      It's great to be here!\n"
          ]
        }
      ],
      "source": [
        "print(\"\"\"Hello, World!\n",
        "      It's great to be here!\"\"\")"
      ]
    },
    {
      "cell_type": "markdown",
      "metadata": {
        "id": "kdCkAm8hG6cR"
      },
      "source": [
        "Trying to define a multiline string using single quotes will lead to errors."
      ]
    },
    {
      "cell_type": "code",
      "execution_count": 6,
      "metadata": {
        "colab": {
          "base_uri": "https://localhost:8080/",
          "height": 108
        },
        "id": "1U7LDC7mG6cR",
        "outputId": "081eb72e-09fa-45fc-e224-16ec3e95cd1b"
      },
      "outputs": [
        {
          "output_type": "error",
          "ename": "SyntaxError",
          "evalue": "unterminated string literal (detected at line 1) (<ipython-input-6-8ea15586b006>, line 1)",
          "traceback": [
            "\u001b[0;36m  File \u001b[0;32m\"<ipython-input-6-8ea15586b006>\"\u001b[0;36m, line \u001b[0;32m1\u001b[0m\n\u001b[0;31m    print(\"Hello, World!\u001b[0m\n\u001b[0m          ^\u001b[0m\n\u001b[0;31mSyntaxError\u001b[0m\u001b[0;31m:\u001b[0m unterminated string literal (detected at line 1)\n"
          ]
        }
      ],
      "source": [
        "print(\"Hello, World!\n",
        "      It's great to be here!\")"
      ]
    },
    {
      "cell_type": "markdown",
      "metadata": {
        "id": "ToqqeXO0G6cR"
      },
      "source": [
        "## The type() function"
      ]
    },
    {
      "cell_type": "markdown",
      "metadata": {
        "id": "slTF2LJLG6cR"
      },
      "source": [
        "In Python, you can check the type of any data that you are using. To check the data type, you can use the `type()` function. When you run the next cell, you will retrieve the type for the string `\"Andrew\"`."
      ]
    },
    {
      "cell_type": "code",
      "execution_count": 7,
      "metadata": {
        "colab": {
          "base_uri": "https://localhost:8080/"
        },
        "id": "lfhUpnbDG6cR",
        "outputId": "2247570c-19f7-4ac6-ee36-2d8fbdc9147e"
      },
      "outputs": [
        {
          "output_type": "execute_result",
          "data": {
            "text/plain": [
              "str"
            ]
          },
          "metadata": {},
          "execution_count": 7
        }
      ],
      "source": [
        "type(\"Andrew\")"
      ]
    },
    {
      "cell_type": "markdown",
      "metadata": {
        "id": "d8jxEHYSG6cS"
      },
      "source": [
        "Python returned `str`, which is short for string. Let's check the type for a multiline string:"
      ]
    },
    {
      "cell_type": "code",
      "execution_count": 8,
      "metadata": {
        "colab": {
          "base_uri": "https://localhost:8080/"
        },
        "id": "JCmt_BOBG6cS",
        "outputId": "3675b83a-59d0-49da-ce0c-36e573c25a05"
      },
      "outputs": [
        {
          "output_type": "execute_result",
          "data": {
            "text/plain": [
              "str"
            ]
          },
          "metadata": {},
          "execution_count": 8
        }
      ],
      "source": [
        "type(\"\"\"\n",
        "Numbers, text, and truth,\n",
        "Strings, ints, and floats in our code,\n",
        "Data shapes our path\n",
        "\"\"\")"
      ]
    },
    {
      "cell_type": "markdown",
      "metadata": {
        "id": "Yo609sHcG6cS"
      },
      "source": [
        "This also returns `str`, since it is also a string. Let's try a number within quotation marks:"
      ]
    },
    {
      "cell_type": "code",
      "execution_count": 9,
      "metadata": {
        "colab": {
          "base_uri": "https://localhost:8080/"
        },
        "id": "Via0HMm1G6cS",
        "outputId": "742c9f6e-d9e5-4296-d37f-08324aa20dab"
      },
      "outputs": [
        {
          "output_type": "execute_result",
          "data": {
            "text/plain": [
              "str"
            ]
          },
          "metadata": {},
          "execution_count": 9
        }
      ],
      "source": [
        "type(\"2.99\")"
      ]
    },
    {
      "cell_type": "markdown",
      "metadata": {
        "id": "k2K_jcSGG6cS"
      },
      "source": [
        "This is also a string, even though it looks like a number. By using quotation marks you're telling Python to treat it as text, rather than a number. What about a number without quotes?"
      ]
    },
    {
      "cell_type": "code",
      "execution_count": 10,
      "metadata": {
        "colab": {
          "base_uri": "https://localhost:8080/"
        },
        "id": "vfQgVRdrG6cS",
        "outputId": "ac37a420-9261-47aa-be36-e4a38650088b"
      },
      "outputs": [
        {
          "output_type": "execute_result",
          "data": {
            "text/plain": [
              "int"
            ]
          },
          "metadata": {},
          "execution_count": 10
        }
      ],
      "source": [
        "type(100)"
      ]
    },
    {
      "cell_type": "markdown",
      "metadata": {
        "id": "B_zgEd3fG6cS"
      },
      "source": [
        "This time you get `int`, which is short for integer. Integers are the positive and negative whole numbers, like 42, 100, -9, and 0. Since there are no quotes around the number Python assumes this is numerical data, and since there is no decimal place on this number, it interprets it as an integer. Now, let's try a number that does have decimal places:"
      ]
    },
    {
      "cell_type": "code",
      "execution_count": 11,
      "metadata": {
        "colab": {
          "base_uri": "https://localhost:8080/"
        },
        "id": "ZRXCRM5-G6cS",
        "outputId": "e3cfe03f-cb00-4a4b-a1af-666a26bcb64b"
      },
      "outputs": [
        {
          "output_type": "execute_result",
          "data": {
            "text/plain": [
              "float"
            ]
          },
          "metadata": {},
          "execution_count": 11
        }
      ],
      "source": [
        "type(2.99)"
      ]
    },
    {
      "cell_type": "markdown",
      "metadata": {
        "id": "6Bap7joMG6cS"
      },
      "source": [
        "The function type gives `float`, which is the data type used to store floating point numbers. Floating point numbers are positive and negative numbers that include a decimal place, like 3.14, 2.99, and -0.003."
      ]
    },
    {
      "cell_type": "markdown",
      "metadata": {
        "id": "Y9o7kOXjG6cS"
      },
      "source": [
        "## Python as a calculator!"
      ]
    },
    {
      "cell_type": "markdown",
      "metadata": {
        "id": "bVhNr3VKG6cS"
      },
      "source": [
        "Python works great for quick arithmetic operations. For instance, if you had a lemonade stand, and wanted to compute the total number of sales you made through the last 12 months, you can use Python like this:"
      ]
    },
    {
      "cell_type": "code",
      "execution_count": 12,
      "metadata": {
        "colab": {
          "base_uri": "https://localhost:8080/"
        },
        "id": "ORTuBqhJG6cT",
        "outputId": "c809f86e-5b30-4b4b-a522-267e7a6f4b63"
      },
      "outputs": [
        {
          "output_type": "stream",
          "name": "stdout",
          "text": [
            "675\n"
          ]
        }
      ],
      "source": [
        "print(28+35+43+50+65+70+68+66+75+80+95)"
      ]
    },
    {
      "cell_type": "markdown",
      "metadata": {
        "id": "Yc3tH2D_G6cT"
      },
      "source": [
        "As another example, you can perform more advanced math, like computing the compound interest after 10 years at a rate of 5%. To do that, you can compute 1.05 to the power of 10. Not sure how to do it in Python? You can use the Chatbot!"
      ]
    },
    {
      "cell_type": "markdown",
      "metadata": {
        "id": "2wY54SZcG6cT"
      },
      "source": [
        "<p style=\"background-color:#F5C780; padding:15px\"> 🤖 <b>Use the Chatbot</b>: How do I compute 1.05 to the power of 10?\n",
        "</p>"
      ]
    },
    {
      "cell_type": "code",
      "execution_count": null,
      "metadata": {
        "id": "yETYMNl2G6cT"
      },
      "outputs": [],
      "source": [
        "print(\"Complete with chatbot code\")"
      ]
    },
    {
      "cell_type": "code",
      "source": [
        "print(1.05**10)"
      ],
      "metadata": {
        "colab": {
          "base_uri": "https://localhost:8080/"
        },
        "id": "Q1w_uGXVJDwQ",
        "outputId": "c8890ad2-154a-4125-f1f7-5034853260f3"
      },
      "execution_count": 13,
      "outputs": [
        {
          "output_type": "stream",
          "name": "stdout",
          "text": [
            "1.628894626777442\n"
          ]
        }
      ]
    },
    {
      "cell_type": "markdown",
      "metadata": {
        "id": "8riuufb9G6cT"
      },
      "source": [
        "### Order of operations"
      ]
    },
    {
      "cell_type": "markdown",
      "metadata": {
        "id": "KSt-4vnfG6cT"
      },
      "source": [
        "The order of operations in Python is the same as in arithmetic. First, you compute parentheses, then exponents, then you multiply and divide (from left to right), and finally, you add and subtract (from left to right).\n",
        "\n",
        "So, if you are trying to convert from Fahrenheit to Celsius, the following cell will give you an incorrect answer:"
      ]
    },
    {
      "cell_type": "code",
      "execution_count": 14,
      "metadata": {
        "colab": {
          "base_uri": "https://localhost:8080/"
        },
        "id": "TKHQQ9_-G6cT",
        "outputId": "92f3ef79-b663-4aea-8d59-8fa01c90ce8b"
      },
      "outputs": [
        {
          "output_type": "stream",
          "name": "stdout",
          "text": [
            "57.22222222222222\n"
          ]
        }
      ],
      "source": [
        "print(75 - 32 * 5 / 9)"
      ]
    },
    {
      "cell_type": "markdown",
      "metadata": {
        "id": "dqXP0z5eG6cT"
      },
      "source": [
        "Whereas the computation in this cell is correct."
      ]
    },
    {
      "cell_type": "code",
      "execution_count": 15,
      "metadata": {
        "colab": {
          "base_uri": "https://localhost:8080/"
        },
        "id": "kaxnJ5psG6cT",
        "outputId": "006de277-6247-40ad-8e75-8fdb6f1feaad"
      },
      "outputs": [
        {
          "output_type": "stream",
          "name": "stdout",
          "text": [
            "23.88888888888889\n"
          ]
        }
      ],
      "source": [
        "print((75 - 32) * 5 / 9)"
      ]
    },
    {
      "cell_type": "markdown",
      "metadata": {
        "id": "obh-f-y6G6cT"
      },
      "source": [
        "### Try for yourself!\n",
        "Try printing text with mixed numbers and letters, or just symbols, then check the type. Try multiline strings using the triple quotes. If you make any mistakes, as the chatbot for help."
      ]
    },
    {
      "cell_type": "code",
      "execution_count": null,
      "metadata": {
        "id": "iZnh2q76G6cT"
      },
      "outputs": [],
      "source": [
        "print()"
      ]
    },
    {
      "cell_type": "code",
      "execution_count": null,
      "metadata": {
        "id": "ZVytlACVG6cU"
      },
      "outputs": [],
      "source": [
        "type()"
      ]
    },
    {
      "cell_type": "markdown",
      "metadata": {
        "id": "i7Q6kOPSG6cb"
      },
      "source": [
        "Fix the errors in the following code cells."
      ]
    },
    {
      "cell_type": "code",
      "execution_count": null,
      "metadata": {
        "id": "h_vNVU6TG6cb"
      },
      "outputs": [],
      "source": [
        "# Fix the error in the following code\n",
        "print(There are 366 days in a leap year\")"
      ]
    },
    {
      "cell_type": "code",
      "execution_count": null,
      "metadata": {
        "id": "OKOnZzpTG6cb"
      },
      "outputs": [],
      "source": [
        "# Fix the error in the following code\n",
        "print(\"There are 366\n",
        "days in a leap year\")"
      ]
    },
    {
      "cell_type": "markdown",
      "metadata": {
        "id": "9Tg0WoYLG6cb"
      },
      "source": [
        "A foot was defined as exactly 0.3048 meters in 1959. Convert 6 feet to meters."
      ]
    },
    {
      "cell_type": "code",
      "execution_count": null,
      "metadata": {
        "id": "dlrnpHsRG6cb"
      },
      "outputs": [],
      "source": [
        "# Write code to convert 6 feet to meters\n",
        "print(\"Convert 6 feet to meters\")"
      ]
    }
  ],
  "metadata": {
    "kernelspec": {
      "display_name": "Python 3 (ipykernel)",
      "language": "python",
      "name": "python3"
    },
    "language_info": {
      "codemirror_mode": {
        "name": "ipython",
        "version": 3
      },
      "file_extension": ".py",
      "mimetype": "text/x-python",
      "name": "python",
      "nbconvert_exporter": "python",
      "pygments_lexer": "ipython3",
      "version": "3.9.19"
    },
    "colab": {
      "provenance": [],
      "include_colab_link": true
    }
  },
  "nbformat": 4,
  "nbformat_minor": 0
}