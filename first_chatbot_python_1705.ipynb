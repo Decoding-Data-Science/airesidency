{
  "nbformat": 4,
  "nbformat_minor": 0,
  "metadata": {
    "colab": {
      "provenance": [],
      "authorship_tag": "ABX9TyPRM5VR36ZYZRH3+zi7opoW",
      "include_colab_link": true
    },
    "kernelspec": {
      "name": "python3",
      "display_name": "Python 3"
    },
    "language_info": {
      "name": "python"
    }
  },
  "cells": [
    {
      "cell_type": "markdown",
      "metadata": {
        "id": "view-in-github",
        "colab_type": "text"
      },
      "source": [
        "<a href=\"https://colab.research.google.com/github/Decoding-Data-Science/airesidency/blob/main/first_chatbot_python_1705.ipynb\" target=\"_parent\"><img src=\"https://colab.research.google.com/assets/colab-badge.svg\" alt=\"Open In Colab\"/></a>"
      ]
    },
    {
      "cell_type": "code",
      "execution_count": 3,
      "metadata": {
        "colab": {
          "base_uri": "https://localhost:8080/"
        },
        "id": "X1yF2pk7DZzf",
        "outputId": "5468902a-8629-4d02-f0da-f10824f43a17"
      },
      "outputs": [
        {
          "output_type": "stream",
          "name": "stdout",
          "text": [
            "Ask your Python-related question: what is lambda\n",
            "\n",
            "🤖 Python Tutor's Answer:\n",
            "\n",
            "In Python, a **lambda** is a small anonymous function defined with the `lambda` keyword. It can take any number of arguments but has only one expression. The expression is evaluated and returned.\n",
            "\n",
            "Here's a simple example:\n",
            "\n",
            "```python\n",
            "# A lambda function that adds 10 to the input\n",
            "add_ten = lambda x: x + 10\n",
            "\n",
            "print(add_ten(5))  # Output: 15\n",
            "```\n",
            "\n",
            "Try creating your own lambda functions to get comfortable with them!\n"
          ]
        }
      ],
      "source": [
        "# 📌 Step 1: Install the OpenAI Python SDK\n",
        "#!pip install --upgrade openai\n",
        "\n",
        "# 📌 Step 2: Load your API key securely from Google Colab secrets\n",
        "from google.colab import userdata\n",
        "import os\n",
        "\n",
        "os.environ[\"OPENAI_API_KEY\"] = userdata.get(\"openai\")\n",
        "\n",
        "# 📌 Step 3: Run the GPT-4.1-mini Tutor Application\n",
        "from openai import OpenAI\n",
        "\n",
        "# Initialize client using the secret API key\n",
        "client = OpenAI(api_key=os.environ[\"OPENAI_API_KEY\"])\n",
        "\n",
        "# 📥 Step 4: Get user input\n",
        "user_input = input(\"Ask your Python-related question: \")\n",
        "\n",
        "# 📤 Step 5: Send request to GPT-4.1-mini\n",
        "response = client.chat.completions.create(\n",
        "    model=\"gpt-4.1-mini\",\n",
        "    messages=[\n",
        "        {\n",
        "            \"role\": \"system\",\n",
        "            \"content\": [\n",
        "                {\n",
        "                    \"type\": \"text\",\n",
        "                    \"text\": \"\"\"Answer users' Python-related questions as a tutor by providing concise explanations, illustrative examples, and sample code. Politely decline if the query is not related to Python. Encourage learning and experimentation through motivation.\n",
        "\n",
        "- Prioritize short and clear answers on the first attempt.\n",
        "- If asked again, provide a more detailed response including deeper insights into the topic.\n",
        "- Always motivate users to explore further and experiment with the code.\n",
        "\n",
        "# Steps\n",
        "\n",
        "1. Confirm if the question is Python-related. If not, politely inform the user and refrain from answering.\n",
        "2. Provide a concise initial answer:\n",
        "   - Include a brief explanation.\n",
        "   - Provide a straightforward code example.\n",
        "3. If the user asks for more details, expand upon the initial response:\n",
        "   - Elaborate on the concepts.\n",
        "   - Provide more comprehensive code examples.\n",
        "   - Discuss additional related topics if relevant.\n",
        "4. Encourage the user to experiment and learn independently.\n",
        "\"\"\"\n",
        "                }\n",
        "            ]\n",
        "        },\n",
        "        {\"role\": \"user\", \"content\": user_input}\n",
        "    ],\n",
        "    temperature=0.1,\n",
        "    max_tokens=1971,\n",
        "    stop=[\"bye\", \"done\", \"good bye\"],\n",
        "    top_p=0.05,\n",
        "    frequency_penalty=0.07,\n",
        "    presence_penalty=0.11\n",
        ")\n",
        "\n",
        "# 📋 Step 6: Display the response\n",
        "print(\"\\n🤖 Python Tutor's Answer:\\n\")\n",
        "print(response.choices[0].message.content)\n"
      ]
    }
  ]
}