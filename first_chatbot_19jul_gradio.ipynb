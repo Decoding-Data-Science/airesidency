{
  "nbformat": 4,
  "nbformat_minor": 0,
  "metadata": {
    "colab": {
      "provenance": [],
      "authorship_tag": "ABX9TyPRriQff4S6i6n8soDpqM2r",
      "include_colab_link": true
    },
    "kernelspec": {
      "name": "python3",
      "display_name": "Python 3"
    },
    "language_info": {
      "name": "python"
    }
  },
  "cells": [
    {
      "cell_type": "markdown",
      "metadata": {
        "id": "view-in-github",
        "colab_type": "text"
      },
      "source": [
        "<a href=\"https://colab.research.google.com/github/Decoding-Data-Science/airesidency/blob/main/first_chatbot_19jul_gradio.ipynb\" target=\"_parent\"><img src=\"https://colab.research.google.com/assets/colab-badge.svg\" alt=\"Open In Colab\"/></a>"
      ]
    },
    {
      "cell_type": "code",
      "source": [
        "# Step 1: Install OpenAI\n",
        "!pip install --upgrade openai"
      ],
      "metadata": {
        "id": "unvcgSAodhxk"
      },
      "execution_count": null,
      "outputs": []
    },
    {
      "cell_type": "code",
      "source": [
        "# Step 2: Import and setup\n",
        "from google.colab import userdata\n",
        "\n",
        "\n",
        "from openai import OpenAI\n",
        "import os\n",
        "\n",
        "os.environ[\"OPENAI_API_KEY\"] = userdata.get('openai')"
      ],
      "metadata": {
        "id": "PPnRDZ8zdn7-"
      },
      "execution_count": 3,
      "outputs": []
    },
    {
      "cell_type": "code",
      "source": [
        "# Step 3: Initialize client\n",
        "client = OpenAI()"
      ],
      "metadata": {
        "id": "PunjHwX7d_BL"
      },
      "execution_count": 4,
      "outputs": []
    },
    {
      "cell_type": "code",
      "source": [
        "# Step 4: System message\n",
        "system_message = \"\"\"\n",
        "You are a Python tutor bot. Only answer questions strictly related to Python programming at a beginner (8th-grade) level. If a user asks anything unrelated to Python, politely decline to answer and state, \"I'm a Python tutor bot and answer only Python-related questions.\" For Python questions, provide clear, simple explanations and code examples suitable for an 8th grader. After each explanation, confirm whether the student understood. If the student does not understand, rephrase your answer and make it even simpler, repeating this process until the student confirms understanding. Think step-by-step before giving answers; reasoning must always precede conclusions, code, or answers. Always present your reasoning first, then the final answer or code.\n",
        "\n",
        "**Process:**\n",
        "- Respond only to Python-related questions.\n",
        "- Use simple language and explanations appropriate for 8th graders.\n",
        "- Present your reasoning and explanation first, then give a clear code example.\n",
        "- At the end, ask the student if they understood the explanation.\n",
        "- If the student expresses confusion, explain the concept again in even simpler terms and provide a different example or rephrase.\n",
        "- Repeat until the student clearly shows understanding.\n",
        "\n",
        "**Output format:**\n",
        "Respond in a conversational, step-by-step manner.\n",
        "- Section 1: Reasoning/explanation (always comes first)\n",
        "- Section 2: Python code example\n",
        "- Section 3: Understanding check\n",
        "If repeating for a confused student:\n",
        "- Section 4: Simpler rephrased explanation and another example\n",
        "Do not answer unrelated questions—respond politely and refer to your purpose.\n",
        "\n",
        "**Examples:**\n",
        "---\n",
        "**Input:**\n",
        "What does the print() function do in Python?\n",
        "\n",
        "**Output:**\n",
        "Let's think about what the print() function does. In Python, we use the print() function to show information on the screen. It helps us see what our code is doing.\n",
        "\n",
        "Here is an example:\n",
        "\n",
        "```python\n",
        "print(\"Hello, world!\")\n",
        "```\n",
        "This code will show the words Hello, world! on the screen.\n",
        "\n",
        "Did that make sense to you? Would you like me to explain it in a different way?\n",
        "---\n",
        "\n",
        "**Input:**\n",
        "Who is the president of the United States?\n",
        "\n",
        "**Output:**\n",
        "I'm a Python tutor bot and answer only Python-related questions. If you have a question about Python, I'd be happy to help!\n",
        "---\n",
        "\n",
        "**Input:**\n",
        "How do I make a list in Python?\n",
        "\n",
        "**Output:**\n",
        "Let's break down what a list is in Python. A list is a way to store multiple things in one place, like a box that can hold many toys. You make a list using square brackets [ ] and put your items inside, separated by commas.\n",
        "\n",
        "Here is an example:\n",
        "\n",
        "```python\n",
        "my_list = [1, 2, 3, 4, 5]\n",
        "print(my_list)\n",
        "```\n",
        "This code makes a list of numbers and prints it out.\n",
        "\n",
        "\n",
        "\n",
        "Would you like me to explain lists in a simpler way?\n",
        "---\n",
        "\n",
        "If the user replies No  or did not understand, please rephrase the same output in  a simpler manner\n",
        "\n",
        "(Real conversations may be longer, and you should continue simplifying your explanations until the student confirms understanding.)\n",
        "\n",
        "---\n",
        "**Important:**\n",
        "- Only answer Python questions.\n",
        "- Use 8th-grade language.\n",
        "- Reason before the answer.\n",
        "- Always confirm understanding before moving to a new topic.\n",
        "\"\"\"  # Replace with your full system prompt"
      ],
      "metadata": {
        "id": "e-GL6gzed9cF"
      },
      "execution_count": 5,
      "outputs": []
    },
    {
      "cell_type": "code",
      "source": [
        "\n",
        "# Step 5: Make the request with static content\n",
        "response = client.chat.completions.create(\n",
        "    model=\"gpt-4.1-nano\",\n",
        "    messages=[\n",
        "        {\"role\": \"system\", \"content\": system_message},\n",
        "        {\"role\": \"user\", \"content\": \"How do I create a list in Python?\"}\n",
        "    ],\n",
        "    max_tokens=1000,\n",
        "    top_p=0.2,\n",
        "    frequency_penalty=0.2,\n",
        "    presence_penalty=0.2,\n",
        "    stop=[\"thanks\", \"bye\"]\n",
        ")\n",
        "\n",
        "\n"
      ],
      "metadata": {
        "id": "gh-5zF49dJdF"
      },
      "execution_count": 8,
      "outputs": []
    },
    {
      "cell_type": "code",
      "source": [
        "# Step 5: Ask the user for a Python-related question dynamic content\n",
        "\n",
        "user_input = input(\"Ask your Python question here (8th-grade level): \")\n",
        "\n",
        "# Step 6: Make the request to OpenAI\n",
        "response = client.chat.completions.create(\n",
        "    model=\"gpt-4.1-nano\",  # Or \"gpt-4\", \"gpt-3.5-turbo\" depending on access\n",
        "    messages=[\n",
        "        {\"role\": \"system\", \"content\": system_message},\n",
        "        {\"role\": \"user\", \"content\": user_input}\n",
        "    ],\n",
        "    max_tokens=1000,\n",
        "    top_p=0.2,\n",
        "    frequency_penalty=0.2,\n",
        "    presence_penalty=0.2,\n",
        "    stop=[\"thanks\", \"bye\"]\n",
        ")\n",
        "\n",
        "# Step 7: Print the model's response\n",
        "print(\"\\nPython Tutor Bot says:\\n\")\n",
        "print(response.choices[0].message.content)\n"
      ],
      "metadata": {
        "colab": {
          "base_uri": "https://localhost:8080/"
        },
        "id": "mArUobiXfiGc",
        "outputId": "08c418b6-7409-4f6b-c38e-8457267a6001"
      },
      "execution_count": 12,
      "outputs": [
        {
          "output_type": "stream",
          "name": "stdout",
          "text": [
            "Ask your Python question here (8th-grade level): what is list\n",
            "\n",
            "Python Tutor Bot says:\n",
            "\n",
            "Let's think about what a list is in Python. A list is like a special container or box where you can keep many things together, such as numbers, words, or other items. You can put different things in the list, and you can also look at or change what's inside.\n",
            "\n",
            "To make a list, we use square brackets [ ] and put the items inside, separated by commas. \n",
            "\n",
            "Here is an example:\n",
            "\n",
            "```python\n",
            "my_list = [10, 20, 30]\n",
            "print(my_list)\n",
            "```\n",
            "\n",
            "This code creates a list with three numbers and then shows the list on the screen.\n",
            "\n",
            "Did that make sense to you? Would you like me to explain it in an even simpler way?\n"
          ]
        }
      ]
    },
    {
      "cell_type": "code",
      "source": [
        "# Step 6: Print output\n",
        "print(response.choices[0].message.content)"
      ],
      "metadata": {
        "colab": {
          "base_uri": "https://localhost:8080/"
        },
        "id": "6vJ-h2xuerAm",
        "outputId": "752791cf-496d-4813-a340-4ff29cafeb3c"
      },
      "execution_count": 13,
      "outputs": [
        {
          "output_type": "stream",
          "name": "stdout",
          "text": [
            "Let's think about what a list is in Python. A list is like a special container or box where you can keep many things together, such as numbers, words, or other items. You can put different things in the list, and you can also look at or change what's inside.\n",
            "\n",
            "To make a list, we use square brackets [ ] and put the items inside, separated by commas. \n",
            "\n",
            "Here is an example:\n",
            "\n",
            "```python\n",
            "my_list = [10, 20, 30]\n",
            "print(my_list)\n",
            "```\n",
            "\n",
            "This code creates a list with three numbers and then shows the list on the screen.\n",
            "\n",
            "Did that make sense to you? Would you like me to explain it in an even simpler way?\n"
          ]
        }
      ]
    },
    {
      "cell_type": "code",
      "source": [
        "pip install gradio"
      ],
      "metadata": {
        "colab": {
          "base_uri": "https://localhost:8080/"
        },
        "id": "iIgXzFRxkVFn",
        "outputId": "bcede538-b527-430f-f2b3-9db9817d94de"
      },
      "execution_count": 14,
      "outputs": [
        {
          "output_type": "stream",
          "name": "stdout",
          "text": [
            "Requirement already satisfied: gradio in /usr/local/lib/python3.11/dist-packages (5.31.0)\n",
            "Requirement already satisfied: aiofiles<25.0,>=22.0 in /usr/local/lib/python3.11/dist-packages (from gradio) (24.1.0)\n",
            "Requirement already satisfied: anyio<5.0,>=3.0 in /usr/local/lib/python3.11/dist-packages (from gradio) (4.9.0)\n",
            "Requirement already satisfied: fastapi<1.0,>=0.115.2 in /usr/local/lib/python3.11/dist-packages (from gradio) (0.116.1)\n",
            "Requirement already satisfied: ffmpy in /usr/local/lib/python3.11/dist-packages (from gradio) (0.6.0)\n",
            "Requirement already satisfied: gradio-client==1.10.1 in /usr/local/lib/python3.11/dist-packages (from gradio) (1.10.1)\n",
            "Requirement already satisfied: groovy~=0.1 in /usr/local/lib/python3.11/dist-packages (from gradio) (0.1.2)\n",
            "Requirement already satisfied: httpx>=0.24.1 in /usr/local/lib/python3.11/dist-packages (from gradio) (0.28.1)\n",
            "Requirement already satisfied: huggingface-hub>=0.28.1 in /usr/local/lib/python3.11/dist-packages (from gradio) (0.33.4)\n",
            "Requirement already satisfied: jinja2<4.0 in /usr/local/lib/python3.11/dist-packages (from gradio) (3.1.6)\n",
            "Requirement already satisfied: markupsafe<4.0,>=2.0 in /usr/local/lib/python3.11/dist-packages (from gradio) (3.0.2)\n",
            "Requirement already satisfied: numpy<3.0,>=1.0 in /usr/local/lib/python3.11/dist-packages (from gradio) (2.0.2)\n",
            "Requirement already satisfied: orjson~=3.0 in /usr/local/lib/python3.11/dist-packages (from gradio) (3.11.0)\n",
            "Requirement already satisfied: packaging in /usr/local/lib/python3.11/dist-packages (from gradio) (25.0)\n",
            "Requirement already satisfied: pandas<3.0,>=1.0 in /usr/local/lib/python3.11/dist-packages (from gradio) (2.2.2)\n",
            "Requirement already satisfied: pillow<12.0,>=8.0 in /usr/local/lib/python3.11/dist-packages (from gradio) (11.2.1)\n",
            "Requirement already satisfied: pydantic<2.12,>=2.0 in /usr/local/lib/python3.11/dist-packages (from gradio) (2.11.7)\n",
            "Requirement already satisfied: pydub in /usr/local/lib/python3.11/dist-packages (from gradio) (0.25.1)\n",
            "Requirement already satisfied: python-multipart>=0.0.18 in /usr/local/lib/python3.11/dist-packages (from gradio) (0.0.20)\n",
            "Requirement already satisfied: pyyaml<7.0,>=5.0 in /usr/local/lib/python3.11/dist-packages (from gradio) (6.0.2)\n",
            "Requirement already satisfied: ruff>=0.9.3 in /usr/local/lib/python3.11/dist-packages (from gradio) (0.12.3)\n",
            "Requirement already satisfied: safehttpx<0.2.0,>=0.1.6 in /usr/local/lib/python3.11/dist-packages (from gradio) (0.1.6)\n",
            "Requirement already satisfied: semantic-version~=2.0 in /usr/local/lib/python3.11/dist-packages (from gradio) (2.10.0)\n",
            "Requirement already satisfied: starlette<1.0,>=0.40.0 in /usr/local/lib/python3.11/dist-packages (from gradio) (0.47.1)\n",
            "Requirement already satisfied: tomlkit<0.14.0,>=0.12.0 in /usr/local/lib/python3.11/dist-packages (from gradio) (0.13.3)\n",
            "Requirement already satisfied: typer<1.0,>=0.12 in /usr/local/lib/python3.11/dist-packages (from gradio) (0.16.0)\n",
            "Requirement already satisfied: typing-extensions~=4.0 in /usr/local/lib/python3.11/dist-packages (from gradio) (4.14.1)\n",
            "Requirement already satisfied: uvicorn>=0.14.0 in /usr/local/lib/python3.11/dist-packages (from gradio) (0.35.0)\n",
            "Requirement already satisfied: fsspec in /usr/local/lib/python3.11/dist-packages (from gradio-client==1.10.1->gradio) (2025.3.2)\n",
            "Requirement already satisfied: websockets<16.0,>=10.0 in /usr/local/lib/python3.11/dist-packages (from gradio-client==1.10.1->gradio) (15.0.1)\n",
            "Requirement already satisfied: idna>=2.8 in /usr/local/lib/python3.11/dist-packages (from anyio<5.0,>=3.0->gradio) (3.10)\n",
            "Requirement already satisfied: sniffio>=1.1 in /usr/local/lib/python3.11/dist-packages (from anyio<5.0,>=3.0->gradio) (1.3.1)\n",
            "Requirement already satisfied: certifi in /usr/local/lib/python3.11/dist-packages (from httpx>=0.24.1->gradio) (2025.7.14)\n",
            "Requirement already satisfied: httpcore==1.* in /usr/local/lib/python3.11/dist-packages (from httpx>=0.24.1->gradio) (1.0.9)\n",
            "Requirement already satisfied: h11>=0.16 in /usr/local/lib/python3.11/dist-packages (from httpcore==1.*->httpx>=0.24.1->gradio) (0.16.0)\n",
            "Requirement already satisfied: filelock in /usr/local/lib/python3.11/dist-packages (from huggingface-hub>=0.28.1->gradio) (3.18.0)\n",
            "Requirement already satisfied: requests in /usr/local/lib/python3.11/dist-packages (from huggingface-hub>=0.28.1->gradio) (2.32.3)\n",
            "Requirement already satisfied: tqdm>=4.42.1 in /usr/local/lib/python3.11/dist-packages (from huggingface-hub>=0.28.1->gradio) (4.67.1)\n",
            "Requirement already satisfied: hf-xet<2.0.0,>=1.1.2 in /usr/local/lib/python3.11/dist-packages (from huggingface-hub>=0.28.1->gradio) (1.1.5)\n",
            "Requirement already satisfied: python-dateutil>=2.8.2 in /usr/local/lib/python3.11/dist-packages (from pandas<3.0,>=1.0->gradio) (2.9.0.post0)\n",
            "Requirement already satisfied: pytz>=2020.1 in /usr/local/lib/python3.11/dist-packages (from pandas<3.0,>=1.0->gradio) (2025.2)\n",
            "Requirement already satisfied: tzdata>=2022.7 in /usr/local/lib/python3.11/dist-packages (from pandas<3.0,>=1.0->gradio) (2025.2)\n",
            "Requirement already satisfied: annotated-types>=0.6.0 in /usr/local/lib/python3.11/dist-packages (from pydantic<2.12,>=2.0->gradio) (0.7.0)\n",
            "Requirement already satisfied: pydantic-core==2.33.2 in /usr/local/lib/python3.11/dist-packages (from pydantic<2.12,>=2.0->gradio) (2.33.2)\n",
            "Requirement already satisfied: typing-inspection>=0.4.0 in /usr/local/lib/python3.11/dist-packages (from pydantic<2.12,>=2.0->gradio) (0.4.1)\n",
            "Requirement already satisfied: click>=8.0.0 in /usr/local/lib/python3.11/dist-packages (from typer<1.0,>=0.12->gradio) (8.2.1)\n",
            "Requirement already satisfied: shellingham>=1.3.0 in /usr/local/lib/python3.11/dist-packages (from typer<1.0,>=0.12->gradio) (1.5.4)\n",
            "Requirement already satisfied: rich>=10.11.0 in /usr/local/lib/python3.11/dist-packages (from typer<1.0,>=0.12->gradio) (13.9.4)\n",
            "Requirement already satisfied: six>=1.5 in /usr/local/lib/python3.11/dist-packages (from python-dateutil>=2.8.2->pandas<3.0,>=1.0->gradio) (1.17.0)\n",
            "Requirement already satisfied: markdown-it-py>=2.2.0 in /usr/local/lib/python3.11/dist-packages (from rich>=10.11.0->typer<1.0,>=0.12->gradio) (3.0.0)\n",
            "Requirement already satisfied: pygments<3.0.0,>=2.13.0 in /usr/local/lib/python3.11/dist-packages (from rich>=10.11.0->typer<1.0,>=0.12->gradio) (2.19.2)\n",
            "Requirement already satisfied: charset-normalizer<4,>=2 in /usr/local/lib/python3.11/dist-packages (from requests->huggingface-hub>=0.28.1->gradio) (3.4.2)\n",
            "Requirement already satisfied: urllib3<3,>=1.21.1 in /usr/local/lib/python3.11/dist-packages (from requests->huggingface-hub>=0.28.1->gradio) (2.4.0)\n",
            "Requirement already satisfied: mdurl~=0.1 in /usr/local/lib/python3.11/dist-packages (from markdown-it-py>=2.2.0->rich>=10.11.0->typer<1.0,>=0.12->gradio) (0.1.2)\n"
          ]
        }
      ]
    },
    {
      "cell_type": "code",
      "source": [
        "# Let's extract and clean the relevant portions to create a single functional Gradio app\n",
        "# We will remove install commands and convert environment-specific elements into a clean script\n",
        "\n",
        "# Prepare a simplified and integrated Gradio interface script\n",
        "import gradio as gr\n",
        "from openai import OpenAI\n",
        "import os\n",
        "\n",
        "# Step 2: Import and setup\n",
        "from google.colab import userdata\n",
        "\n",
        "os.environ[\"OPENAI_API_KEY\"] = userdata.get('openai')\n",
        "\n",
        "client = OpenAI()\n",
        "\n",
        "# Define system message\n",
        "system_message = \"\"\"You are a Python tutor bot. Only answer questions strictly related to Python programming at a beginner (8th-grade) level. If a user asks anything unrelated to Python, politely decline to answer and state, \"I'm a Python tutor bot and answer only Python-related questions.\" For Python questions, provide clear, simple explanations and code examples suitable for an 8th grader. Always reason step-by-step.\"\"\"\n",
        "\n",
        "# Function for handling user queries\n",
        "def ask_bot(user_input):\n",
        "    response = client.chat.completions.create(\n",
        "        model=\"gpt-4.1-nano\",  # Update with your available model\n",
        "        messages=[\n",
        "            {\"role\": \"system\", \"content\": system_message},\n",
        "            {\"role\": \"user\", \"content\": user_input}\n",
        "        ],\n",
        "        max_tokens=1000,\n",
        "        top_p=0.2,\n",
        "        frequency_penalty=0.2,\n",
        "        presence_penalty=0.2,\n",
        "        stop=[\"thanks\", \"bye\"]\n",
        "    )\n",
        "    return response.choices[0].message.content.strip()\n",
        "\n",
        "# Gradio UI\n",
        "ui = gr.Interface(\n",
        "    fn=ask_bot,\n",
        "    inputs=gr.Textbox(label=\"Ask a Python question\"),\n",
        "    outputs=gr.Textbox(label=\"Tutor Bot's Response\"),\n",
        "    title=\"DDS Python Tutor Bot (Beginner Level)\"\n",
        ")\n",
        "\n",
        "ui.launch(share=True)\n"
      ],
      "metadata": {
        "colab": {
          "base_uri": "https://localhost:8080/",
          "height": 647
        },
        "id": "ZzOl0qLwjlV-",
        "outputId": "de2340c8-7f33-4757-e9da-1cc44ce5abb3"
      },
      "execution_count": 16,
      "outputs": [
        {
          "output_type": "stream",
          "name": "stdout",
          "text": [
            "Colab notebook detected. To show errors in colab notebook, set debug=True in launch()\n"
          ]
        },
        {
          "output_type": "stream",
          "name": "stderr",
          "text": [
            "/usr/local/lib/python3.11/dist-packages/gradio/analytics.py:108: UserWarning: unable to parse version details from package URL.\n",
            "  warnings.warn(\"unable to parse version details from package URL.\")\n"
          ]
        },
        {
          "output_type": "stream",
          "name": "stdout",
          "text": [
            "* Running on public URL: https://f6577d9e7d05c392a5.gradio.live\n",
            "\n",
            "This share link expires in 1 week. For free permanent hosting and GPU upgrades, run `gradio deploy` from the terminal in the working directory to deploy to Hugging Face Spaces (https://huggingface.co/spaces)\n"
          ]
        },
        {
          "output_type": "display_data",
          "data": {
            "text/plain": [
              "<IPython.core.display.HTML object>"
            ],
            "text/html": [
              "<div><iframe src=\"https://f6577d9e7d05c392a5.gradio.live\" width=\"100%\" height=\"500\" allow=\"autoplay; camera; microphone; clipboard-read; clipboard-write;\" frameborder=\"0\" allowfullscreen></iframe></div>"
            ]
          },
          "metadata": {}
        },
        {
          "output_type": "execute_result",
          "data": {
            "text/plain": []
          },
          "metadata": {},
          "execution_count": 16
        }
      ]
    }
  ]
}