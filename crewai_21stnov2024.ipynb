{
  "cells": [
    {
      "cell_type": "markdown",
      "metadata": {
        "id": "view-in-github",
        "colab_type": "text"
      },
      "source": [
        "<a href=\"https://colab.research.google.com/github/Decoding-Data-Science/airesidency/blob/main/crewai_21stnov2024.ipynb\" target=\"_parent\"><img src=\"https://colab.research.google.com/assets/colab-badge.svg\" alt=\"Open In Colab\"/></a>"
      ]
    },
    {
      "cell_type": "markdown",
      "metadata": {
        "id": "hKK2RxJq43xg"
      },
      "source": [
        "You can download the `requirements.txt` for this course from the workspace of this lab. `File --> Open...`"
      ]
    },
    {
      "cell_type": "markdown",
      "metadata": {
        "id": "aAlM4In843xh"
      },
      "source": [
        "# L2: Create Agents to Research and Write an Article\n",
        "\n",
        "In this lesson, you will be introduced to the foundational concepts of multi-agent systems and get an overview of the crewAI framework."
      ]
    },
    {
      "cell_type": "markdown",
      "metadata": {
        "id": "-KSI1S0343xh"
      },
      "source": [
        "The libraries are already installed in the classroom. If you're running this notebook on your own machine, you can install the following:\n",
        "```Python\n",
        "!pip install crewai==0.28.8 crewai_tools==0.1.6 langchain_community==0.0.29\n",
        "```"
      ]
    },
    {
      "cell_type": "code",
      "source": [
        "!pip install crewai==0.28.8 crewai_tools==0.1.6 langchain_community==0.0.29"
      ],
      "metadata": {
        "collapsed": true,
        "id": "uLifroOk4742"
      },
      "execution_count": null,
      "outputs": []
    },
    {
      "cell_type": "code",
      "execution_count": null,
      "metadata": {
        "height": 64,
        "id": "OHDV3B7A43xh"
      },
      "outputs": [],
      "source": [
        "# Warning control\n",
        "import warnings\n",
        "warnings.filterwarnings('ignore')"
      ]
    },
    {
      "cell_type": "markdown",
      "metadata": {
        "id": "l3gNCiRH43xi"
      },
      "source": [
        "- Import from the crewAI libray."
      ]
    },
    {
      "cell_type": "code",
      "execution_count": null,
      "metadata": {
        "height": 30,
        "id": "9Z2hcBGK43xi"
      },
      "outputs": [],
      "source": [
        "from crewai import Agent, Task, Crew"
      ]
    },
    {
      "cell_type": "markdown",
      "metadata": {
        "id": "NS0bnF2a43xi"
      },
      "source": [
        "- As a LLM for your agents, you'll be using OpenAI's `gpt-3.5-turbo`.\n",
        "\n",
        "**Optional Note:** crewAI also allow other popular models to be used as a LLM for your Agents. You can see some of the examples at the [bottom of the notebook](#1)."
      ]
    },
    {
      "cell_type": "code",
      "execution_count": null,
      "metadata": {
        "height": 115,
        "id": "3mTxhKds43xi"
      },
      "outputs": [],
      "source": [
        "import os\n",
        "\n",
        "os.environ[\"OPENAI_MODEL_NAME\"] = 'gpt-3.5-turbo'"
      ]
    },
    {
      "cell_type": "markdown",
      "metadata": {
        "id": "gch3Ikh643xi"
      },
      "source": [
        "## Creating Agents\n",
        "\n",
        "- Define your Agents, and provide them a `role`, `goal` and `backstory`.\n",
        "- It has been seen that LLMs perform better when they are role playing."
      ]
    },
    {
      "cell_type": "markdown",
      "metadata": {
        "id": "1tcCzcQ343xi"
      },
      "source": [
        "### Agent: Planner\n",
        "\n",
        "**Note**: The benefit of using _multiple strings_ :\n",
        "```Python\n",
        "varname = \"line 1 of text\"\n",
        "          \"line 2 of text\"\n",
        "```\n",
        "\n",
        "versus the _triple quote docstring_:\n",
        "```Python\n",
        "varname = \"\"\"line 1 of text\n",
        "             line 2 of text\n",
        "          \"\"\"\n",
        "```\n",
        "is that it can avoid adding those whitespaces and newline characters, making it better formatted to be passed to the LLM."
      ]
    },
    {
      "cell_type": "code",
      "source": [
        "#ad your openai key\n",
        "import os\n",
        "os.environ[\"OPENAI_API_KEY\"] = \"sk-proj-\""
      ],
      "metadata": {
        "id": "9W5Xxzx96U2W"
      },
      "execution_count": null,
      "outputs": []
    },
    {
      "cell_type": "code",
      "source": [],
      "metadata": {
        "id": "3RBCAxhqfdIn"
      },
      "execution_count": null,
      "outputs": []
    },
    {
      "cell_type": "code",
      "source": [
        "import os\n",
        "print(os.getenv(\"OPENAI_API_KEY\"))"
      ],
      "metadata": {
        "id": "dsUE48qO6LKW"
      },
      "execution_count": null,
      "outputs": []
    },
    {
      "cell_type": "code",
      "execution_count": null,
      "metadata": {
        "height": 251,
        "id": "geSOxLhd43xi"
      },
      "outputs": [],
      "source": [
        "planner = Agent(\n",
        "    role=\"Content Planner\",\n",
        "    goal=\"Plan engaging and factually accurate content on {topic}\",\n",
        "    backstory=\"You're working on planning a blog article \"\n",
        "              \"about the topic: {topic}.\"\n",
        "              \"You collect information that helps the \"\n",
        "              \"audience learn something \"\n",
        "              \"and make informed decisions. \"\n",
        "              \"Your work is the basis for \"\n",
        "              \"the Content Writer to write an article on this topic.\",\n",
        "    allow_delegation=False,\n",
        "\tverbose=True\n",
        ")"
      ]
    },
    {
      "cell_type": "markdown",
      "metadata": {
        "id": "VqAKge8743xi"
      },
      "source": [
        "### Agent: Writer"
      ]
    },
    {
      "cell_type": "code",
      "execution_count": null,
      "metadata": {
        "height": 387,
        "id": "cxrmp_sH43xj"
      },
      "outputs": [],
      "source": [
        "writer = Agent(\n",
        "    role=\"Content Writer\",\n",
        "    goal=\"Write insightful and factually accurate \"\n",
        "         \"opinion piece about the topic in 1500 words: {topic}\",\n",
        "    backstory=\"You're working on a writing \"\n",
        "              \"a new opinion piece about the topic: {topic}. \"\n",
        "              \"You base your writing on the work of \"\n",
        "              \"the Content Planner, who provides an outline \"\n",
        "              \"and relevant context about the topic. \"\n",
        "              \"You follow the main objectives and \"\n",
        "              \"direction of the outline, \"\n",
        "              \"as provide by the Content Planner. \"\n",
        "              \"You also provide objective and impartial insights \"\n",
        "              \"and back them up with information \"\n",
        "              \"provide by the Content Planner. \"\n",
        "              \"You acknowledge in your opinion piece \"\n",
        "              \"when your statements are opinions \"\n",
        "              \"as opposed to objective statements.\",\n",
        "    allow_delegation=False,\n",
        "    verbose=True\n",
        ")"
      ]
    },
    {
      "cell_type": "markdown",
      "metadata": {
        "id": "HQz6SNvz43xj"
      },
      "source": [
        "### Agent: Editor"
      ]
    },
    {
      "cell_type": "code",
      "execution_count": null,
      "metadata": {
        "height": 285,
        "id": "6EdUB-Qg43xj"
      },
      "outputs": [],
      "source": [
        "editor = Agent(\n",
        "    role=\"Editor\",\n",
        "    goal=\"Edit a given blog post to align with \"\n",
        "         \"the writing style of the organization. \",\n",
        "    backstory=\"You are an editor who receives a blog post \"\n",
        "              \"from the Content Writer. \"\n",
        "              \"Your goal is to review the blog post \"\n",
        "              \"to ensure that it follows journalistic best practices,\"\n",
        "              \"provides balanced viewpoints \"\n",
        "              \"when providing opinions or assertions, \"\n",
        "              \"and also avoids major controversial topics \"\n",
        "              \"or opinions when possible.\",\n",
        "    allow_delegation=False,\n",
        "    verbose=True\n",
        ")"
      ]
    },
    {
      "cell_type": "markdown",
      "metadata": {
        "id": "Hv9CK0QC43xj"
      },
      "source": [
        "## Creating Tasks\n",
        "\n",
        "- Define your Tasks, and provide them a `description`, `expected_output` and `agent`."
      ]
    },
    {
      "cell_type": "markdown",
      "metadata": {
        "id": "bDJJxU_143xj"
      },
      "source": [
        "### Task: Plan"
      ]
    },
    {
      "cell_type": "code",
      "execution_count": null,
      "metadata": {
        "height": 285,
        "id": "yjvPdu1143xj"
      },
      "outputs": [],
      "source": [
        "plan = Task(\n",
        "    description=(\n",
        "        \"1. Prioritize the latest trends, key players, \"\n",
        "            \"and noteworthy news on {topic}.\\n\"\n",
        "        \"2. Identify the target audience, considering \"\n",
        "            \"their interests and pain points.\\n\"\n",
        "        \"3. Develop a detailed content outline including \"\n",
        "            \"an introduction, key points, and a call to action.\\n\"\n",
        "        \"4. Include SEO keywords and relevant data or sources.\"\n",
        "    ),\n",
        "    expected_output=\"A comprehensive content plan document \"\n",
        "        \"with an outline, audience analysis, \"\n",
        "        \"SEO keywords, and resources.\",\n",
        "    agent=planner,\n",
        ")"
      ]
    },
    {
      "cell_type": "markdown",
      "metadata": {
        "id": "e_aRp-QA43xj"
      },
      "source": [
        "### Task: Write"
      ]
    },
    {
      "cell_type": "code",
      "execution_count": null,
      "metadata": {
        "height": 336,
        "id": "KTQlVaEU43xj"
      },
      "outputs": [],
      "source": [
        "write = Task(\n",
        "    description=(\n",
        "        \"1. Use the content plan to craft a compelling \"\n",
        "            \"blog post on {topic}.\\n\"\n",
        "        \"2. Incorporate SEO keywords naturally.\\n\"\n",
        "\t\t\"3. Sections/Subtitles are properly named \"\n",
        "            \"in an engaging manner.\\n\"\n",
        "        \"4. Ensure the post is structured with an \"\n",
        "            \"engaging introduction, insightful body, \"\n",
        "            \"and a summarizing conclusion.\\n\"\n",
        "        \"5. Proofread for grammatical errors and \"\n",
        "            \"alignment with the brand's voice.\\n\"\n",
        "    ),\n",
        "    expected_output=\"A well-written blog post \"\n",
        "        \"in markdown format, ready for publication, \"\n",
        "        \"each section should have 2 or 3 paragraphs.1500 words\",\n",
        "    agent=writer,\n",
        ")"
      ]
    },
    {
      "cell_type": "markdown",
      "metadata": {
        "id": "mKieKRp243xj"
      },
      "source": [
        "### Task: Edit"
      ]
    },
    {
      "cell_type": "code",
      "execution_count": null,
      "metadata": {
        "height": 183,
        "id": "3lbGLYsq43xj"
      },
      "outputs": [],
      "source": [
        "edit = Task(\n",
        "    description=(\"Proofread the given blog post for \"\n",
        "                 \"grammatical errors and \"\n",
        "                 \"alignment with the brand's voice.\"),\n",
        "    expected_output=\"A well-written blog post in markdown format, \"\n",
        "                    \"ready for publication, \"\n",
        "                    \"each section should have 2 or 3 paragraphs.\",\n",
        "    agent=editor\n",
        ")"
      ]
    },
    {
      "cell_type": "code",
      "source": [],
      "metadata": {
        "id": "QwVm61a4cFVg"
      },
      "execution_count": null,
      "outputs": []
    },
    {
      "cell_type": "markdown",
      "metadata": {
        "id": "_R_Pck1n43xk"
      },
      "source": [
        "## Creating the Crew\n",
        "\n",
        "- Create your crew of Agents\n",
        "- Pass the tasks to be performed by those agents.\n",
        "    - **Note**: *For this simple example*, the tasks will be performed sequentially (i.e they are dependent on each other), so the _order_ of the task in the list _matters_.\n",
        "- `verbose=2` allows you to see all the logs of the execution."
      ]
    },
    {
      "cell_type": "code",
      "execution_count": null,
      "metadata": {
        "height": 98,
        "id": "UhloOBGM43xk"
      },
      "outputs": [],
      "source": [
        "crew = Crew(\n",
        "    agents=[planner, writer, editor],\n",
        "    tasks=[plan, write, edit],\n",
        "    verbose=2\n",
        ")"
      ]
    },
    {
      "cell_type": "markdown",
      "metadata": {
        "id": "1-yLIywJ43xk"
      },
      "source": [
        "## Running the Crew"
      ]
    },
    {
      "cell_type": "markdown",
      "metadata": {
        "id": "BcfN9bzT43xk"
      },
      "source": [
        "**Note**: LLMs can provide different outputs for they same input, so what you get might be different than what you see in the video."
      ]
    },
    {
      "cell_type": "code",
      "execution_count": null,
      "metadata": {
        "height": 47,
        "colab": {
          "base_uri": "https://localhost:8080/"
        },
        "id": "AvlNu0MF43xk",
        "outputId": "5ca0bf17-ec6f-4850-a24f-0fc1fc836113"
      },
      "outputs": [
        {
          "output_type": "stream",
          "name": "stdout",
          "text": [
            "\u001b[1m\u001b[95m [DEBUG]: == Working Agent: Content Planner\u001b[00m\n",
            "\u001b[1m\u001b[95m [INFO]: == Starting Task: 1. Prioritize the latest trends, key players, and noteworthy news on Stealth Assessment in education.\n",
            "2. Identify the target audience, considering their interests and pain points.\n",
            "3. Develop a detailed content outline including an introduction, key points, and a call to action.\n",
            "4. Include SEO keywords and relevant data or sources.\u001b[00m\n",
            "\n",
            "\n",
            "\u001b[1m> Entering new CrewAgentExecutor chain...\u001b[0m\n",
            "\u001b[32;1m\u001b[1;3mI now can give a great answer\n",
            "\n",
            "Final Answer: \n",
            "\n",
            "Content Plan for Blog Article on Stealth Assessment in Education\n",
            "\n",
            "Introduction:\n",
            "- Brief explanation of what stealth assessment is\n",
            "- Importance of stealth assessment in education\n",
            "- Preview of key points to be discussed\n",
            "\n",
            "Key Points:\n",
            "1. Latest Trends in Stealth Assessment:\n",
            "- Incorporation of artificial intelligence and machine learning\n",
            "- Personalized learning experiences\n",
            "- Gamification in assessments\n",
            "\n",
            "2. Key Players in Stealth Assessment:\n",
            "- Educational technology companies such as Knewton and DreamBox\n",
            "- Research institutions like SRI International and ETS\n",
            "- Government organizations promoting innovative assessment practices\n",
            "\n",
            "3. Noteworthy News on Stealth Assessment:\n",
            "- Case studies of successful implementation in schools\n",
            "- Research findings on the effectiveness of stealth assessment\n",
            "- Updates on policy changes related to assessment in education\n",
            "\n",
            "Audience Analysis:\n",
            "- Target Audience: Educators, school administrators, curriculum developers\n",
            "- Interests: Innovative assessment practices, improving student learning outcomes\n",
            "- Pain Points: Limited resources for traditional assessments, need for data-driven decision making\n",
            "\n",
            "SEO Keywords:\n",
            "- Stealth assessment in education\n",
            "- Innovative assessment practices\n",
            "- Personalized learning experiences\n",
            "- Educational technology in assessment\n",
            "- Gamification in education\n",
            "\n",
            "Resources:\n",
            "- SRI International. (2021). Stealth assessment: Measuring and supporting 21st-century skills.\n",
            "- Knewton. (2020). The future of assessment: How AI is transforming education.\n",
            "- DreamBox. (2019). Using gamification to enhance student engagement in assessments.\n",
            "\n",
            "Call to Action:\n",
            "- Encourage readers to explore implementing stealth assessment in their educational settings\n",
            "- Provide links to additional resources and tools for integrating innovative assessment practices\n",
            "\n",
            "Overall, this content plan aims to provide a comprehensive overview of stealth assessment in education, highlighting the latest trends, key players, and noteworthy news in the field. By addressing the interests and pain points of the target audience, the blog article will engage readers and provide valuable insights for improving assessment practices in education.\u001b[0m\n",
            "\n",
            "\u001b[1m> Finished chain.\u001b[0m\n",
            "\u001b[1m\u001b[92m [DEBUG]: == [Content Planner] Task output: Content Plan for Blog Article on Stealth Assessment in Education\n",
            "\n",
            "Introduction:\n",
            "- Brief explanation of what stealth assessment is\n",
            "- Importance of stealth assessment in education\n",
            "- Preview of key points to be discussed\n",
            "\n",
            "Key Points:\n",
            "1. Latest Trends in Stealth Assessment:\n",
            "- Incorporation of artificial intelligence and machine learning\n",
            "- Personalized learning experiences\n",
            "- Gamification in assessments\n",
            "\n",
            "2. Key Players in Stealth Assessment:\n",
            "- Educational technology companies such as Knewton and DreamBox\n",
            "- Research institutions like SRI International and ETS\n",
            "- Government organizations promoting innovative assessment practices\n",
            "\n",
            "3. Noteworthy News on Stealth Assessment:\n",
            "- Case studies of successful implementation in schools\n",
            "- Research findings on the effectiveness of stealth assessment\n",
            "- Updates on policy changes related to assessment in education\n",
            "\n",
            "Audience Analysis:\n",
            "- Target Audience: Educators, school administrators, curriculum developers\n",
            "- Interests: Innovative assessment practices, improving student learning outcomes\n",
            "- Pain Points: Limited resources for traditional assessments, need for data-driven decision making\n",
            "\n",
            "SEO Keywords:\n",
            "- Stealth assessment in education\n",
            "- Innovative assessment practices\n",
            "- Personalized learning experiences\n",
            "- Educational technology in assessment\n",
            "- Gamification in education\n",
            "\n",
            "Resources:\n",
            "- SRI International. (2021). Stealth assessment: Measuring and supporting 21st-century skills.\n",
            "- Knewton. (2020). The future of assessment: How AI is transforming education.\n",
            "- DreamBox. (2019). Using gamification to enhance student engagement in assessments.\n",
            "\n",
            "Call to Action:\n",
            "- Encourage readers to explore implementing stealth assessment in their educational settings\n",
            "- Provide links to additional resources and tools for integrating innovative assessment practices\n",
            "\n",
            "Overall, this content plan aims to provide a comprehensive overview of stealth assessment in education, highlighting the latest trends, key players, and noteworthy news in the field. By addressing the interests and pain points of the target audience, the blog article will engage readers and provide valuable insights for improving assessment practices in education.\n",
            "\n",
            "\u001b[00m\n",
            "\u001b[1m\u001b[95m [DEBUG]: == Working Agent: Content Writer\u001b[00m\n",
            "\u001b[1m\u001b[95m [INFO]: == Starting Task: 1. Use the content plan to craft a compelling blog post on Stealth Assessment in education.\n",
            "2. Incorporate SEO keywords naturally.\n",
            "3. Sections/Subtitles are properly named in an engaging manner.\n",
            "4. Ensure the post is structured with an engaging introduction, insightful body, and a summarizing conclusion.\n",
            "5. Proofread for grammatical errors and alignment with the brand's voice.\n",
            "\u001b[00m\n",
            "\n",
            "\n",
            "\u001b[1m> Entering new CrewAgentExecutor chain...\u001b[0m\n",
            "\u001b[32;1m\u001b[1;3mI now can give a great answer\n",
            "\n",
            "Final Answer:\n",
            "\n",
            "# Stealth Assessment in Education: Revolutionizing Assessment Practices\n",
            "\n",
            "## Introduction\n",
            "\n",
            "In the realm of education, assessment plays a crucial role in measuring student learning outcomes and informing instructional strategies. One innovative approach that has been gaining traction in recent years is stealth assessment. Unlike traditional forms of assessment, stealth assessment integrates assessment seamlessly into the learning process, providing real-time feedback and insights without disrupting the flow of instruction. This approach allows educators to gather valuable data on student progress and mastery of skills in a more natural and authentic manner.\n",
            "\n",
            "The importance of stealth assessment in education cannot be overstated. By leveraging technology and innovative assessment practices, educators can gain deeper insights into student learning, personalize instruction to meet individual needs, and create engaging learning experiences. In this blog post, we will explore the latest trends in stealth assessment, key players driving innovation in the field, and noteworthy news on successful implementations and research findings.\n",
            "\n",
            "## Latest Trends in Stealth Assessment\n",
            "\n",
            "One of the key trends shaping stealth assessment in education is the integration of artificial intelligence (AI) and machine learning algorithms. These technologies enable educators to analyze student data in real-time, identify patterns and trends, and provide personalized feedback to support student learning. By harnessing the power of AI, educators can create adaptive learning experiences that cater to each student's unique learning needs and preferences.\n",
            "\n",
            "Another trend in stealth assessment is the focus on personalized learning experiences. By incorporating adaptive assessment tools and platforms, educators can tailor instruction to align with student interests, learning styles, and pace of learning. This personalized approach not only enhances student engagement but also fosters a deeper understanding of concepts and skills.\n",
            "\n",
            "Furthermore, gamification has emerged as a popular strategy in stealth assessment. By integrating game-like elements into assessments, educators can increase student motivation, engagement, and retention of knowledge. Gamified assessments not only make learning fun and interactive but also provide valuable data on student progress and performance.\n",
            "\n",
            "## Key Players in Stealth Assessment\n",
            "\n",
            "Several key players are driving innovation in stealth assessment in education. Educational technology companies such as Knewton and DreamBox are at the forefront of developing AI-powered assessment tools that enhance student learning outcomes. These companies leverage data analytics and machine learning to provide personalized recommendations and adaptive learning experiences for students.\n",
            "\n",
            "Research institutions like SRI International and ETS are also actively involved in advancing stealth assessment practices. Through research studies and collaborations with educators, these institutions are exploring new ways to measure and support 21st-century skills such as critical thinking, creativity, and collaboration. By partnering with schools and districts, they are working to implement innovative assessment practices that promote deeper learning and student success.\n",
            "\n",
            "Government organizations are also playing a role in promoting innovative assessment practices in education. By funding research initiatives, supporting policy changes, and advocating for data-driven decision-making, these organizations are driving the adoption of stealth assessment in schools and educational settings.\n",
            "\n",
            "## Noteworthy News on Stealth Assessment\n",
            "\n",
            "Case studies of successful implementation of stealth assessment in schools have highlighted the effectiveness of this approach in improving student learning outcomes. Educators have reported higher levels of student engagement, motivation, and achievement when using stealth assessment tools and platforms. Research findings have also supported the benefits of stealth assessment, showing positive correlations between personalized learning experiences and academic performance.\n",
            "\n",
            "Updates on policy changes related to assessment in education have underscored the importance of adopting innovative assessment practices to meet the diverse needs of students. By incorporating stealth assessment into their instructional practices, educators can gain a more comprehensive understanding of student progress, identify areas for improvement, and make data-informed decisions to support student success.\n",
            "\n",
            "## Conclusion\n",
            "\n",
            "In conclusion, stealth assessment is revolutionizing assessment practices in education by providing a more holistic and personalized approach to measuring student learning outcomes. By embracing the latest trends in AI, personalized learning experiences, and gamification, educators can create engaging and effective assessments that support student growth and achievement. With key players driving innovation in the field and noteworthy news highlighting successful implementations, stealth assessment is poised to transform the way we assess student learning in the 21st century.\n",
            "\n",
            "As educators, school administrators, and curriculum developers, it is essential to explore the potential of stealth assessment in enhancing assessment practices and improving student outcomes. By integrating innovative assessment tools and practices into our educational settings, we can create more engaging, personalized, and effective learning experiences for all students.\n",
            "\n",
            "Let's embrace the power of stealth assessment and revolutionize assessment practices in education for the betterment of student learning and success.\n",
            "\n",
            "*Stay tuned for more insights and resources on implementing stealth assessment in your educational setting!*\u001b[0m\n",
            "\n",
            "\u001b[1m> Finished chain.\u001b[0m\n",
            "\u001b[1m\u001b[92m [DEBUG]: == [Content Writer] Task output: # Stealth Assessment in Education: Revolutionizing Assessment Practices\n",
            "\n",
            "## Introduction\n",
            "\n",
            "In the realm of education, assessment plays a crucial role in measuring student learning outcomes and informing instructional strategies. One innovative approach that has been gaining traction in recent years is stealth assessment. Unlike traditional forms of assessment, stealth assessment integrates assessment seamlessly into the learning process, providing real-time feedback and insights without disrupting the flow of instruction. This approach allows educators to gather valuable data on student progress and mastery of skills in a more natural and authentic manner.\n",
            "\n",
            "The importance of stealth assessment in education cannot be overstated. By leveraging technology and innovative assessment practices, educators can gain deeper insights into student learning, personalize instruction to meet individual needs, and create engaging learning experiences. In this blog post, we will explore the latest trends in stealth assessment, key players driving innovation in the field, and noteworthy news on successful implementations and research findings.\n",
            "\n",
            "## Latest Trends in Stealth Assessment\n",
            "\n",
            "One of the key trends shaping stealth assessment in education is the integration of artificial intelligence (AI) and machine learning algorithms. These technologies enable educators to analyze student data in real-time, identify patterns and trends, and provide personalized feedback to support student learning. By harnessing the power of AI, educators can create adaptive learning experiences that cater to each student's unique learning needs and preferences.\n",
            "\n",
            "Another trend in stealth assessment is the focus on personalized learning experiences. By incorporating adaptive assessment tools and platforms, educators can tailor instruction to align with student interests, learning styles, and pace of learning. This personalized approach not only enhances student engagement but also fosters a deeper understanding of concepts and skills.\n",
            "\n",
            "Furthermore, gamification has emerged as a popular strategy in stealth assessment. By integrating game-like elements into assessments, educators can increase student motivation, engagement, and retention of knowledge. Gamified assessments not only make learning fun and interactive but also provide valuable data on student progress and performance.\n",
            "\n",
            "## Key Players in Stealth Assessment\n",
            "\n",
            "Several key players are driving innovation in stealth assessment in education. Educational technology companies such as Knewton and DreamBox are at the forefront of developing AI-powered assessment tools that enhance student learning outcomes. These companies leverage data analytics and machine learning to provide personalized recommendations and adaptive learning experiences for students.\n",
            "\n",
            "Research institutions like SRI International and ETS are also actively involved in advancing stealth assessment practices. Through research studies and collaborations with educators, these institutions are exploring new ways to measure and support 21st-century skills such as critical thinking, creativity, and collaboration. By partnering with schools and districts, they are working to implement innovative assessment practices that promote deeper learning and student success.\n",
            "\n",
            "Government organizations are also playing a role in promoting innovative assessment practices in education. By funding research initiatives, supporting policy changes, and advocating for data-driven decision-making, these organizations are driving the adoption of stealth assessment in schools and educational settings.\n",
            "\n",
            "## Noteworthy News on Stealth Assessment\n",
            "\n",
            "Case studies of successful implementation of stealth assessment in schools have highlighted the effectiveness of this approach in improving student learning outcomes. Educators have reported higher levels of student engagement, motivation, and achievement when using stealth assessment tools and platforms. Research findings have also supported the benefits of stealth assessment, showing positive correlations between personalized learning experiences and academic performance.\n",
            "\n",
            "Updates on policy changes related to assessment in education have underscored the importance of adopting innovative assessment practices to meet the diverse needs of students. By incorporating stealth assessment into their instructional practices, educators can gain a more comprehensive understanding of student progress, identify areas for improvement, and make data-informed decisions to support student success.\n",
            "\n",
            "## Conclusion\n",
            "\n",
            "In conclusion, stealth assessment is revolutionizing assessment practices in education by providing a more holistic and personalized approach to measuring student learning outcomes. By embracing the latest trends in AI, personalized learning experiences, and gamification, educators can create engaging and effective assessments that support student growth and achievement. With key players driving innovation in the field and noteworthy news highlighting successful implementations, stealth assessment is poised to transform the way we assess student learning in the 21st century.\n",
            "\n",
            "As educators, school administrators, and curriculum developers, it is essential to explore the potential of stealth assessment in enhancing assessment practices and improving student outcomes. By integrating innovative assessment tools and practices into our educational settings, we can create more engaging, personalized, and effective learning experiences for all students.\n",
            "\n",
            "Let's embrace the power of stealth assessment and revolutionize assessment practices in education for the betterment of student learning and success.\n",
            "\n",
            "*Stay tuned for more insights and resources on implementing stealth assessment in your educational setting!*\n",
            "\n",
            "\u001b[00m\n",
            "\u001b[1m\u001b[95m [DEBUG]: == Working Agent: Editor\u001b[00m\n",
            "\u001b[1m\u001b[95m [INFO]: == Starting Task: Proofread the given blog post for grammatical errors and alignment with the brand's voice.\u001b[00m\n",
            "\n",
            "\n",
            "\u001b[1m> Entering new CrewAgentExecutor chain...\u001b[0m\n",
            "\u001b[32;1m\u001b[1;3mI now can give a great answer\n",
            "Final Answer:\n",
            "# Stealth Assessment in Education: Revolutionizing Assessment Practices\n",
            "\n",
            "In the realm of education, assessment plays a crucial role in measuring student learning outcomes and informing instructional strategies. One innovative approach that has been gaining traction in recent years is stealth assessment. Unlike traditional forms of assessment, stealth assessment integrates assessment seamlessly into the learning process, providing real-time feedback and insights without disrupting the flow of instruction. This approach allows educators to gather valuable data on student progress and mastery of skills in a more natural and authentic manner.\n",
            "\n",
            "The importance of stealth assessment in education cannot be overstated. By leveraging technology and innovative assessment practices, educators can gain deeper insights into student learning, personalize instruction to meet individual needs, and create engaging learning experiences. In this blog post, we will explore the latest trends in stealth assessment, key players driving innovation in the field, and noteworthy news on successful implementations and research findings.\n",
            "\n",
            "## Latest Trends in Stealth Assessment\n",
            "\n",
            "One of the key trends shaping stealth assessment in education is the integration of artificial intelligence (AI) and machine learning algorithms. These technologies enable educators to analyze student data in real-time, identify patterns and trends, and provide personalized feedback to support student learning. By harnessing the power of AI, educators can create adaptive learning experiences that cater to each student's unique learning needs and preferences.\n",
            "\n",
            "Another trend in stealth assessment is the focus on personalized learning experiences. By incorporating adaptive assessment tools and platforms, educators can tailor instruction to align with student interests, learning styles, and pace of learning. This personalized approach not only enhances student engagement but also fosters a deeper understanding of concepts and skills.\n",
            "\n",
            "Furthermore, gamification has emerged as a popular strategy in stealth assessment. By integrating game-like elements into assessments, educators can increase student motivation, engagement, and retention of knowledge. Gamified assessments not only make learning fun and interactive but also provide valuable data on student progress and performance.\n",
            "\n",
            "## Key Players in Stealth Assessment\n",
            "\n",
            "Several key players are driving innovation in stealth assessment in education. Educational technology companies such as Knewton and DreamBox are at the forefront of developing AI-powered assessment tools that enhance student learning outcomes. These companies leverage data analytics and machine learning to provide personalized recommendations and adaptive learning experiences for students.\n",
            "\n",
            "Research institutions like SRI International and ETS are also actively involved in advancing stealth assessment practices. Through research studies and collaborations with educators, these institutions are exploring new ways to measure and support 21st-century skills such as critical thinking, creativity, and collaboration. By partnering with schools and districts, they are working to implement innovative assessment practices that promote deeper learning and student success.\n",
            "\n",
            "Government organizations are also playing a role in promoting innovative assessment practices in education. By funding research initiatives, supporting policy changes, and advocating for data-driven decision-making, these organizations are driving the adoption of stealth assessment in schools and educational settings.\n",
            "\n",
            "## Noteworthy News on Stealth Assessment\n",
            "\n",
            "Case studies of successful implementation of stealth assessment in schools have highlighted the effectiveness of this approach in improving student learning outcomes. Educators have reported higher levels of student engagement, motivation, and achievement when using stealth assessment tools and platforms. Research findings have also supported the benefits of stealth assessment, showing positive correlations between personalized learning experiences and academic performance.\n",
            "\n",
            "Updates on policy changes related to assessment in education have underscored the importance of adopting innovative assessment practices to meet the diverse needs of students. By incorporating stealth assessment into their instructional practices, educators can gain a more comprehensive understanding of student progress, identify areas for improvement, and make data-informed decisions to support student success.\n",
            "\n",
            "## Conclusion\n",
            "\n",
            "In conclusion, stealth assessment is revolutionizing assessment practices in education by providing a more holistic and personalized approach to measuring student learning outcomes. By embracing the latest trends in AI, personalized learning experiences, and gamification, educators can create engaging and effective assessments that support student growth and achievement. With key players driving innovation in the field and noteworthy news highlighting successful implementations, stealth assessment is poised to transform the way we assess student learning in the 21st century.\n",
            "\n",
            "As educators, school administrators, and curriculum developers, it is essential to explore the potential of stealth assessment in enhancing assessment practices and improving student outcomes. By integrating innovative assessment tools and practices into our educational settings, we can create more engaging, personalized, and effective learning experiences for all students.\n",
            "\n",
            "Let's embrace the power of stealth assessment and revolutionize assessment practices in education for the betterment of student learning and success.\n",
            "\n",
            "*Stay tuned for more insights and resources on implementing stealth assessment in your educational setting!*\u001b[0m\n",
            "\n",
            "\u001b[1m> Finished chain.\u001b[0m\n",
            "\u001b[1m\u001b[92m [DEBUG]: == [Editor] Task output: # Stealth Assessment in Education: Revolutionizing Assessment Practices\n",
            "\n",
            "In the realm of education, assessment plays a crucial role in measuring student learning outcomes and informing instructional strategies. One innovative approach that has been gaining traction in recent years is stealth assessment. Unlike traditional forms of assessment, stealth assessment integrates assessment seamlessly into the learning process, providing real-time feedback and insights without disrupting the flow of instruction. This approach allows educators to gather valuable data on student progress and mastery of skills in a more natural and authentic manner.\n",
            "\n",
            "The importance of stealth assessment in education cannot be overstated. By leveraging technology and innovative assessment practices, educators can gain deeper insights into student learning, personalize instruction to meet individual needs, and create engaging learning experiences. In this blog post, we will explore the latest trends in stealth assessment, key players driving innovation in the field, and noteworthy news on successful implementations and research findings.\n",
            "\n",
            "## Latest Trends in Stealth Assessment\n",
            "\n",
            "One of the key trends shaping stealth assessment in education is the integration of artificial intelligence (AI) and machine learning algorithms. These technologies enable educators to analyze student data in real-time, identify patterns and trends, and provide personalized feedback to support student learning. By harnessing the power of AI, educators can create adaptive learning experiences that cater to each student's unique learning needs and preferences.\n",
            "\n",
            "Another trend in stealth assessment is the focus on personalized learning experiences. By incorporating adaptive assessment tools and platforms, educators can tailor instruction to align with student interests, learning styles, and pace of learning. This personalized approach not only enhances student engagement but also fosters a deeper understanding of concepts and skills.\n",
            "\n",
            "Furthermore, gamification has emerged as a popular strategy in stealth assessment. By integrating game-like elements into assessments, educators can increase student motivation, engagement, and retention of knowledge. Gamified assessments not only make learning fun and interactive but also provide valuable data on student progress and performance.\n",
            "\n",
            "## Key Players in Stealth Assessment\n",
            "\n",
            "Several key players are driving innovation in stealth assessment in education. Educational technology companies such as Knewton and DreamBox are at the forefront of developing AI-powered assessment tools that enhance student learning outcomes. These companies leverage data analytics and machine learning to provide personalized recommendations and adaptive learning experiences for students.\n",
            "\n",
            "Research institutions like SRI International and ETS are also actively involved in advancing stealth assessment practices. Through research studies and collaborations with educators, these institutions are exploring new ways to measure and support 21st-century skills such as critical thinking, creativity, and collaboration. By partnering with schools and districts, they are working to implement innovative assessment practices that promote deeper learning and student success.\n",
            "\n",
            "Government organizations are also playing a role in promoting innovative assessment practices in education. By funding research initiatives, supporting policy changes, and advocating for data-driven decision-making, these organizations are driving the adoption of stealth assessment in schools and educational settings.\n",
            "\n",
            "## Noteworthy News on Stealth Assessment\n",
            "\n",
            "Case studies of successful implementation of stealth assessment in schools have highlighted the effectiveness of this approach in improving student learning outcomes. Educators have reported higher levels of student engagement, motivation, and achievement when using stealth assessment tools and platforms. Research findings have also supported the benefits of stealth assessment, showing positive correlations between personalized learning experiences and academic performance.\n",
            "\n",
            "Updates on policy changes related to assessment in education have underscored the importance of adopting innovative assessment practices to meet the diverse needs of students. By incorporating stealth assessment into their instructional practices, educators can gain a more comprehensive understanding of student progress, identify areas for improvement, and make data-informed decisions to support student success.\n",
            "\n",
            "## Conclusion\n",
            "\n",
            "In conclusion, stealth assessment is revolutionizing assessment practices in education by providing a more holistic and personalized approach to measuring student learning outcomes. By embracing the latest trends in AI, personalized learning experiences, and gamification, educators can create engaging and effective assessments that support student growth and achievement. With key players driving innovation in the field and noteworthy news highlighting successful implementations, stealth assessment is poised to transform the way we assess student learning in the 21st century.\n",
            "\n",
            "As educators, school administrators, and curriculum developers, it is essential to explore the potential of stealth assessment in enhancing assessment practices and improving student outcomes. By integrating innovative assessment tools and practices into our educational settings, we can create more engaging, personalized, and effective learning experiences for all students.\n",
            "\n",
            "Let's embrace the power of stealth assessment and revolutionize assessment practices in education for the betterment of student learning and success.\n",
            "\n",
            "*Stay tuned for more insights and resources on implementing stealth assessment in your educational setting!*\n",
            "\n",
            "\u001b[00m\n"
          ]
        }
      ],
      "source": [
        "result = crew.kickoff(inputs={\"topic\": \"Stealth Assessment in education\"})"
      ]
    },
    {
      "cell_type": "markdown",
      "metadata": {
        "id": "b7K8aYN_43xk"
      },
      "source": [
        "- Display the results of your execution as markdown in the notebook."
      ]
    },
    {
      "cell_type": "code",
      "execution_count": null,
      "metadata": {
        "height": 47,
        "colab": {
          "base_uri": "https://localhost:8080/",
          "height": 1000
        },
        "id": "6zaBi5Za43xk",
        "outputId": "aa1a9f0f-8f74-4368-857b-b878ac340265"
      },
      "outputs": [
        {
          "output_type": "execute_result",
          "data": {
            "text/plain": [
              "<IPython.core.display.Markdown object>"
            ],
            "text/markdown": "# Stealth Assessment in Education: Revolutionizing Assessment Practices\n\nIn the realm of education, assessment plays a crucial role in measuring student learning outcomes and informing instructional strategies. One innovative approach that has been gaining traction in recent years is stealth assessment. Unlike traditional forms of assessment, stealth assessment integrates assessment seamlessly into the learning process, providing real-time feedback and insights without disrupting the flow of instruction. This approach allows educators to gather valuable data on student progress and mastery of skills in a more natural and authentic manner.\n\nThe importance of stealth assessment in education cannot be overstated. By leveraging technology and innovative assessment practices, educators can gain deeper insights into student learning, personalize instruction to meet individual needs, and create engaging learning experiences. In this blog post, we will explore the latest trends in stealth assessment, key players driving innovation in the field, and noteworthy news on successful implementations and research findings.\n\n## Latest Trends in Stealth Assessment\n\nOne of the key trends shaping stealth assessment in education is the integration of artificial intelligence (AI) and machine learning algorithms. These technologies enable educators to analyze student data in real-time, identify patterns and trends, and provide personalized feedback to support student learning. By harnessing the power of AI, educators can create adaptive learning experiences that cater to each student's unique learning needs and preferences.\n\nAnother trend in stealth assessment is the focus on personalized learning experiences. By incorporating adaptive assessment tools and platforms, educators can tailor instruction to align with student interests, learning styles, and pace of learning. This personalized approach not only enhances student engagement but also fosters a deeper understanding of concepts and skills.\n\nFurthermore, gamification has emerged as a popular strategy in stealth assessment. By integrating game-like elements into assessments, educators can increase student motivation, engagement, and retention of knowledge. Gamified assessments not only make learning fun and interactive but also provide valuable data on student progress and performance.\n\n## Key Players in Stealth Assessment\n\nSeveral key players are driving innovation in stealth assessment in education. Educational technology companies such as Knewton and DreamBox are at the forefront of developing AI-powered assessment tools that enhance student learning outcomes. These companies leverage data analytics and machine learning to provide personalized recommendations and adaptive learning experiences for students.\n\nResearch institutions like SRI International and ETS are also actively involved in advancing stealth assessment practices. Through research studies and collaborations with educators, these institutions are exploring new ways to measure and support 21st-century skills such as critical thinking, creativity, and collaboration. By partnering with schools and districts, they are working to implement innovative assessment practices that promote deeper learning and student success.\n\nGovernment organizations are also playing a role in promoting innovative assessment practices in education. By funding research initiatives, supporting policy changes, and advocating for data-driven decision-making, these organizations are driving the adoption of stealth assessment in schools and educational settings.\n\n## Noteworthy News on Stealth Assessment\n\nCase studies of successful implementation of stealth assessment in schools have highlighted the effectiveness of this approach in improving student learning outcomes. Educators have reported higher levels of student engagement, motivation, and achievement when using stealth assessment tools and platforms. Research findings have also supported the benefits of stealth assessment, showing positive correlations between personalized learning experiences and academic performance.\n\nUpdates on policy changes related to assessment in education have underscored the importance of adopting innovative assessment practices to meet the diverse needs of students. By incorporating stealth assessment into their instructional practices, educators can gain a more comprehensive understanding of student progress, identify areas for improvement, and make data-informed decisions to support student success.\n\n## Conclusion\n\nIn conclusion, stealth assessment is revolutionizing assessment practices in education by providing a more holistic and personalized approach to measuring student learning outcomes. By embracing the latest trends in AI, personalized learning experiences, and gamification, educators can create engaging and effective assessments that support student growth and achievement. With key players driving innovation in the field and noteworthy news highlighting successful implementations, stealth assessment is poised to transform the way we assess student learning in the 21st century.\n\nAs educators, school administrators, and curriculum developers, it is essential to explore the potential of stealth assessment in enhancing assessment practices and improving student outcomes. By integrating innovative assessment tools and practices into our educational settings, we can create more engaging, personalized, and effective learning experiences for all students.\n\nLet's embrace the power of stealth assessment and revolutionize assessment practices in education for the betterment of student learning and success.\n\n*Stay tuned for more insights and resources on implementing stealth assessment in your educational setting!*"
          },
          "metadata": {},
          "execution_count": 23
        }
      ],
      "source": [
        "from IPython.display import Markdown\n",
        "Markdown(result)"
      ]
    },
    {
      "cell_type": "markdown",
      "metadata": {
        "id": "PXM6PL6W43xk"
      },
      "source": [
        "## Try it Yourself\n",
        "\n",
        "- Pass in a topic of your choice and see what the agents come up with!"
      ]
    },
    {
      "cell_type": "code",
      "execution_count": null,
      "metadata": {
        "height": 64,
        "colab": {
          "base_uri": "https://localhost:8080/"
        },
        "id": "5BnhNx2z43xk",
        "outputId": "1b394c8d-c2bc-4544-e09f-15746d036b6c"
      },
      "outputs": [
        {
          "output_type": "stream",
          "name": "stdout",
          "text": [
            "\u001b[1m\u001b[95m [DEBUG]: == Working Agent: Content Planner\u001b[00m\n",
            "\u001b[1m\u001b[95m [INFO]: == Starting Task: 1. Prioritize the latest trends, key players, and noteworthy news on AI Legislation.\n",
            "2. Identify the target audience, considering their interests and pain points.\n",
            "3. Develop a detailed content outline including an introduction, key points, and a call to action.\n",
            "4. Include SEO keywords and relevant data or sources.\u001b[00m\n",
            "\n",
            "\n",
            "\u001b[1m> Entering new CrewAgentExecutor chain...\u001b[0m\n",
            "\u001b[32;1m\u001b[1;3mI now can give a great answer\n",
            "\n",
            "Final Answer:\n",
            "Title: Understanding AI Legislation: A Comprehensive Guide to the Latest Trends and Key Players\n",
            "\n",
            "Introduction:\n",
            "- Brief overview of the increasing importance of AI legislation in today's digital world.\n",
            "- Introduction to the purpose of the article: to provide insights into the latest trends, key players, and noteworthy news in AI legislation.\n",
            "\n",
            "Key Points:\n",
            "1. Latest Trends in AI Legislation:\n",
            "- Discussion on the increasing global focus on regulating AI technology.\n",
            "- Overview of recent AI legislation developments in major countries such as the US, EU, and China.\n",
            "- Analysis of the impact of AI legislation on industries such as healthcare, finance, and transportation.\n",
            "\n",
            "2. Key Players in AI Legislation:\n",
            "- Profile of key governmental bodies and organizations involved in shaping AI legislation.\n",
            "- Overview of influential policymakers, industry leaders, and advocacy groups in the AI legislation space.\n",
            "- Case studies highlighting successful implementation of AI legislation by key players.\n",
            "\n",
            "3. Noteworthy News in AI Legislation:\n",
            "- Summary of recent news articles, reports, and studies related to AI legislation.\n",
            "- Analysis of controversial topics and debates surrounding AI legislation.\n",
            "- Discussion on upcoming events and conferences focused on AI legislation.\n",
            "\n",
            "Audience Analysis:\n",
            "Target Audience: \n",
            "- Professionals working in the tech industry, policymakers, legal experts, and individuals interested in the intersection of AI and legislation.\n",
            "Interests:\n",
            "- Stay updated on the latest trends and developments in AI legislation.\n",
            "- Understand the impact of AI regulations on businesses and society.\n",
            "- Learn from case studies and best practices in implementing AI legislation.\n",
            "Pain Points:\n",
            "- Lack of clarity on complex AI laws and regulations.\n",
            "- Difficulty in keeping up with rapidly changing AI legislation landscape.\n",
            "- Need for practical guidance on compliance and implementation of AI laws.\n",
            "\n",
            "Call to Action:\n",
            "- Encourage readers to stay informed on AI legislation updates by subscribing to a newsletter or joining a professional network.\n",
            "- Provide links to relevant resources and tools for further reading on AI legislation.\n",
            "- Invite readers to share their thoughts and experiences with AI legislation in the comments section.\n",
            "\n",
            "SEO Keywords:\n",
            "- AI legislation\n",
            "- Artificial intelligence regulations\n",
            "- Key players in AI policy\n",
            "- Latest trends in AI laws\n",
            "- Noteworthy news on AI legislation\n",
            "\n",
            "Resources:\n",
            "1. World Economic Forum - \"Shaping AI Government: Artificial Intelligence Leadership, Strategy, and Action Principles\"\n",
            "2. European Commission - \"White Paper on Artificial Intelligence: A European approach to excellence and trust\"\n",
            "3. Brookings Institution - \"What the world can learn from AI governance in China\"\n",
            "4. Harvard Business Review - \"Why AI ethics guidelines should be global\" \n",
            "\n",
            "This comprehensive content plan aims to provide valuable insights and resources for readers interested in AI legislation, helping them stay informed and make well-informed decisions in this rapidly evolving field.\u001b[0m\n",
            "\n",
            "\u001b[1m> Finished chain.\u001b[0m\n",
            "\u001b[1m\u001b[92m [DEBUG]: == [Content Planner] Task output: Title: Understanding AI Legislation: A Comprehensive Guide to the Latest Trends and Key Players\n",
            "\n",
            "Introduction:\n",
            "- Brief overview of the increasing importance of AI legislation in today's digital world.\n",
            "- Introduction to the purpose of the article: to provide insights into the latest trends, key players, and noteworthy news in AI legislation.\n",
            "\n",
            "Key Points:\n",
            "1. Latest Trends in AI Legislation:\n",
            "- Discussion on the increasing global focus on regulating AI technology.\n",
            "- Overview of recent AI legislation developments in major countries such as the US, EU, and China.\n",
            "- Analysis of the impact of AI legislation on industries such as healthcare, finance, and transportation.\n",
            "\n",
            "2. Key Players in AI Legislation:\n",
            "- Profile of key governmental bodies and organizations involved in shaping AI legislation.\n",
            "- Overview of influential policymakers, industry leaders, and advocacy groups in the AI legislation space.\n",
            "- Case studies highlighting successful implementation of AI legislation by key players.\n",
            "\n",
            "3. Noteworthy News in AI Legislation:\n",
            "- Summary of recent news articles, reports, and studies related to AI legislation.\n",
            "- Analysis of controversial topics and debates surrounding AI legislation.\n",
            "- Discussion on upcoming events and conferences focused on AI legislation.\n",
            "\n",
            "Audience Analysis:\n",
            "Target Audience: \n",
            "- Professionals working in the tech industry, policymakers, legal experts, and individuals interested in the intersection of AI and legislation.\n",
            "Interests:\n",
            "- Stay updated on the latest trends and developments in AI legislation.\n",
            "- Understand the impact of AI regulations on businesses and society.\n",
            "- Learn from case studies and best practices in implementing AI legislation.\n",
            "Pain Points:\n",
            "- Lack of clarity on complex AI laws and regulations.\n",
            "- Difficulty in keeping up with rapidly changing AI legislation landscape.\n",
            "- Need for practical guidance on compliance and implementation of AI laws.\n",
            "\n",
            "Call to Action:\n",
            "- Encourage readers to stay informed on AI legislation updates by subscribing to a newsletter or joining a professional network.\n",
            "- Provide links to relevant resources and tools for further reading on AI legislation.\n",
            "- Invite readers to share their thoughts and experiences with AI legislation in the comments section.\n",
            "\n",
            "SEO Keywords:\n",
            "- AI legislation\n",
            "- Artificial intelligence regulations\n",
            "- Key players in AI policy\n",
            "- Latest trends in AI laws\n",
            "- Noteworthy news on AI legislation\n",
            "\n",
            "Resources:\n",
            "1. World Economic Forum - \"Shaping AI Government: Artificial Intelligence Leadership, Strategy, and Action Principles\"\n",
            "2. European Commission - \"White Paper on Artificial Intelligence: A European approach to excellence and trust\"\n",
            "3. Brookings Institution - \"What the world can learn from AI governance in China\"\n",
            "4. Harvard Business Review - \"Why AI ethics guidelines should be global\" \n",
            "\n",
            "This comprehensive content plan aims to provide valuable insights and resources for readers interested in AI legislation, helping them stay informed and make well-informed decisions in this rapidly evolving field.\n",
            "\n",
            "\u001b[00m\n",
            "\u001b[1m\u001b[95m [DEBUG]: == Working Agent: Content Writer\u001b[00m\n",
            "\u001b[1m\u001b[95m [INFO]: == Starting Task: 1. Use the content plan to craft a compelling blog post on AI Legislation.\n",
            "2. Incorporate SEO keywords naturally.\n",
            "3. Sections/Subtitles are properly named in an engaging manner.\n",
            "4. Ensure the post is structured with an engaging introduction, insightful body, and a summarizing conclusion.\n",
            "5. Proofread for grammatical errors and alignment with the brand's voice.\n",
            "\u001b[00m\n",
            "\n",
            "\n",
            "\u001b[1m> Entering new CrewAgentExecutor chain...\u001b[0m\n",
            "\u001b[32;1m\u001b[1;3mI am ready to craft a well-researched and engaging opinion piece on AI Legislation based on the provided content plan. By following the outlined structure and incorporating SEO keywords naturally, I aim to provide valuable insights to professionals in the tech industry, policymakers, legal experts, and anyone interested in the intersection of AI and legislation.\n",
            "\n",
            "Final Answer:\n",
            "\n",
            "# Understanding AI Legislation: A Comprehensive Guide to the Latest Trends and Key Players\n",
            "\n",
            "## Introduction\n",
            "In today's rapidly evolving digital landscape, the importance of AI legislation cannot be overstated. As artificial intelligence continues to permeate various aspects of our lives, regulations governing its use are becoming increasingly crucial. This article aims to delve into the latest trends, key players, and noteworthy news in AI legislation, providing a comprehensive guide for those navigating this complex terrain.\n",
            "\n",
            "## Latest Trends in AI Legislation\n",
            "The global focus on regulating AI technology has been steadily increasing as policymakers grapple with the ethical, legal, and societal implications of its widespread adoption. Major countries such as the US, EU, and China have been at the forefront of developing AI legislation, with a keen eye on industries like healthcare, finance, and transportation. The impact of AI legislation on these sectors is profound, shaping the way businesses operate and individuals interact with emerging technologies.\n",
            "\n",
            "## Key Players in AI Legislation\n",
            "Key governmental bodies and organizations play a pivotal role in shaping AI legislation, working alongside influential policymakers, industry leaders, and advocacy groups. These stakeholders collaborate to establish frameworks that balance innovation with accountability and transparency. Case studies highlighting successful implementation of AI legislation showcase the positive outcomes of proactive regulatory measures, underscoring the importance of collaboration in this dynamic space.\n",
            "\n",
            "## Noteworthy News in AI Legislation\n",
            "Recent news articles, reports, and studies shed light on the evolving landscape of AI legislation, sparking debates and discussions on controversial topics. As upcoming events and conferences focus on AI legislation, the opportunity to engage with thought leaders and experts in the field presents itself. By staying informed and actively participating in these dialogues, individuals can contribute to shaping the future of AI governance and policy.\n",
            "\n",
            "## Conclusion\n",
            "In conclusion, understanding AI legislation is essential for navigating the complexities of a digital world powered by artificial intelligence. By keeping abreast of the latest trends, engaging with key players, and staying informed on noteworthy news, individuals can position themselves as active participants in shaping the future of AI regulation. I encourage readers to explore the resources provided and join the conversation on AI legislation, as we collectively strive towards a more ethical, transparent, and inclusive AI ecosystem.\n",
            "\n",
            "---\n",
            "I have crafted a comprehensive blog post on AI Legislation, incorporating the key points outlined in the content plan. The structure is engaging, and the content is insightful, catering to the target audience's interests and pain points. This opinion piece aims to inform and inspire readers to delve deeper into the intricate world of AI legislation, empowering them to make informed decisions in this rapidly evolving field.\u001b[0m\n",
            "\n",
            "\u001b[1m> Finished chain.\u001b[0m\n",
            "\u001b[1m\u001b[92m [DEBUG]: == [Content Writer] Task output: # Understanding AI Legislation: A Comprehensive Guide to the Latest Trends and Key Players\n",
            "\n",
            "## Introduction\n",
            "In today's rapidly evolving digital landscape, the importance of AI legislation cannot be overstated. As artificial intelligence continues to permeate various aspects of our lives, regulations governing its use are becoming increasingly crucial. This article aims to delve into the latest trends, key players, and noteworthy news in AI legislation, providing a comprehensive guide for those navigating this complex terrain.\n",
            "\n",
            "## Latest Trends in AI Legislation\n",
            "The global focus on regulating AI technology has been steadily increasing as policymakers grapple with the ethical, legal, and societal implications of its widespread adoption. Major countries such as the US, EU, and China have been at the forefront of developing AI legislation, with a keen eye on industries like healthcare, finance, and transportation. The impact of AI legislation on these sectors is profound, shaping the way businesses operate and individuals interact with emerging technologies.\n",
            "\n",
            "## Key Players in AI Legislation\n",
            "Key governmental bodies and organizations play a pivotal role in shaping AI legislation, working alongside influential policymakers, industry leaders, and advocacy groups. These stakeholders collaborate to establish frameworks that balance innovation with accountability and transparency. Case studies highlighting successful implementation of AI legislation showcase the positive outcomes of proactive regulatory measures, underscoring the importance of collaboration in this dynamic space.\n",
            "\n",
            "## Noteworthy News in AI Legislation\n",
            "Recent news articles, reports, and studies shed light on the evolving landscape of AI legislation, sparking debates and discussions on controversial topics. As upcoming events and conferences focus on AI legislation, the opportunity to engage with thought leaders and experts in the field presents itself. By staying informed and actively participating in these dialogues, individuals can contribute to shaping the future of AI governance and policy.\n",
            "\n",
            "## Conclusion\n",
            "In conclusion, understanding AI legislation is essential for navigating the complexities of a digital world powered by artificial intelligence. By keeping abreast of the latest trends, engaging with key players, and staying informed on noteworthy news, individuals can position themselves as active participants in shaping the future of AI regulation. I encourage readers to explore the resources provided and join the conversation on AI legislation, as we collectively strive towards a more ethical, transparent, and inclusive AI ecosystem.\n",
            "\n",
            "---\n",
            "I have crafted a comprehensive blog post on AI Legislation, incorporating the key points outlined in the content plan. The structure is engaging, and the content is insightful, catering to the target audience's interests and pain points. This opinion piece aims to inform and inspire readers to delve deeper into the intricate world of AI legislation, empowering them to make informed decisions in this rapidly evolving field.\n",
            "\n",
            "\u001b[00m\n",
            "\u001b[1m\u001b[95m [DEBUG]: == Working Agent: Editor\u001b[00m\n",
            "\u001b[1m\u001b[95m [INFO]: == Starting Task: Proofread the given blog post for grammatical errors and alignment with the brand's voice.\u001b[00m\n",
            "\n",
            "\n",
            "\u001b[1m> Entering new CrewAgentExecutor chain...\u001b[0m\n",
            "\u001b[32;1m\u001b[1;3mI now can give a great answer\n",
            "Final Answer: \n",
            "# Understanding AI Legislation: A Comprehensive Guide to the Latest Trends and Key Players\n",
            "\n",
            "## Introduction\n",
            "In today's rapidly evolving digital landscape, the importance of AI legislation cannot be overstated. As artificial intelligence continues to permeate various aspects of our lives, regulations governing its use are becoming increasingly crucial. This article aims to delve into the latest trends, key players, and noteworthy news in AI legislation, providing a comprehensive guide for those navigating this complex terrain.\n",
            "\n",
            "## Latest Trends in AI Legislation\n",
            "The global focus on regulating AI technology has been steadily increasing as policymakers grapple with the ethical, legal, and societal implications of its widespread adoption. Major countries such as the US, EU, and China have been at the forefront of developing AI legislation, with a keen eye on industries like healthcare, finance, and transportation. The impact of AI legislation on these sectors is profound, shaping the way businesses operate and individuals interact with emerging technologies.\n",
            "\n",
            "## Key Players in AI Legislation\n",
            "Key governmental bodies and organizations play a pivotal role in shaping AI legislation, working alongside influential policymakers, industry leaders, and advocacy groups. These stakeholders collaborate to establish frameworks that balance innovation with accountability and transparency. Case studies highlighting successful implementation of AI legislation showcase the positive outcomes of proactive regulatory measures, underscoring the importance of collaboration in this dynamic space.\n",
            "\n",
            "## Noteworthy News in AI Legislation\n",
            "Recent news articles, reports, and studies shed light on the evolving landscape of AI legislation, sparking debates and discussions on controversial topics. As upcoming events and conferences focus on AI legislation, the opportunity to engage with thought leaders and experts in the field presents itself. By staying informed and actively participating in these dialogues, individuals can contribute to shaping the future of AI governance and policy.\n",
            "\n",
            "## Conclusion\n",
            "In conclusion, understanding AI legislation is essential for navigating the complexities of a digital world powered by artificial intelligence. By keeping abreast of the latest trends, engaging with key players, and staying informed on noteworthy news, individuals can position themselves as active participants in shaping the future of AI regulation. I encourage readers to explore the resources provided and join the conversation on AI legislation, as we collectively strive towards a more ethical, transparent, and inclusive AI ecosystem.\u001b[0m\n",
            "\n",
            "\u001b[1m> Finished chain.\u001b[0m\n",
            "\u001b[1m\u001b[92m [DEBUG]: == [Editor] Task output: # Understanding AI Legislation: A Comprehensive Guide to the Latest Trends and Key Players\n",
            "\n",
            "## Introduction\n",
            "In today's rapidly evolving digital landscape, the importance of AI legislation cannot be overstated. As artificial intelligence continues to permeate various aspects of our lives, regulations governing its use are becoming increasingly crucial. This article aims to delve into the latest trends, key players, and noteworthy news in AI legislation, providing a comprehensive guide for those navigating this complex terrain.\n",
            "\n",
            "## Latest Trends in AI Legislation\n",
            "The global focus on regulating AI technology has been steadily increasing as policymakers grapple with the ethical, legal, and societal implications of its widespread adoption. Major countries such as the US, EU, and China have been at the forefront of developing AI legislation, with a keen eye on industries like healthcare, finance, and transportation. The impact of AI legislation on these sectors is profound, shaping the way businesses operate and individuals interact with emerging technologies.\n",
            "\n",
            "## Key Players in AI Legislation\n",
            "Key governmental bodies and organizations play a pivotal role in shaping AI legislation, working alongside influential policymakers, industry leaders, and advocacy groups. These stakeholders collaborate to establish frameworks that balance innovation with accountability and transparency. Case studies highlighting successful implementation of AI legislation showcase the positive outcomes of proactive regulatory measures, underscoring the importance of collaboration in this dynamic space.\n",
            "\n",
            "## Noteworthy News in AI Legislation\n",
            "Recent news articles, reports, and studies shed light on the evolving landscape of AI legislation, sparking debates and discussions on controversial topics. As upcoming events and conferences focus on AI legislation, the opportunity to engage with thought leaders and experts in the field presents itself. By staying informed and actively participating in these dialogues, individuals can contribute to shaping the future of AI governance and policy.\n",
            "\n",
            "## Conclusion\n",
            "In conclusion, understanding AI legislation is essential for navigating the complexities of a digital world powered by artificial intelligence. By keeping abreast of the latest trends, engaging with key players, and staying informed on noteworthy news, individuals can position themselves as active participants in shaping the future of AI regulation. I encourage readers to explore the resources provided and join the conversation on AI legislation, as we collectively strive towards a more ethical, transparent, and inclusive AI ecosystem.\n",
            "\n",
            "\u001b[00m\n"
          ]
        }
      ],
      "source": [
        "topic = \"AI Legislation\"\n",
        "result = crew.kickoff(inputs={\"topic\": topic})"
      ]
    },
    {
      "cell_type": "code",
      "source": [
        "from IPython.display import Markdown\n",
        "Markdown(result)"
      ],
      "metadata": {
        "colab": {
          "base_uri": "https://localhost:8080/",
          "height": 671
        },
        "id": "M6Ag3Nbw7Toq",
        "outputId": "85c27608-a7fd-4437-fbdb-7efe299fd3a3"
      },
      "execution_count": null,
      "outputs": [
        {
          "output_type": "execute_result",
          "data": {
            "text/plain": [
              "<IPython.core.display.Markdown object>"
            ],
            "text/markdown": "# Understanding AI Legislation: A Comprehensive Guide to the Latest Trends and Key Players\n\n## Introduction\nIn today's rapidly evolving digital landscape, the importance of AI legislation cannot be overstated. As artificial intelligence continues to permeate various aspects of our lives, regulations governing its use are becoming increasingly crucial. This article aims to delve into the latest trends, key players, and noteworthy news in AI legislation, providing a comprehensive guide for those navigating this complex terrain.\n\n## Latest Trends in AI Legislation\nThe global focus on regulating AI technology has been steadily increasing as policymakers grapple with the ethical, legal, and societal implications of its widespread adoption. Major countries such as the US, EU, and China have been at the forefront of developing AI legislation, with a keen eye on industries like healthcare, finance, and transportation. The impact of AI legislation on these sectors is profound, shaping the way businesses operate and individuals interact with emerging technologies.\n\n## Key Players in AI Legislation\nKey governmental bodies and organizations play a pivotal role in shaping AI legislation, working alongside influential policymakers, industry leaders, and advocacy groups. These stakeholders collaborate to establish frameworks that balance innovation with accountability and transparency. Case studies highlighting successful implementation of AI legislation showcase the positive outcomes of proactive regulatory measures, underscoring the importance of collaboration in this dynamic space.\n\n## Noteworthy News in AI Legislation\nRecent news articles, reports, and studies shed light on the evolving landscape of AI legislation, sparking debates and discussions on controversial topics. As upcoming events and conferences focus on AI legislation, the opportunity to engage with thought leaders and experts in the field presents itself. By staying informed and actively participating in these dialogues, individuals can contribute to shaping the future of AI governance and policy.\n\n## Conclusion\nIn conclusion, understanding AI legislation is essential for navigating the complexities of a digital world powered by artificial intelligence. By keeping abreast of the latest trends, engaging with key players, and staying informed on noteworthy news, individuals can position themselves as active participants in shaping the future of AI regulation. I encourage readers to explore the resources provided and join the conversation on AI legislation, as we collectively strive towards a more ethical, transparent, and inclusive AI ecosystem."
          },
          "metadata": {},
          "execution_count": 27
        }
      ]
    },
    {
      "cell_type": "code",
      "execution_count": null,
      "metadata": {
        "height": 30,
        "id": "teqwdbqv43xk"
      },
      "outputs": [],
      "source": [
        "Markdown(result)"
      ]
    },
    {
      "cell_type": "markdown",
      "metadata": {
        "id": "6XyrqDxb43xk"
      },
      "source": [
        "<a name='1'></a>\n",
        " ## Other Popular Models as LLM for your Agents"
      ]
    },
    {
      "cell_type": "markdown",
      "metadata": {
        "id": "tU59WYMF43xk"
      },
      "source": [
        "#### Hugging Face (HuggingFaceHub endpoint)\n",
        "\n",
        "```Python\n",
        "from langchain_community.llms import HuggingFaceHub\n",
        "\n",
        "llm = HuggingFaceHub(\n",
        "    repo_id=\"HuggingFaceH4/zephyr-7b-beta\",\n",
        "    huggingfacehub_api_token=\"<HF_TOKEN_HERE>\",\n",
        "    task=\"text-generation\",\n",
        ")\n",
        "\n",
        "### you will pass \"llm\" to your agent function\n",
        "```"
      ]
    },
    {
      "cell_type": "markdown",
      "metadata": {
        "id": "vyiL0YY-43xl"
      },
      "source": [
        "#### Mistral API\n",
        "\n",
        "```Python\n",
        "OPENAI_API_KEY=your-mistral-api-key\n",
        "OPENAI_API_BASE=https://api.mistral.ai/v1\n",
        "OPENAI_MODEL_NAME=\"mistral-small\"\n",
        "```"
      ]
    },
    {
      "cell_type": "markdown",
      "metadata": {
        "id": "fBtFomBc43xl"
      },
      "source": [
        "#### Cohere\n",
        "\n",
        "```Python\n",
        "from langchain_community.chat_models import ChatCohere\n",
        "# Initialize language model\n",
        "os.environ[\"COHERE_API_KEY\"] = \"your-cohere-api-key\"\n",
        "llm = ChatCohere()\n",
        "\n",
        "### you will pass \"llm\" to your agent function\n",
        "```"
      ]
    },
    {
      "cell_type": "markdown",
      "metadata": {
        "id": "h_9LJcHG43xl"
      },
      "source": [
        "### For using Llama locally with Ollama and more, checkout the crewAI documentation on [Connecting to any LLM](https://docs.crewai.com/how-to/LLM-Connections/)."
      ]
    },
    {
      "cell_type": "code",
      "execution_count": null,
      "metadata": {
        "height": 30,
        "id": "ioiyRs1L43xl"
      },
      "outputs": [],
      "source": []
    },
    {
      "cell_type": "code",
      "execution_count": null,
      "metadata": {
        "height": 30,
        "id": "1fstXPCu43xl"
      },
      "outputs": [],
      "source": []
    },
    {
      "cell_type": "code",
      "execution_count": null,
      "metadata": {
        "height": 30,
        "id": "srrCR6lL43xo"
      },
      "outputs": [],
      "source": []
    }
  ],
  "metadata": {
    "colab": {
      "gpuType": "T4",
      "provenance": [],
      "include_colab_link": true
    },
    "kernelspec": {
      "display_name": "Python 3 (ipykernel)",
      "language": "python",
      "name": "python3"
    },
    "language_info": {
      "codemirror_mode": {
        "name": "ipython",
        "version": 3
      },
      "file_extension": ".py",
      "mimetype": "text/x-python",
      "name": "python",
      "nbconvert_exporter": "python",
      "pygments_lexer": "ipython3",
      "version": "3.11.9"
    }
  },
  "nbformat": 4,
  "nbformat_minor": 0
}