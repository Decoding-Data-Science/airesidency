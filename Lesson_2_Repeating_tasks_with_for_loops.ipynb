{
  "cells": [
    {
      "cell_type": "markdown",
      "metadata": {
        "id": "view-in-github",
        "colab_type": "text"
      },
      "source": [
        "<a href=\"https://colab.research.google.com/github/Decoding-Data-Science/airesidency/blob/main/Lesson_2_Repeating_tasks_with_for_loops.ipynb\" target=\"_parent\"><img src=\"https://colab.research.google.com/assets/colab-badge.svg\" alt=\"Open In Colab\"/></a>"
      ]
    },
    {
      "cell_type": "markdown",
      "id": "4bd8fbd2-de5c-47bd-bcd9-cbbe8cdc3104",
      "metadata": {
        "id": "4bd8fbd2-de5c-47bd-bcd9-cbbe8cdc3104"
      },
      "source": [
        "# Lesson 2 - Repeating tasks with for loops"
      ]
    },
    {
      "cell_type": "markdown",
      "id": "e270cc1f",
      "metadata": {
        "id": "e270cc1f"
      },
      "source": [
        "This lesson will introduce you to a very important concept in programming: the `for` loop. A `for` loop is a special code pattern found in many languages that allows you to repeatedly perform actions on all the items in a list in an automated way. Let's take a look by starting with loading some functions."
      ]
    },
    {
      "cell_type": "code",
      "execution_count": null,
      "id": "41ef33ad-2b5c-40db-a1ab-9f3c689edd55",
      "metadata": {
        "id": "41ef33ad-2b5c-40db-a1ab-9f3c689edd55"
      },
      "outputs": [],
      "source": [
        "from helper_functions import print_llm_response, get_llm_response"
      ]
    },
    {
      "cell_type": "code",
      "source": [
        "# Install the OpenAI library\n",
        "!pip install openai==0.28\n",
        "\n",
        "import openai\n",
        "from google.colab import userdata\n",
        "\n",
        "# Retrieve the OpenAI API key from Google Colab secrets\n",
        "openai.api_key = userdata.get('openai')\n",
        "\n",
        "def print_llm_response(prompt: str, max_tokens: int = 1000):\n",
        "    \"\"\"\n",
        "    Fetch and print an LLM response using the OpenAI library.\n",
        "\n",
        "    Parameters:\n",
        "        prompt (str): The input prompt to query the LLM.\n",
        "        max_tokens (int): Maximum number of tokens to include in the response.\n",
        "    \"\"\"\n",
        "    # Use the updated `ChatCompletion` API\n",
        "    response = openai.ChatCompletion.create(\n",
        "        model=\"gpt-4\",  # Specify the appropriate model\n",
        "        messages=[\n",
        "            {\"role\": \"system\", \"content\": \"You are a helpful assistant.\"},\n",
        "            {\"role\": \"user\", \"content\": prompt},\n",
        "        ],\n",
        "        max_tokens=max_tokens\n",
        "    )\n",
        "\n",
        "    # Extract and print the response text\n",
        "    response_text = response[\"choices\"][0][\"message\"][\"content\"].strip()\n",
        "    print(f\"Response:\\n{'-'*40}\\n{response_text}\\n{'-'*40}\")\n",
        "\n",
        "\n"
      ],
      "metadata": {
        "colab": {
          "base_uri": "https://localhost:8080/"
        },
        "id": "c5eMpSYSopDx",
        "outputId": "4cf80e9f-f513-4e82-97cc-f08aee189b9d"
      },
      "id": "c5eMpSYSopDx",
      "execution_count": 2,
      "outputs": [
        {
          "output_type": "stream",
          "name": "stdout",
          "text": [
            "Requirement already satisfied: openai==0.28 in /usr/local/lib/python3.11/dist-packages (0.28.0)\n",
            "Requirement already satisfied: requests>=2.20 in /usr/local/lib/python3.11/dist-packages (from openai==0.28) (2.32.3)\n",
            "Requirement already satisfied: tqdm in /usr/local/lib/python3.11/dist-packages (from openai==0.28) (4.67.1)\n",
            "Requirement already satisfied: aiohttp in /usr/local/lib/python3.11/dist-packages (from openai==0.28) (3.11.11)\n",
            "Requirement already satisfied: charset-normalizer<4,>=2 in /usr/local/lib/python3.11/dist-packages (from requests>=2.20->openai==0.28) (3.4.1)\n",
            "Requirement already satisfied: idna<4,>=2.5 in /usr/local/lib/python3.11/dist-packages (from requests>=2.20->openai==0.28) (3.10)\n",
            "Requirement already satisfied: urllib3<3,>=1.21.1 in /usr/local/lib/python3.11/dist-packages (from requests>=2.20->openai==0.28) (2.3.0)\n",
            "Requirement already satisfied: certifi>=2017.4.17 in /usr/local/lib/python3.11/dist-packages (from requests>=2.20->openai==0.28) (2024.12.14)\n",
            "Requirement already satisfied: aiohappyeyeballs>=2.3.0 in /usr/local/lib/python3.11/dist-packages (from aiohttp->openai==0.28) (2.4.4)\n",
            "Requirement already satisfied: aiosignal>=1.1.2 in /usr/local/lib/python3.11/dist-packages (from aiohttp->openai==0.28) (1.3.2)\n",
            "Requirement already satisfied: attrs>=17.3.0 in /usr/local/lib/python3.11/dist-packages (from aiohttp->openai==0.28) (24.3.0)\n",
            "Requirement already satisfied: frozenlist>=1.1.1 in /usr/local/lib/python3.11/dist-packages (from aiohttp->openai==0.28) (1.5.0)\n",
            "Requirement already satisfied: multidict<7.0,>=4.5 in /usr/local/lib/python3.11/dist-packages (from aiohttp->openai==0.28) (6.1.0)\n",
            "Requirement already satisfied: propcache>=0.2.0 in /usr/local/lib/python3.11/dist-packages (from aiohttp->openai==0.28) (0.2.1)\n",
            "Requirement already satisfied: yarl<2.0,>=1.17.0 in /usr/local/lib/python3.11/dist-packages (from aiohttp->openai==0.28) (1.18.3)\n"
          ]
        }
      ]
    },
    {
      "cell_type": "code",
      "source": [
        "!pip install openai==0.28\n",
        "from google.colab import userdata\n",
        "import openai\n",
        "\n",
        "# Retrieve the OpenAI API key from Google Colab secrets\n",
        "openai.api_key = userdata.get('openai')\n",
        "\n",
        "def get_llm_response(prompt):\n",
        "    \"\"\"This function takes a prompt as input and queries OpenAI's GPT model for a response.\"\"\"\n",
        "    # Send the request to OpenAI API\n",
        "    completion = openai.ChatCompletion.create(\n",
        "        model=\"gpt-3.5-turbo\",\n",
        "        messages=[\n",
        "            {\n",
        "                \"role\": \"system\",\n",
        "                \"content\": \"You are a helpful but concise AI assistant.\",\n",
        "            },\n",
        "            {\"role\": \"user\", \"content\": prompt},\n",
        "        ],\n",
        "        temperature=0.0,\n",
        "    )\n",
        "    response = completion.choices[0].message.content\n",
        "    return response"
      ],
      "metadata": {
        "colab": {
          "base_uri": "https://localhost:8080/"
        },
        "id": "kPSOc1gQpA4i",
        "outputId": "19f3483d-4dc3-4f12-c015-73e59a30e269"
      },
      "id": "kPSOc1gQpA4i",
      "execution_count": 3,
      "outputs": [
        {
          "output_type": "stream",
          "name": "stdout",
          "text": [
            "Requirement already satisfied: openai==0.28 in /usr/local/lib/python3.11/dist-packages (0.28.0)\n",
            "Requirement already satisfied: requests>=2.20 in /usr/local/lib/python3.11/dist-packages (from openai==0.28) (2.32.3)\n",
            "Requirement already satisfied: tqdm in /usr/local/lib/python3.11/dist-packages (from openai==0.28) (4.67.1)\n",
            "Requirement already satisfied: aiohttp in /usr/local/lib/python3.11/dist-packages (from openai==0.28) (3.11.11)\n",
            "Requirement already satisfied: charset-normalizer<4,>=2 in /usr/local/lib/python3.11/dist-packages (from requests>=2.20->openai==0.28) (3.4.1)\n",
            "Requirement already satisfied: idna<4,>=2.5 in /usr/local/lib/python3.11/dist-packages (from requests>=2.20->openai==0.28) (3.10)\n",
            "Requirement already satisfied: urllib3<3,>=1.21.1 in /usr/local/lib/python3.11/dist-packages (from requests>=2.20->openai==0.28) (2.3.0)\n",
            "Requirement already satisfied: certifi>=2017.4.17 in /usr/local/lib/python3.11/dist-packages (from requests>=2.20->openai==0.28) (2024.12.14)\n",
            "Requirement already satisfied: aiohappyeyeballs>=2.3.0 in /usr/local/lib/python3.11/dist-packages (from aiohttp->openai==0.28) (2.4.4)\n",
            "Requirement already satisfied: aiosignal>=1.1.2 in /usr/local/lib/python3.11/dist-packages (from aiohttp->openai==0.28) (1.3.2)\n",
            "Requirement already satisfied: attrs>=17.3.0 in /usr/local/lib/python3.11/dist-packages (from aiohttp->openai==0.28) (24.3.0)\n",
            "Requirement already satisfied: frozenlist>=1.1.1 in /usr/local/lib/python3.11/dist-packages (from aiohttp->openai==0.28) (1.5.0)\n",
            "Requirement already satisfied: multidict<7.0,>=4.5 in /usr/local/lib/python3.11/dist-packages (from aiohttp->openai==0.28) (6.1.0)\n",
            "Requirement already satisfied: propcache>=0.2.0 in /usr/local/lib/python3.11/dist-packages (from aiohttp->openai==0.28) (0.2.1)\n",
            "Requirement already satisfied: yarl<2.0,>=1.17.0 in /usr/local/lib/python3.11/dist-packages (from aiohttp->openai==0.28) (1.18.3)\n"
          ]
        }
      ]
    },
    {
      "cell_type": "markdown",
      "id": "db2a457b",
      "metadata": {
        "id": "db2a457b"
      },
      "source": [
        "## From previous lesson\n",
        "\n",
        "At the end of last lesson you saw this list of tasks"
      ]
    },
    {
      "cell_type": "code",
      "execution_count": 4,
      "id": "c2f3989f",
      "metadata": {
        "colab": {
          "base_uri": "https://localhost:8080/"
        },
        "id": "c2f3989f",
        "outputId": "367d78a4-eb22-4a16-ac28-6d84974383a8"
      },
      "outputs": [
        {
          "output_type": "stream",
          "name": "stdout",
          "text": [
            "[\"Compose a brief email to my boss explaining that I will be late for tomorrow's meeting.\", 'Write a birthday poem for Otto, celebrating his 28th birthday.', \"Write a 300-word review of the movie 'The Arrival'.\"]\n"
          ]
        }
      ],
      "source": [
        "#from previous lesson:\n",
        "list_of_tasks = [\n",
        "    \"Compose a brief email to my boss explaining that I will be late for tomorrow's meeting.\",\n",
        "    \"Write a birthday poem for Otto, celebrating his 28th birthday.\",\n",
        "    \"Write a 300-word review of the movie 'The Arrival'.\"\n",
        "]\n",
        "print(list_of_tasks)"
      ]
    },
    {
      "cell_type": "markdown",
      "id": "e5bae794",
      "metadata": {
        "id": "e5bae794"
      },
      "source": [
        "You passed them one by one to the LLM, repeatedly updated the task variable, then re-executed the function call with this code:"
      ]
    },
    {
      "cell_type": "code",
      "source": [
        "task = list_of_tasks[0]"
      ],
      "metadata": {
        "id": "02gCfDO3pmn8"
      },
      "id": "02gCfDO3pmn8",
      "execution_count": 6,
      "outputs": []
    },
    {
      "cell_type": "code",
      "source": [
        "task\n"
      ],
      "metadata": {
        "colab": {
          "base_uri": "https://localhost:8080/",
          "height": 35
        },
        "id": "Iw6htu-qpoMs",
        "outputId": "10f04319-d839-411b-84ce-a42fbc11c62a"
      },
      "id": "Iw6htu-qpoMs",
      "execution_count": 7,
      "outputs": [
        {
          "output_type": "execute_result",
          "data": {
            "text/plain": [
              "\"Compose a brief email to my boss explaining that I will be late for tomorrow's meeting.\""
            ],
            "application/vnd.google.colaboratory.intrinsic+json": {
              "type": "string"
            }
          },
          "metadata": {},
          "execution_count": 7
        }
      ]
    },
    {
      "cell_type": "code",
      "execution_count": 5,
      "id": "9f426b72",
      "metadata": {
        "colab": {
          "base_uri": "https://localhost:8080/"
        },
        "id": "9f426b72",
        "outputId": "247adc49-1b7d-49cb-9628-286d870168c6"
      },
      "outputs": [
        {
          "output_type": "stream",
          "name": "stdout",
          "text": [
            "Response:\n",
            "----------------------------------------\n",
            "Subject: Delayed Arrival for Tomorrow's Meeting\n",
            "\n",
            "Dear [Boss's name],\n",
            "\n",
            "I hope this email finds you well. I am reaching out to inform you that I will be running a little late for our scheduled meeting tomorrow due to an unforeseen personal commitment. \n",
            "\n",
            "I anticipate that my delay will be no more than 30 minutes, and I assure you that I will make up for the lost time accordingly. I apologize for any inconvenience this may cause and I am fully committed to catching up with any information or discussions I may miss.\n",
            "\n",
            "I am available to discuss any pending matters or provide updates prior to the meeting over email or a call, should you find it necessary. \n",
            "\n",
            "Thank you very much for your understanding.\n",
            "\n",
            "Best Regards,\n",
            "\n",
            "[Your name]\n",
            "----------------------------------------\n"
          ]
        }
      ],
      "source": [
        "task = list_of_tasks[0]\n",
        "print_llm_response(task)"
      ]
    },
    {
      "cell_type": "markdown",
      "id": "c46ed944-05e1-4ae0-a238-f172413b1771",
      "metadata": {
        "id": "c46ed944-05e1-4ae0-a238-f172413b1771"
      },
      "source": [
        "If you wanted to complete all the tasks in your list, you would have to re-write the same code multiple times. Alternatively, you can use a `for` loop."
      ]
    },
    {
      "cell_type": "markdown",
      "id": "b40551bc",
      "metadata": {
        "id": "b40551bc"
      },
      "source": [
        "## Iterating through task lists with AI"
      ]
    },
    {
      "cell_type": "markdown",
      "id": "58985454-e28e-49c8-9fe9-3b9057bafd08",
      "metadata": {
        "id": "58985454-e28e-49c8-9fe9-3b9057bafd08"
      },
      "source": [
        "When you run the cell below you will see how the for loop iterates through the elements in `list_of_tasks`."
      ]
    },
    {
      "cell_type": "code",
      "execution_count": 8,
      "id": "0c05dc28-4833-46ae-aad1-3607fab9cd67",
      "metadata": {
        "colab": {
          "base_uri": "https://localhost:8080/"
        },
        "id": "0c05dc28-4833-46ae-aad1-3607fab9cd67",
        "outputId": "a4b2211f-f91a-4c2a-a779-7324b5ea84f8"
      },
      "outputs": [
        {
          "output_type": "stream",
          "name": "stdout",
          "text": [
            "Compose a brief email to my boss explaining that I will be late for tomorrow's meeting.\n",
            "Write a birthday poem for Otto, celebrating his 28th birthday.\n",
            "Write a 300-word review of the movie 'The Arrival'.\n"
          ]
        }
      ],
      "source": [
        "for task in list_of_tasks:\n",
        "    print(task)"
      ]
    },
    {
      "cell_type": "markdown",
      "id": "e7dedcb5",
      "metadata": {
        "id": "e7dedcb5"
      },
      "source": [
        "Here's the code that automatically passes all items in list to `print_llm_response`"
      ]
    },
    {
      "cell_type": "code",
      "execution_count": 9,
      "id": "721136bd",
      "metadata": {
        "colab": {
          "base_uri": "https://localhost:8080/"
        },
        "id": "721136bd",
        "outputId": "915c4929-9ccd-489e-af8c-616596a6f77f"
      },
      "outputs": [
        {
          "output_type": "stream",
          "name": "stdout",
          "text": [
            "Response:\n",
            "----------------------------------------\n",
            "Subject: Delay in Arrival for Tomorrow's Meeting \n",
            "\n",
            "Dear [Boss's Name],\n",
            "\n",
            "I hope you're well. \n",
            "\n",
            "I wanted to inform you that, due to unforeseen circumstances, I will be arriving later than scheduled for tomorrow's meeting. I expect the delay to be around 20-30 minutes. My sincere apologies for any inconvenience caused by this change in timing. \n",
            "\n",
            "During my absence, I will ensure that any necessary information is passed onto a colleague, so that the meeting can begin as scheduled if necessary. I am committed to catching up on any discussions or decisions made during my brief absence.\n",
            "\n",
            "Once again, please accept my apologies for this inconvenience and thank you for your understanding. \n",
            "\n",
            "Best Regards,\n",
            "[Your Name]\n",
            "----------------------------------------\n",
            "Response:\n",
            "----------------------------------------\n",
            "Happy Birthday, Otto, you’re turning twenty-eight, \n",
            "A jovial soul, so kind and truly great. \n",
            "Through years you’ve journeyed, a tale to narrate,\n",
            "Now let's raise a toast to celebrate.\n",
            "\n",
            "Your laughter echoes, all worries abate,\n",
            "A source of joy, never underrate. \n",
            "In intellect and charm, you radiate,\n",
            "A sight to behold, a wonderful trait.\n",
            "\n",
            "On this blessed day, we illuminate, \n",
            "The love and fun, we reciprocate.\n",
            "Friends and family congregate,\n",
            "To honor you, in this joyous state. \n",
            "\n",
            "So here's to Otto, who's simply first-rate,\n",
            "May your world continue to invigorate. \n",
            "With each new dawn, may you elevate, \n",
            "Your life's dreams to stalwartly cultivate.\n",
            "\n",
            "On your 28th, we anticipate,\n",
            "A cycle of bliss, love, and fortunate fate,\n",
            "Happy Birthday, Otto, let's celebrate,\n",
            "To more years of promise, as they await.\n",
            "----------------------------------------\n",
            "Response:\n",
            "----------------------------------------\n",
            "'The Arrival', directed by Denis Villeneuve, is a radiant display of cinematic virtuosity, offering a visually stunning and thought-provoking interpretation of the science fiction genre. It has a compelling narrative that transcends the usual tropes of the genre, infusing intellectual gravitas and emotional depth into its depiction of human-alien interaction.\n",
            "\n",
            "This movie's plot hinges on the arrival of twelve extraterrestrial spacecraft to Earth, setting off a global response. Complications arise due to communication barriers, and Amy Adams's character, a linguistics professor named Louise Banks, showcases a remarkable performance as she takes on the titanic task of deciphering the aliens' language. She infuses her character with an intriguing mixture of vulnerability and strength that leaves an indelible impression.\n",
            "\n",
            "The movie’s strength lies in its subtlety and richness, favoring thoughtfulness over action. It's as much a reflection on human communication and our inability to understand each other as it is an alien invasion story. It symbolizes the fear of the unknown and how we, as a society, respond when faced with incomprehensible situations.\n",
            "\n",
            "Jeremy Renner and Forest Whitaker add commendable performances, complementing Adams's strong lead. The cinematography is breathtaking, and the mesmerizing score by Johann Johannsson adds to the movie's eerie yet beautiful ambiance.\n",
            "\n",
            "'The Arrival' dares its audience to think, to ponder, and to communicate, which is a breath of fresh air in a genre usually dominated by chaos and destruction. It suggests that language is the foundation of civilization, a tool that could potentially foster peace or cause havoc, depending on how it is wielded.\n",
            "\n",
            "A fascinating blend of science fiction, suspense, and drama, 'The Arrival' is a canvas skillfully painted with a very different extraterrestrial touch. This movie is both impressively constructed and an absolute must-see for any science-fiction film aficionado. It is a film that matures with every viewing, thus inviting revisitation.\n",
            "----------------------------------------\n"
          ]
        }
      ],
      "source": [
        "for task in list_of_tasks:\n",
        "    print_llm_response(task)"
      ]
    },
    {
      "cell_type": "markdown",
      "id": "f9a7a927",
      "metadata": {
        "id": "f9a7a927"
      },
      "source": [
        "Let's break this down.\n",
        "\n",
        "The `for task in list` pattern works as follows:\n",
        "\n",
        "- `task` is assigned the first item in the list. In this case, it's the string `\"Compose a brief email to my boss explaining that I will be late for tomorrow's meeting.\"`\n",
        "- The next indented line is called a block and contains an action to carry out on `task`. In this example, the string gets passed to the LLM, and the result appears on the screen.\n",
        "- Then the loop starts again. Now, `task` is assigned the string \"Write a birthday poem for Otto, celebrating his 28th birthday.\" It's the same variable, but with a different value.\n",
        "- `get_llm_response` runs again, and so on.\n",
        "\n",
        "Be sure to call out the `:` at the end of the line. Indentation is crucial; if it’s not correct, you'll get an error."
      ]
    },
    {
      "cell_type": "code",
      "execution_count": 10,
      "id": "8516a3dc",
      "metadata": {
        "colab": {
          "base_uri": "https://localhost:8080/"
        },
        "id": "8516a3dc",
        "outputId": "84e525a9-bb20-428e-91c4-89b8ea0eaf31"
      },
      "outputs": [
        {
          "output_type": "stream",
          "name": "stdout",
          "text": [
            "Response:\n",
            "----------------------------------------\n",
            "Subject: Update on Tomorrow's Meeting: Short Delay in Arrival \n",
            "\n",
            "Dear [Boss's Name],\n",
            "\n",
            "I hope this email finds you well. I am writing to inform you that I may be experiencing a delay in arriving for tomorrow's scheduled meeting. \n",
            "\n",
            "Regrettably, an unforeseen personal commitment has arisen, which will necessitate my tardiness. I expect the delay to be approximately 15-30 minutes and will endeavor to minimize any lateness as far as I can.\n",
            "\n",
            "Please accept my apologies for any inconvenience that this might cause. I shall ensure to catch up on any crucial information that I might miss during the initial part of the meeting.\n",
            "\n",
            "Thank you for your understanding and patience regarding this matter.\n",
            "\n",
            "Kind Regards,\n",
            "[Your Name]\n",
            "----------------------------------------\n",
            "Response:\n",
            "----------------------------------------\n",
            "To our good friend Otto, on this day of days,\n",
            "Hark! The calendar moves, another year it paves,\n",
            "Now twenty-eight trips around the sun,\n",
            "Each full of adventures, joy and, sometimes, a run.\n",
            "\n",
            "Oh Otto, you're a beacon, a star shining bright,\n",
            "A torch in the darkness, spreading light.\n",
            "With every passing year, you grow strong and tall,\n",
            "Leaving marks of kindness, your generous sprawl.\n",
            "\n",
            "You've always been a joy, your laughter rings true,\n",
            "Your sense of humor evergreen; it never grew blue.\n",
            "A friend to all with a heart of gold,\n",
            "Your story, your journey, is a sight to behold. \n",
            "\n",
            "Now on this day, your birth we commemorate,\n",
            "With cheer and good wishes for you, dear mate. \n",
            "May this 28th year, filled with wonder and zest,\n",
            "Be a glorious chapter, your absolute best.\n",
            "\n",
            "May your dreams take flight and your spirits soar,\n",
            "May each day bring you something to adore.\n",
            "So here's to Otto, a friend, a delight,\n",
            "In this dance called life, you shine ever so bright.\n",
            "\n",
            "Happy 28th Birthday, dear friend Otto!\n",
            "Here's to more laughter, love, and motto,\n",
            "With an appreciative nod, a toast – then we’ll clink,\n",
            "To a year full of joy, as quick as a wink!\n",
            "----------------------------------------\n",
            "Response:\n",
            "----------------------------------------\n",
            "\"Arrival\" is a remarkable blend of riveting drama and profound science fiction, ingeniously crafted by acclaimed director Denis Villeneuve. The film offers viewers an introspective journey into the realm of extraterrestrial life, weaving through themes of communication, humanity, time, and memory. \n",
            "\n",
            "Amy Adams stars as Louise Banks, a linguistics professor who plays an integral role with her extraordinary expertise, portraying a character of immense depth and resilience. Her performance is heartfelt and subtly nuanced, capturing the attention of the audience from her first moment on screen. Jeremy Renner and Forest Whitaker offer equally commendable performances, adding to the captivating narrative while maintaining a supportive stance. \n",
            "\n",
            "Villeneuve's masterful storytelling makes \"Arrival\" a groundbreaking piece of cinema. The cryptic language of the alien species, the heptapods, acts as an intriguing puzzle, leaving viewers eager to decode it alongside the film's lead. The innovative structure of the story employs flashbacks and flash-forwards, setting the movie apart from other sci-fi flicks. The non-linear narrative style creates an ambiance of suspense and intrigue that persists throughout.\n",
            "\n",
            "\"Arrival\" is visually striking. The portrayal of the alien spacecraft breaks away from traditional sci-fi depictions, demonstrating mesmerizing cinematic creativity. Cinematographer Bradford Young's work is praiseworthy, enriching the film through ominous, atmospheric visuals that complement Villeneuve's storytelling. \n",
            "\n",
            "The backbone of \"Arrival,\" however, is its conceptual depth. The film poses profound questions about human existence, interaction, and perception, delving deeper than most films that speak to the possibility of extraterrestrial life. Eric Heisserer's screen adaptation of Ted Chiang's novella provides a fresh take on the genre.\n",
            "\n",
            "In conclusion, \"Arrival\" is a captivating, thought-provoking film that brilliantly transcends the typical confines of science fiction. It pairs an absorbing plot packed with suspense, incredible performances, and a vivid visual spectrum to create a truly unforgettable cinematic experience. It's not just a movie about alien contact; it's a gentle exploration of the essence of humanity.\n",
            "----------------------------------------\n"
          ]
        }
      ],
      "source": [
        "for task in list_of_tasks:\n",
        " print_llm_response(task)"
      ]
    },
    {
      "cell_type": "markdown",
      "id": "2d8e58be",
      "metadata": {
        "id": "2d8e58be"
      },
      "source": [
        "<p style=\"background-color:#F5C780; padding:15px\"> 🤖 <b>Use the Chatbot</b>: Explain indentation error and help me fix it in this for loop: <br>\n",
        "for task in list_of_tasks:<br>\n",
        "print_llm_response(task)\n",
        "</p>"
      ]
    },
    {
      "cell_type": "markdown",
      "id": "8fdafdba-1a33-4bbd-9061-6950bd8bc488",
      "metadata": {
        "id": "8fdafdba-1a33-4bbd-9061-6950bd8bc488"
      },
      "source": [
        "## Iteratively updating AI prompts using lists"
      ]
    },
    {
      "cell_type": "markdown",
      "id": "09cf3e07",
      "metadata": {
        "id": "09cf3e07"
      },
      "source": [
        "You can even use lists with for loops to iteratively update more complex prompts with the list items. For instance, let's say that you have a list of ice-cream flavors:"
      ]
    },
    {
      "cell_type": "code",
      "execution_count": 11,
      "id": "385f6ec5",
      "metadata": {
        "id": "385f6ec5"
      },
      "outputs": [],
      "source": [
        "#ice cream flavor example\n",
        "ice_cream_flavors = [\n",
        "    \"Vanilla\",\n",
        "    \"Chocolate\",\n",
        "    \"Strawberry\",\n",
        "    \"Mint Chocolate Chip\"\n",
        "]"
      ]
    },
    {
      "cell_type": "markdown",
      "id": "bf5219ea",
      "metadata": {
        "id": "bf5219ea"
      },
      "source": [
        "You can use a for loop to iterate through the flavors and create a captivating description for each of them."
      ]
    },
    {
      "cell_type": "code",
      "execution_count": 12,
      "id": "d732762f",
      "metadata": {
        "colab": {
          "base_uri": "https://localhost:8080/"
        },
        "id": "d732762f",
        "outputId": "f889aa3c-dc8d-4795-b1a1-60c6ba72ace8"
      },
      "outputs": [
        {
          "output_type": "stream",
          "name": "stdout",
          "text": [
            "Response:\n",
            "----------------------------------------\n",
            "Indulge in the classic charm of our Vanilla ice cream! Uncompromisingly rich and irresistibly creamy, this flavor offers a taste of the finest natural vanilla, sourced from exotic locations. Every scoop is a timeless ode to simplicity, unfolding the velvety texture and the delicate, sweet, and aromatic essence of pure vanilla. Roam the realms of comfort and indulgence with our Vanilla ice cream that transforms any moment into a delightful experience. The joy of this universally loved flavor is sure to captivate your senses, making it more than just a dessert - it's a euphoric escape to a sweeter world!\n",
            "----------------------------------------\n",
            "Response:\n",
            "----------------------------------------\n",
            "Surrender to the intense indulgence of our Chocolate flavored ice cream. Delightfully rich and sinfully smooth, this sublime creation offers a stunning symphony of decadent, deep cocoa sourced from the finest selection worldwide. Each indulgent scoop is a velvety hug that envelopes your taste buds in a luxurious wave of chocolate that's both sweet, slightly bitter, and unapologetically irresistible. Celebrate life's sweetest moments and yield to the spellbinding charm of our Chocolate ice cream - it's a heavenly retreat into the world of genuine cocoa pleasures. Discover the magic of pure chocolate love in each lingering taste!\n",
            "----------------------------------------\n",
            "Response:\n",
            "----------------------------------------\n",
            "Dive into the blissful indulgence of our Strawberry ice cream! This irresistible classic is brimming with the essence of sun-ripened strawberries, freshly picked at their peak of perfection. Each delicious scoop is a vibrant symphony of sweet, tart, and creamy undertones that transport your taste buds to a lush strawberry field on a summer day. Journey into a world of sweet pleasure with every velvety mouthful, because our Strawberry ice cream is not just a treat, but an experience that elevates the ordinary into the extraordinary! Savor the simple, yet uncompromisingly delightful flavors of strawberry that make every day taste like a summer getaway.\n",
            "----------------------------------------\n",
            "Response:\n",
            "----------------------------------------\n",
            "Indulge in a revitalizing symphony of flavor with our special Mint Chocolate Chip ice cream. Each scoop is a delicious journey in itself. Your taste buds will come alive as they are greeted by the irresistible combination of finely crushed, luxurious dark chocolate chips enveloped by cool, refreshing, natural mint. The vibrant taste of dew-kissed mint leaves leaves a sublime aftertaste that dances on your palate, while the rich, silky texture of the ice cream effortlessly melts in your mouth. The contrasting flavors masterfully play off each other, taking you to new peaks of dessert delight. One bite and you’ll surrender to this tantalizingly unpredictable extravaganza. Rediscover ice cream with our Mint Chocolate Chip — an ice cream experience that is as unforgettable as it is delicious.\n",
            "----------------------------------------\n"
          ]
        }
      ],
      "source": [
        "for flavor in ice_cream_flavors:\n",
        "    prompt = f\"\"\"For the ice cream flavor listed below,\n",
        "    provide a captivating description that could be used for promotional purposes.\n",
        "\n",
        "    Flavor: {flavor}\n",
        "\n",
        "    \"\"\"\n",
        "    print_llm_response(prompt)"
      ]
    },
    {
      "cell_type": "markdown",
      "id": "d3f3ead6",
      "metadata": {
        "id": "d3f3ead6"
      },
      "source": [
        "Now that you know how to use lists, you can even save the promortional descriptions to another list using `.append()`:"
      ]
    },
    {
      "cell_type": "code",
      "execution_count": 13,
      "id": "db66a442",
      "metadata": {
        "id": "db66a442"
      },
      "outputs": [],
      "source": [
        "#saving results to a list\n",
        "promotional_descriptions = []\n",
        "for flavor in ice_cream_flavors:\n",
        "    prompt = f\"\"\"For the ice cream flavor listed below,\n",
        "    provide a captivating description that could be used for promotional purposes.\n",
        "\n",
        "    Flavor: {flavor}\n",
        "\n",
        "    \"\"\"\n",
        "    description = get_llm_response(prompt)\n",
        "    promotional_descriptions.append(description)"
      ]
    },
    {
      "cell_type": "markdown",
      "id": "ebdbcfa5",
      "metadata": {
        "id": "ebdbcfa5"
      },
      "source": [
        "After you run that code, you should be able to access the promotional descriptions for each of your ice-cream flavors."
      ]
    },
    {
      "cell_type": "code",
      "execution_count": 14,
      "id": "cad94172",
      "metadata": {
        "colab": {
          "base_uri": "https://localhost:8080/"
        },
        "id": "cad94172",
        "outputId": "c04b3fb4-2fe9-4cf7-8b45-6f2da40d9b2a"
      },
      "outputs": [
        {
          "output_type": "stream",
          "name": "stdout",
          "text": [
            "['Indulge in the timeless elegance of our Vanilla ice cream. Made with the finest Madagascar vanilla beans, each creamy scoop is a symphony of rich, smooth flavors that will transport your taste buds to a realm of pure delight. Savor the simplicity of this classic favorite and experience a moment of pure bliss with every spoonful.', 'Indulge in the rich and velvety decadence of our classic Chocolate ice cream. Each spoonful is a symphony of deep, intense cocoa flavors that will transport your taste buds to a world of pure bliss. Satisfy your cravings with this timeless favorite that promises to delight chocolate lovers of all ages.', 'Indulge in the sweet embrace of summer with our luscious Strawberry ice cream. Bursting with the vibrant essence of ripe strawberries, each creamy spoonful is a delightful symphony of fruity goodness. Treat your taste buds to a refreshing experience that will transport you to a sun-kissed strawberry field with every bite. Savor the taste of summer with our irresistible Strawberry ice cream.', 'Indulge in a refreshing symphony of cool mint and rich chocolate with our Mint Chocolate Chip ice cream. Each creamy spoonful is a delightful blend of crisp mint flavor and decadent chocolate chunks, creating a perfect balance of freshness and sweetness. Treat your taste buds to a delightful escape with every scoop of this classic favorite.']\n"
          ]
        }
      ],
      "source": [
        "print(promotional_descriptions)"
      ]
    },
    {
      "cell_type": "markdown",
      "id": "7135f13d-0f36-4de4-9365-bdadb8e6d611",
      "metadata": {
        "id": "7135f13d-0f36-4de4-9365-bdadb8e6d611"
      },
      "source": [
        "## Extra practice"
      ]
    },
    {
      "cell_type": "markdown",
      "id": "c01cc56d-92c7-4632-8cf9-aef3f9f9e3c7",
      "metadata": {
        "id": "c01cc56d-92c7-4632-8cf9-aef3f9f9e3c7"
      },
      "source": [
        "Please go through the exercises in the cells below if you want some extra practice for the topics you covered in this lesson."
      ]
    },
    {
      "cell_type": "code",
      "execution_count": null,
      "id": "f5a19e85-cd80-4e02-a5e1-762284bd27b6",
      "metadata": {
        "id": "f5a19e85-cd80-4e02-a5e1-762284bd27b6"
      },
      "outputs": [],
      "source": [
        "# Fix the following code.\n",
        "# It should print the flavors in\n",
        "# ice_cream_flavors one by one.\n",
        "\n",
        "ice_cream_flavors = [\"Chocolate\", \"Mint Chocolate Chip\"]\n",
        "\n",
        "### EDIT THE FOLLOWING CODE ###\n",
        "for flavor in ice_cream_flavors;\n",
        "    print(ice_cream_flavors)\n",
        "### --------------- ###"
      ]
    },
    {
      "cell_type": "code",
      "execution_count": null,
      "id": "7b7480c4-ae67-42bd-8cac-189f1f087053",
      "metadata": {
        "id": "7b7480c4-ae67-42bd-8cac-189f1f087053"
      },
      "outputs": [],
      "source": [
        "# Translate the flavors in ice_cream_flavors to Spanish\n",
        "ice_cream_flavors = [\"Vanilla\", \"Strawberry\"]\n",
        "\n",
        "for flavor in ice_cream_flavors:\n",
        "    ### EDIT THE FOLLOWING CODE ###\n",
        "    #Hint: you only need to add one or two sentences to the prompt\n",
        "    prompt = f\"\"\"For the ice cream flavor listed below,\n",
        "\n",
        "    \"\"\"\n",
        "    ### --------------- ###\n",
        "    print_llm_response(prompt)"
      ]
    },
    {
      "cell_type": "code",
      "execution_count": null,
      "id": "6394bb74-a839-4732-8dbf-1b96bd8e97f9",
      "metadata": {
        "id": "6394bb74-a839-4732-8dbf-1b96bd8e97f9"
      },
      "outputs": [],
      "source": [
        "# Write code to get a list with\n",
        "# words without typos\n",
        "\n",
        "words_with_typos = [\"Aple\", \"Wether\", \"Newpaper\"]\n",
        "words_without_typos = []\n",
        "\n",
        "for word in words_with_typos:\n",
        "    prompt = f\"\"\"Fix the spelling mistake in the following word: {word}\n",
        "    Provide only the word.\n",
        "    \"\"\"\n",
        "    correct_word = get_llm_response(prompt)\n",
        "    ### WRITE CODE HERE  ###\n",
        "    #Hint: Append the correct_word to the words_without_typos list\n",
        "    ### --------------- ###\n",
        "\n",
        "print(words_without_typos)"
      ]
    }
  ],
  "metadata": {
    "kernelspec": {
      "display_name": "Python 3 (ipykernel)",
      "language": "python",
      "name": "python3"
    },
    "language_info": {
      "codemirror_mode": {
        "name": "ipython",
        "version": 3
      },
      "file_extension": ".py",
      "mimetype": "text/x-python",
      "name": "python",
      "nbconvert_exporter": "python",
      "pygments_lexer": "ipython3",
      "version": "3.9.19"
    },
    "colab": {
      "provenance": [],
      "include_colab_link": true
    }
  },
  "nbformat": 4,
  "nbformat_minor": 5
}