{
  "cells": [
    {
      "cell_type": "markdown",
      "metadata": {
        "id": "view-in-github",
        "colab_type": "text"
      },
      "source": [
        "<a href=\"https://colab.research.google.com/github/Decoding-Data-Science/airesidency/blob/main/python_for_ai/function_with_data_aiforpython.ipynb\" target=\"_parent\"><img src=\"https://colab.research.google.com/assets/colab-badge.svg\" alt=\"Open In Colab\"/></a>"
      ]
    },
    {
      "cell_type": "markdown",
      "id": "de660b8e",
      "metadata": {
        "id": "de660b8e"
      },
      "source": [
        "# Lesson 10: Functions - Actions on Data"
      ]
    },
    {
      "cell_type": "markdown",
      "id": "a3c720f4",
      "metadata": {
        "id": "a3c720f4"
      },
      "source": [
        "First, start by running the command below. This imports some functions, including the `print_llm_response` function you used before, from the `helper_functions` Python file."
      ]
    },
    {
      "cell_type": "code",
      "execution_count": null,
      "id": "e7d9dd05",
      "metadata": {
        "colab": {
          "base_uri": "https://localhost:8080/"
        },
        "id": "e7d9dd05",
        "outputId": "479218a8-d59b-4e6a-a16d-60e8f7f10179"
      },
      "outputs": [
        {
          "output_type": "stream",
          "name": "stdout",
          "text": [
            "Requirement already satisfied: openai==0.28 in /usr/local/lib/python3.10/dist-packages (0.28.0)\n",
            "Requirement already satisfied: requests>=2.20 in /usr/local/lib/python3.10/dist-packages (from openai==0.28) (2.32.3)\n",
            "Requirement already satisfied: tqdm in /usr/local/lib/python3.10/dist-packages (from openai==0.28) (4.67.1)\n",
            "Requirement already satisfied: aiohttp in /usr/local/lib/python3.10/dist-packages (from openai==0.28) (3.11.10)\n",
            "Requirement already satisfied: charset-normalizer<4,>=2 in /usr/local/lib/python3.10/dist-packages (from requests>=2.20->openai==0.28) (3.4.0)\n",
            "Requirement already satisfied: idna<4,>=2.5 in /usr/local/lib/python3.10/dist-packages (from requests>=2.20->openai==0.28) (3.10)\n",
            "Requirement already satisfied: urllib3<3,>=1.21.1 in /usr/local/lib/python3.10/dist-packages (from requests>=2.20->openai==0.28) (2.2.3)\n",
            "Requirement already satisfied: certifi>=2017.4.17 in /usr/local/lib/python3.10/dist-packages (from requests>=2.20->openai==0.28) (2024.12.14)\n",
            "Requirement already satisfied: aiohappyeyeballs>=2.3.0 in /usr/local/lib/python3.10/dist-packages (from aiohttp->openai==0.28) (2.4.4)\n",
            "Requirement already satisfied: aiosignal>=1.1.2 in /usr/local/lib/python3.10/dist-packages (from aiohttp->openai==0.28) (1.3.2)\n",
            "Requirement already satisfied: async-timeout<6.0,>=4.0 in /usr/local/lib/python3.10/dist-packages (from aiohttp->openai==0.28) (4.0.3)\n",
            "Requirement already satisfied: attrs>=17.3.0 in /usr/local/lib/python3.10/dist-packages (from aiohttp->openai==0.28) (24.3.0)\n",
            "Requirement already satisfied: frozenlist>=1.1.1 in /usr/local/lib/python3.10/dist-packages (from aiohttp->openai==0.28) (1.5.0)\n",
            "Requirement already satisfied: multidict<7.0,>=4.5 in /usr/local/lib/python3.10/dist-packages (from aiohttp->openai==0.28) (6.1.0)\n",
            "Requirement already satisfied: propcache>=0.2.0 in /usr/local/lib/python3.10/dist-packages (from aiohttp->openai==0.28) (0.2.1)\n",
            "Requirement already satisfied: yarl<2.0,>=1.17.0 in /usr/local/lib/python3.10/dist-packages (from aiohttp->openai==0.28) (1.18.3)\n",
            "Requirement already satisfied: typing-extensions>=4.1.0 in /usr/local/lib/python3.10/dist-packages (from multidict<7.0,>=4.5->aiohttp->openai==0.28) (4.12.2)\n"
          ]
        }
      ],
      "source": [
        "# Install the OpenAI library\n",
        "!pip install openai==0.28\n",
        "\n",
        "import openai\n",
        "from google.colab import userdata\n",
        "\n",
        "# Retrieve the OpenAI API key from Google Colab secrets\n",
        "openai.api_key = userdata.get('openai')\n",
        "\n",
        "def print_llm_response(prompt: str, max_tokens: int = 1000):\n",
        "    \"\"\"\n",
        "    Fetch and print an LLM response using the OpenAI library.\n",
        "\n",
        "    Parameters:\n",
        "        prompt (str): The input prompt to query the LLM.\n",
        "        max_tokens (int): Maximum number of tokens to include in the response.\n",
        "    \"\"\"\n",
        "    # Use the updated `ChatCompletion` API\n",
        "    response = openai.ChatCompletion.create(\n",
        "        model=\"gpt-4\",  # Specify the appropriate model\n",
        "        messages=[\n",
        "            {\"role\": \"system\", \"content\": \"You are a helpful assistant.\"},\n",
        "            {\"role\": \"user\", \"content\": prompt},\n",
        "        ],\n",
        "        max_tokens=max_tokens\n",
        "    )\n",
        "\n",
        "    # Extract and print the response text\n",
        "    response_text = response[\"choices\"][0][\"message\"][\"content\"].strip()\n",
        "    print(f\"Response:\\n{'-'*40}\\n{response_text}\\n{'-'*40}\")\n",
        "\n",
        "\n"
      ]
    },
    {
      "cell_type": "markdown",
      "id": "a229ce91",
      "metadata": {
        "id": "a229ce91"
      },
      "source": [
        "In previous lessons, you have used the `print()` function to display values directly to the screen and the `print_llm_response()` function to use an LLM following the instruction you provide as a string. Below, you will print `\"¯\\_(ツ)_/¯\"` and ask the LLM about the capital of France."
      ]
    },
    {
      "cell_type": "code",
      "execution_count": null,
      "id": "a753314f",
      "metadata": {
        "colab": {
          "base_uri": "https://localhost:8080/"
        },
        "id": "a753314f",
        "outputId": "1bf9b8d5-6eea-4d39-b747-ad6c93e2a577"
      },
      "outputs": [
        {
          "output_type": "stream",
          "name": "stdout",
          "text": [
            "¯\\_(ツ)_/¯\n"
          ]
        }
      ],
      "source": [
        "print(\"¯\\_(ツ)_/¯\")"
      ]
    },
    {
      "cell_type": "code",
      "execution_count": null,
      "id": "cf25d93a-1d9d-4ba8-bb54-6503acbb1930",
      "metadata": {
        "colab": {
          "base_uri": "https://localhost:8080/"
        },
        "collapsed": true,
        "id": "cf25d93a-1d9d-4ba8-bb54-6503acbb1930",
        "outputId": "be6e169b-eb82-41cd-e00c-61ea83e1bcbc"
      },
      "outputs": [
        {
          "output_type": "stream",
          "name": "stdout",
          "text": [
            "Response:\n",
            "----------------------------------------\n",
            "The capital of the United Arab Emirates (UAE) is Abu Dhabi.\n",
            "----------------------------------------\n"
          ]
        }
      ],
      "source": [
        "print_llm_response(\"What is the capital of UAE?\")"
      ]
    },
    {
      "cell_type": "markdown",
      "id": "52ece8c0",
      "metadata": {
        "id": "52ece8c0"
      },
      "source": [
        "You have also used the `type` function, which gives you the type used in Python for a value or variable you provide. For instance, the type of 17 is `int` (for integer)."
      ]
    },
    {
      "cell_type": "code",
      "execution_count": null,
      "id": "c81ad492",
      "metadata": {
        "colab": {
          "base_uri": "https://localhost:8080/"
        },
        "id": "c81ad492",
        "outputId": "fe75b885-426a-4830-8e43-17f5c2e1e033"
      },
      "outputs": [
        {
          "output_type": "execute_result",
          "data": {
            "text/plain": [
              "str"
            ]
          },
          "metadata": {},
          "execution_count": 5
        }
      ],
      "source": [
        "type(\"Abu Dhabi\")"
      ]
    },
    {
      "cell_type": "markdown",
      "id": "df1e3c22",
      "metadata": {
        "id": "df1e3c22"
      },
      "source": [
        "In this lesson, you will see more function examples and explore more deeply how functions work."
      ]
    },
    {
      "cell_type": "markdown",
      "id": "17034de4",
      "metadata": {
        "id": "17034de4"
      },
      "source": [
        "## Functions to count, to round, and to do much more"
      ]
    },
    {
      "cell_type": "markdown",
      "id": "76aa246f",
      "metadata": {
        "id": "76aa246f"
      },
      "source": [
        "There are many functions in Python that you can use straight out of the box. For instance, the `len()` function counts the characters in a string. So when you run the code below, you will display (using `print()`) the result of counting (with `len()`) the number of characters in the string `\"Hello World!\"`."
      ]
    },
    {
      "cell_type": "code",
      "execution_count": null,
      "id": "05f09a2e",
      "metadata": {
        "colab": {
          "base_uri": "https://localhost:8080/"
        },
        "id": "05f09a2e",
        "outputId": "3c87605d-4876-4755-fd83-d3f2a65b53db"
      },
      "outputs": [
        {
          "output_type": "stream",
          "name": "stdout",
          "text": [
            "12\n"
          ]
        }
      ],
      "source": [
        "print( len(\"Hello World!\") )"
      ]
    },
    {
      "cell_type": "markdown",
      "id": "b0987e9f",
      "metadata": {
        "id": "b0987e9f"
      },
      "source": [
        "As another example, you can use `round()` to take a floating point number and round it to the nearest integer. Below, you use `print()` to display the result of rounding (with `round()`) the number `42.17`."
      ]
    },
    {
      "cell_type": "code",
      "execution_count": null,
      "id": "ce418e1a",
      "metadata": {
        "colab": {
          "base_uri": "https://localhost:8080/"
        },
        "id": "ce418e1a",
        "outputId": "4fa16e01-2896-42b0-d45b-446ba93b0da4"
      },
      "outputs": [
        {
          "output_type": "stream",
          "name": "stdout",
          "text": [
            "42\n"
          ]
        }
      ],
      "source": [
        "print(round(42.17))"
      ]
    },
    {
      "cell_type": "markdown",
      "id": "94a9d309",
      "metadata": {
        "id": "94a9d309"
      },
      "source": [
        "You can save the result from a function using variables in a very similar way to what you have already explored in previous lessons. Below, you save the result from `len(\"Hello World!\")` to the variable `string_length`."
      ]
    },
    {
      "cell_type": "code",
      "execution_count": null,
      "id": "c4690998",
      "metadata": {
        "colab": {
          "base_uri": "https://localhost:8080/"
        },
        "id": "c4690998",
        "outputId": "995dbacf-0e55-407c-bc76-0bb114382379"
      },
      "outputs": [
        {
          "output_type": "stream",
          "name": "stdout",
          "text": [
            "12\n"
          ]
        }
      ],
      "source": [
        "string_length = len(\"Hello World!\")\n",
        "print(string_length)"
      ]
    },
    {
      "cell_type": "markdown",
      "id": "783e327e",
      "metadata": {
        "id": "783e327e"
      },
      "source": [
        "There are many functions in Python, and you don't have to memorize them all. If you ever need a function to perform a specific task, you can ask the chatbot. Try it now with the suggested prompt here or try your own.\n",
        "\n",
        "<p style=\"background-color:#F5C780; padding:15px\"> 🤖 <b>Use the Chatbot</b>: How can I find the length of a string?\n",
        "</p>"
      ]
    },
    {
      "cell_type": "markdown",
      "id": "90b0fdc4-e01f-425b-af70-755ee52334f2",
      "metadata": {
        "id": "90b0fdc4-e01f-425b-af70-755ee52334f2"
      },
      "source": [
        "## Using functions in AI programs"
      ]
    },
    {
      "cell_type": "markdown",
      "id": "1b0dee8d-14f8-4078-bbc1-ed3e8aafce86",
      "metadata": {
        "id": "1b0dee8d-14f8-4078-bbc1-ed3e8aafce86"
      },
      "source": [
        "Functions can be used alongside variables in AI programs. In the previous lesson, you saw how to create custom instructions (or prompts) for an LLM using variables. In the cell below, you will use variables and the `round()` function to create a prompt that you will use for an LLM with the `get_llm_response()` function. The `get_llm_response()` function is very similar to `print_llm_response()` (which you used before); the main difference is that you get a string as a result instead of just displaying the LLM response. This way, you can store the LLM response in the variable `response`."
      ]
    },
    {
      "cell_type": "code",
      "source": [
        "from google.colab import userdata\n",
        "import openai\n",
        "\n",
        "# Retrieve the OpenAI API key from Google Colab secrets\n",
        "openai.api_key = userdata.get('openai')\n",
        "\n",
        "def get_llm_response(prompt):\n",
        "    \"\"\"This function takes a prompt as input and queries OpenAI's GPT model for a response.\"\"\"\n",
        "    # Send the request to OpenAI API\n",
        "    completion = openai.ChatCompletion.create(\n",
        "        model=\"gpt-3.5-turbo\",\n",
        "        messages=[\n",
        "            {\n",
        "                \"role\": \"system\",\n",
        "                \"content\": \"You are a helpful but concise AI assistant.\",\n",
        "            },\n",
        "            {\"role\": \"user\", \"content\": prompt},\n",
        "        ],\n",
        "        temperature=0.0,\n",
        "    )\n",
        "    response = completion.choices[0].message.content\n",
        "    return response\n",
        "\n"
      ],
      "metadata": {
        "id": "248q5XbXrIJx"
      },
      "id": "248q5XbXrIJx",
      "execution_count": null,
      "outputs": []
    },
    {
      "cell_type": "code",
      "execution_count": null,
      "id": "03b730a6",
      "metadata": {
        "colab": {
          "base_uri": "https://localhost:8080/"
        },
        "id": "03b730a6",
        "outputId": "da2ce6ff-05c2-4cf3-8c43-dc54309c6dd9"
      },
      "outputs": [
        {
          "output_type": "stream",
          "name": "stdout",
          "text": [
            "Tommy's got five potatoes, a spud-filled delight,\n",
            "In his kitchen they wait, ready for a tasty bite.\n"
          ]
        }
      ],
      "source": [
        "name = \"Tommy\"\n",
        "potatoes = 4.75\n",
        "prompt = f\"\"\"Write a couplet about my friend {name} who has about {round(potatoes)} potatoes\"\"\"\n",
        "response = get_llm_response(prompt)\n",
        "print(response)"
      ]
    },
    {
      "cell_type": "markdown",
      "id": "25fc5429",
      "metadata": {
        "id": "25fc5429"
      },
      "source": [
        "## Extra practice\n",
        "\n",
        "Try the exercises below to practice the concepts from this lesson. Read the comments in each cell with the instructions for each exercise.\n",
        "\n",
        "<b>Feel free to use the chatbot if you need help.</b>"
      ]
    },
    {
      "cell_type": "code",
      "execution_count": null,
      "id": "5c38d622",
      "metadata": {
        "id": "5c38d622",
        "colab": {
          "base_uri": "https://localhost:8080/"
        },
        "outputId": "02336fb9-8ebe-422a-87d6-a2e0d6fcc916"
      },
      "outputs": [
        {
          "output_type": "stream",
          "name": "stdout",
          "text": [
            "Your lucky number is 70!\n"
          ]
        }
      ],
      "source": [
        "# Enter one of your favorite numbers. Multiply the result by 10 and save it to a variable called 'lucky_number'.\n",
        "# Print a message saying \"Your lucky number is [lucky_number]!\"\n",
        "\n",
        "lucky_number = 7\n",
        "print(f\"Your lucky number is {}!\")"
      ]
    },
    {
      "cell_type": "code",
      "execution_count": null,
      "id": "c3f62ddb",
      "metadata": {
        "id": "c3f62ddb"
      },
      "outputs": [],
      "source": [
        "# Use print_llm_response() to print a poem with the specified number of lines. Use the\n",
        "# prompt variable to save your prompt before calling print_llm_response()\n",
        "\n",
        "number_of_lines =\n",
        "prompt =\n",
        "print_llm_response()"
      ]
    },
    {
      "cell_type": "code",
      "execution_count": null,
      "id": "653e6a72",
      "metadata": {
        "id": "653e6a72"
      },
      "outputs": [],
      "source": [
        "# Repeat exercise 2, this time using the function get_llm_response(), then print() to print it. This function asks\n",
        "# the LLM for a response, just like print_llm_response, but does not print it. You'll need to save the response to\n",
        "# a variable, then print it out separately.\n",
        "\n",
        "number_of_lines =\n",
        "prompt =\n",
        "response =\n",
        "print()"
      ]
    }
  ],
  "metadata": {
    "kernelspec": {
      "display_name": "Python 3 (ipykernel)",
      "language": "python",
      "name": "python3"
    },
    "language_info": {
      "codemirror_mode": {
        "name": "ipython",
        "version": 3
      },
      "file_extension": ".py",
      "mimetype": "text/x-python",
      "name": "python",
      "nbconvert_exporter": "python",
      "pygments_lexer": "ipython3",
      "version": "3.9.19"
    },
    "colab": {
      "provenance": [],
      "include_colab_link": true
    }
  },
  "nbformat": 4,
  "nbformat_minor": 5
}