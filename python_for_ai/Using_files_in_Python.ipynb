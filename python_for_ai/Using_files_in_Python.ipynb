{
  "cells": [
    {
      "cell_type": "markdown",
      "metadata": {
        "id": "view-in-github",
        "colab_type": "text"
      },
      "source": [
        "<a href=\"https://colab.research.google.com/github/Decoding-Data-Science/airesidency/blob/main/Using_files_in_Python.ipynb\" target=\"_parent\"><img src=\"https://colab.research.google.com/assets/colab-badge.svg\" alt=\"Open In Colab\"/></a>"
      ]
    },
    {
      "cell_type": "markdown",
      "metadata": {
        "id": "WMGxBP-yQoCl"
      },
      "source": [
        "# Lesson 1: Using files in Python\n",
        "\n",
        "Hit the play button on the video next to this Jupyter notebook to start the video and follow along as Andrew explains how to work through this lesson.\n",
        "\n",
        "So far, if you have taken the previous courses in this sequence,\n",
        "* You have worked with data that is created and assigned to variables within Jupyter notebooks.\n",
        "* You have created multi-line strings.\n",
        "* You have created lists and dictionaries.\n",
        "* You have automated tasks using `for` loops and `if` statements.\n",
        "\n",
        "\n",
        "In this lesson, you will read files using Python!\n",
        "\n",
        "Let's start by loading some functions you'll use in this notebook:"
      ]
    },
    {
      "cell_type": "code",
      "source": [
        "pip install openai==0.28"
      ],
      "metadata": {
        "id": "ykKhKum1ZqIV"
      },
      "execution_count": null,
      "outputs": []
    },
    {
      "cell_type": "code",
      "execution_count": null,
      "metadata": {
        "height": 64,
        "id": "WYzzgvG6Xbj3"
      },
      "outputs": [],
      "source": [
        "#from helper_functions import get_llm_response\n",
        "from IPython.display import display, Markdown"
      ]
    },
    {
      "cell_type": "code",
      "source": [
        "from google.colab import userdata\n",
        "import openai\n",
        "\n",
        "# Retrieve the OpenAI API key from Google Colab secrets\n",
        "openai.api_key = userdata.get('openai')\n",
        "\n",
        "def get_llm_response(prompt):\n",
        "    \"\"\"This function takes a prompt as input and queries OpenAI's GPT model for a response.\"\"\"\n",
        "    # Send the request to OpenAI API\n",
        "    completion = openai.ChatCompletion.create(\n",
        "        model=\"gpt-3.5-turbo\",\n",
        "        messages=[\n",
        "            {\n",
        "                \"role\": \"system\",\n",
        "                \"content\": \"You are a helpful but concise AI assistant.\",\n",
        "            },\n",
        "            {\"role\": \"user\", \"content\": prompt},\n",
        "        ],\n",
        "        temperature=0.0,\n",
        "    )\n",
        "    response = completion.choices[0].message.content\n",
        "    return response\n"
      ],
      "metadata": {
        "id": "r81WnED4YVFL"
      },
      "execution_count": null,
      "outputs": []
    },
    {
      "cell_type": "markdown",
      "metadata": {
        "id": "IOe_frBWXbj4"
      },
      "source": [
        "* Write a prompt to create a recipe using `get_llm_response`."
      ]
    },
    {
      "cell_type": "code",
      "source": [
        "print(prompt)"
      ],
      "metadata": {
        "colab": {
          "base_uri": "https://localhost:8080/"
        },
        "id": "3oPH5-O5aVX9",
        "outputId": "d972e480-5a4d-44c0-9d51-ec8ef0b7e4ad"
      },
      "execution_count": null,
      "outputs": [
        {
          "output_type": "stream",
          "name": "stdout",
          "text": [
            "\n",
            "    Create a short recipe that uses the following ingredients:\n",
            "    ['chicken', 'broccoli', 'rice']\n",
            "\n"
          ]
        }
      ]
    },
    {
      "cell_type": "code",
      "execution_count": null,
      "metadata": {
        "height": 268,
        "colab": {
          "base_uri": "https://localhost:8080/"
        },
        "id": "DYWzKrnUXbj4",
        "outputId": "9317cae6-34dd-4e35-be91-d28a80fb224d"
      },
      "outputs": [
        {
          "output_type": "stream",
          "name": "stdout",
          "text": [
            "Chicken Broccoli Rice Stir-Fry Recipe:\n",
            "\n",
            "Ingredients:\n",
            "- 1 lb chicken breast, sliced\n",
            "- 2 cups broccoli florets\n",
            "- 1 cup cooked rice\n",
            "- 2 tbsp soy sauce\n",
            "- 1 tbsp sesame oil\n",
            "- 2 cloves garlic, minced\n",
            "- Salt and pepper to taste\n",
            "- Optional: red pepper flakes for heat\n",
            "\n",
            "Instructions:\n",
            "1. Heat sesame oil in a large skillet over medium-high heat.\n",
            "2. Add minced garlic and cook until fragrant, about 1 minute.\n",
            "3. Add sliced chicken to the skillet and cook until browned and cooked through.\n",
            "4. Add broccoli florets and cook until slightly tender, about 3-4 minutes.\n",
            "5. Stir in cooked rice and soy sauce, mixing well to combine all ingredients.\n",
            "6. Season with salt, pepper, and red pepper flakes if desired.\n",
            "7. Cook for an additional 2-3 minutes, stirring occasionally.\n",
            "8. Serve hot and enjoy your delicious Chicken Broccoli Rice Stir-Fry!\n"
          ]
        }
      ],
      "source": [
        "# Write a list of ingredients\n",
        "ingredients = ['chicken', 'broccoli', 'rice']\n",
        "\n",
        "# Write the prompt\n",
        "prompt = f\"\"\"\n",
        "    Create a short recipe that uses the following ingredients:\n",
        "    {ingredients}\n",
        "\"\"\"\n",
        "\n",
        "# Get the response from the LLM\n",
        "response = get_llm_response(prompt)\n",
        "\n",
        "# Print the LLM response\n",
        "print(response)"
      ]
    },
    {
      "cell_type": "markdown",
      "metadata": {
        "id": "FDC0QprIXbj4"
      },
      "source": [
        "## Opening a text file and saving it as a string"
      ]
    },
    {
      "cell_type": "markdown",
      "metadata": {
        "id": "cRKlA1NGXbj5"
      },
      "source": [
        "You will load data that has already been created and is stored 📁 for you in files.\n",
        "\n",
        "* Start by loading an email that Daniel sent recently. It is stored in a '.txt' file."
      ]
    },
    {
      "cell_type": "code",
      "execution_count": null,
      "metadata": {
        "height": 64,
        "id": "5mfdbWeYXbj5"
      },
      "outputs": [],
      "source": [
        "f = open(\"email.txt\", \"r\")\n",
        "email = f.read()\n",
        "f.close()"
      ]
    },
    {
      "cell_type": "markdown",
      "metadata": {
        "id": "ZTbmcW_6Xbj5"
      },
      "source": [
        "* Print what it is 'inside' the email ✉️."
      ]
    },
    {
      "cell_type": "code",
      "execution_count": null,
      "metadata": {
        "height": 30,
        "colab": {
          "base_uri": "https://localhost:8080/"
        },
        "id": "sFCorh4CXbj6",
        "outputId": "91017cbb-9e15-44d4-9ffc-df112a59badc"
      },
      "outputs": [
        {
          "output_type": "stream",
          "name": "stdout",
          "text": [
            "Subject: My Incredible Journey Around the World!\n",
            "\n",
            "Hi Mohammad,\n",
            "\n",
            "I hope you are doing greatl! I just returned from an incredible trip around the world. I started in New York, enjoying a Broadway show and the skyline. In Rio de Janeiro, I soaked up the sun on Copacabana Beach and hiked to Christ the Redeemer. Cape Town amazed me with its natural beauty and safari adventures. Paris was magical with its charming streets and delicious food. Istanbul's Hagia Sophia and Bosphorus cruise were unforgettable. Tokyo dazzled with its neon lights and delicious sushi. Finally, Sydney's Opera House and Bondi Beach were the perfect end to my journey. Can't wait to share more stories and photos when we catch up!\n",
            "\n",
            "Best,\n",
            "\n",
            "Daniel\n"
          ]
        }
      ],
      "source": [
        "print(email)"
      ]
    },
    {
      "cell_type": "markdown",
      "metadata": {
        "id": "9QItfdcbXbj6"
      },
      "source": [
        "<p style=\"background-color:#F5C780; padding:15px\"> 🤖 <b>Use the Chatbot</b>:\n",
        "    <br><br>\n",
        "    Explain this code line by line:\n",
        "    <br><br>f = open(\"email.txt\", \"r\")\n",
        "    <br>email = f.read()\n",
        "    <br>f.close()\n",
        "</p>"
      ]
    },
    {
      "cell_type": "markdown",
      "metadata": {
        "id": "gdwG4bw7Xbj6"
      },
      "source": [
        "<p style=\"background-color:#F5C780; padding:15px\"> 🤖 <b>Use the Chatbot</b>:\n",
        "    <br><br>\n",
        "    What happens if I don't close a file?\n",
        "</p>"
      ]
    },
    {
      "cell_type": "markdown",
      "metadata": {
        "id": "bevWWudGXbj6"
      },
      "source": [
        "## Using LLMs to extract bullet points from the email"
      ]
    },
    {
      "cell_type": "markdown",
      "metadata": {
        "id": "iK7Rhym3Xbj6"
      },
      "source": [
        "* Create a prompt to extract bullet points from Daniel's email ✉️."
      ]
    },
    {
      "cell_type": "code",
      "execution_count": null,
      "metadata": {
        "height": 149,
        "colab": {
          "base_uri": "https://localhost:8080/"
        },
        "id": "5pQ0IxpSXbj7",
        "outputId": "39ca9b6f-b294-4ccc-eca4-b332b6a662ee"
      },
      "outputs": [
        {
          "output_type": "stream",
          "name": "stdout",
          "text": [
            "Extract bullet points from the following email. \n",
            "Include the sender information. \n",
            "\n",
            "Email:\n",
            "Subject: My Incredible Journey Around the World!\n",
            "\n",
            "Hi Mohammad,\n",
            "\n",
            "I hope you are doing greatl! I just returned from an incredible trip around the world. I started in New York, enjoying a Broadway show and the skyline. In Rio de Janeiro, I soaked up the sun on Copacabana Beach and hiked to Christ the Redeemer. Cape Town amazed me with its natural beauty and safari adventures. Paris was magical with its charming streets and delicious food. Istanbul's Hagia Sophia and Bosphorus cruise were unforgettable. Tokyo dazzled with its neon lights and delicious sushi. Finally, Sydney's Opera House and Bondi Beach were the perfect end to my journey. Can't wait to share more stories and photos when we catch up!\n",
            "\n",
            "Best,\n",
            "\n",
            "Daniel\n"
          ]
        }
      ],
      "source": [
        "prompt = f\"\"\"Extract bullet points from the following email.\n",
        "Include the sender information.\n",
        "\n",
        "Email:\n",
        "{email}\"\"\"\n",
        "\n",
        "print(prompt)"
      ]
    },
    {
      "cell_type": "markdown",
      "metadata": {
        "id": "_prgwqJbXbj7"
      },
      "source": [
        "* Run the ```get_llm_response``` function to get the response with bullet points."
      ]
    },
    {
      "cell_type": "code",
      "execution_count": null,
      "metadata": {
        "height": 47,
        "colab": {
          "base_uri": "https://localhost:8080/"
        },
        "id": "DOCvlY2yXbj7",
        "outputId": "9524c2a9-222a-4eeb-9720-aef042f4caa5"
      },
      "outputs": [
        {
          "output_type": "stream",
          "name": "stdout",
          "text": [
            "Sender: Daniel\n",
            "\n",
            "- Started trip in New York\n",
            "- Visited Rio de Janeiro\n",
            "- Explored Cape Town\n",
            "- Enjoyed Paris\n",
            "- Explored Istanbul\n",
            "- Visited Tokyo\n",
            "- Ended trip in Sydney\n"
          ]
        }
      ],
      "source": [
        "bullet_points = get_llm_response(prompt)\n",
        "print(bullet_points)"
      ]
    },
    {
      "cell_type": "markdown",
      "metadata": {
        "id": "41KpnMTzXbj7"
      },
      "source": [
        "* Print the LLM response in Markdown format."
      ]
    },
    {
      "cell_type": "code",
      "execution_count": null,
      "metadata": {
        "height": 47,
        "colab": {
          "base_uri": "https://localhost:8080/",
          "height": 174
        },
        "id": "SNtwQ76QXbj7",
        "outputId": "1d8d7c03-34c0-4d13-d623-887d019768d2"
      },
      "outputs": [
        {
          "output_type": "display_data",
          "data": {
            "text/plain": [
              "<IPython.core.display.Markdown object>"
            ],
            "text/markdown": "Sender: Daniel\n\n- Started trip in New York\n- Visited Rio de Janeiro\n- Explored Cape Town\n- Enjoyed Paris\n- Explored Istanbul\n- Visited Tokyo\n- Ended trip in Sydney"
          },
          "metadata": {}
        }
      ],
      "source": [
        "# Print in Markdown format\n",
        "display(Markdown(bullet_points))"
      ]
    },
    {
      "cell_type": "markdown",
      "metadata": {
        "id": "r7NuvzmYXbj7"
      },
      "source": [
        "## Extra practice\n",
        "\n",
        "Try the exercises below to get an LLM to carry out different tasks using the email text you read in from file:\n",
        "\n",
        "### Exercise 1\n",
        "\n",
        "Complete the code below to identify all the **countries** mentioned in the email."
      ]
    },
    {
      "cell_type": "code",
      "execution_count": null,
      "metadata": {
        "height": 200,
        "id": "pVem7CHIXbj7"
      },
      "outputs": [],
      "source": [
        "# Complete the code below to identify all of the countries mentioned\n",
        "# in the email\n",
        "prompt = f\"\"\"WRITE YOUR PROMPT HERE\n",
        "\n",
        "Email:\n",
        "{email}\n",
        "\"\"\"\n",
        "\n",
        "countries = get_llm_response(prompt)\n",
        "print(countries)"
      ]
    },
    {
      "cell_type": "markdown",
      "metadata": {
        "id": "FLjly2QzXbj7"
      },
      "source": [
        "### Exercise 2\n",
        "\n",
        "Write code below to list all of the activities that Daniel did on his trip. You'll need to create a prompt and use either `get_llm_response` or `print_llm_response`."
      ]
    },
    {
      "cell_type": "code",
      "execution_count": null,
      "metadata": {
        "height": 98,
        "id": "vFtAYecJXbj7"
      },
      "outputs": [],
      "source": [
        "# Write code below to list all of the activities that Daniel did on\n",
        "# his trip. You'll need to create a prompt and use either\n",
        "# get_llm_response or print_llm_response\n",
        "# START YOUR CODE HERE"
      ]
    }
  ],
  "metadata": {
    "colab": {
      "gpuType": "T4",
      "provenance": [],
      "include_colab_link": true
    },
    "kernelspec": {
      "display_name": "Python 3 (ipykernel)",
      "language": "python",
      "name": "python3"
    },
    "language_info": {
      "codemirror_mode": {
        "name": "ipython",
        "version": 3
      },
      "file_extension": ".py",
      "mimetype": "text/x-python",
      "name": "python",
      "nbconvert_exporter": "python",
      "pygments_lexer": "ipython3",
      "version": "3.9.19"
    }
  },
  "nbformat": 4,
  "nbformat_minor": 0
}