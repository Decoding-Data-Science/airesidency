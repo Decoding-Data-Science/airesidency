{
  "cells": [
    {
      "cell_type": "markdown",
      "metadata": {
        "id": "view-in-github",
        "colab_type": "text"
      },
      "source": [
        "<a href=\"https://colab.research.google.com/github/Decoding-Data-Science/airesidency/blob/main/xtracting_restaurant_information_from_journal_entries.ipynb\" target=\"_parent\"><img src=\"https://colab.research.google.com/assets/colab-badge.svg\" alt=\"Open In Colab\"/></a>"
      ]
    },
    {
      "cell_type": "markdown",
      "metadata": {
        "id": "cH1w5DXLE40_"
      },
      "source": [
        "# Lesson 4: Extracting restaurant information from journal entries\n",
        "\n",
        "In this lesson you'll use an LLM to extract specific information from a text file - in this case restaurant names and signature dishes.\n",
        "\n",
        "Start by importing some helper functions:"
      ]
    },
    {
      "cell_type": "code",
      "execution_count": 2,
      "metadata": {
        "height": 47,
        "id": "AETfoyovE41B"
      },
      "outputs": [],
      "source": [
        "#from helper_functions import *\n",
        "from IPython.display import display, HTML"
      ]
    },
    {
      "cell_type": "markdown",
      "metadata": {
        "id": "6xegsH0XE41C"
      },
      "source": [
        "## Using AI to highlight important information"
      ]
    },
    {
      "cell_type": "markdown",
      "metadata": {
        "id": "NxIx_4QOE41C"
      },
      "source": [
        "Load the journal entry for Rio de Janeiro, stored in the `rio_de_janeiro.txt` file.\n",
        "* You'll use a new helper function called `read_journal`\n",
        "* Don't worry about how this works for now, you'll learn about it in a later lesson in this course"
      ]
    },
    {
      "cell_type": "code",
      "source": [
        "!pip install openai==0.28\n",
        "from google.colab import userdata\n",
        "import openai\n",
        "\n",
        "# Retrieve the OpenAI API key from Google Colab secrets\n",
        "openai.api_key = userdata.get('openai')\n",
        "\n",
        "def get_llm_response(prompt):\n",
        "    \"\"\"This function takes a prompt as input and queries OpenAI's GPT model for a response.\"\"\"\n",
        "    # Send the request to OpenAI API\n",
        "    completion = openai.ChatCompletion.create(\n",
        "        model=\"gpt-3.5-turbo\",\n",
        "        messages=[\n",
        "            {\n",
        "                \"role\": \"system\",\n",
        "                \"content\": \"You are a helpful but concise AI assistant.\",\n",
        "            },\n",
        "            {\"role\": \"user\", \"content\": prompt},\n",
        "        ],\n",
        "        temperature=0.0,\n",
        "    )\n",
        "    response = completion.choices[0].message.content\n",
        "    return response"
      ],
      "metadata": {
        "colab": {
          "base_uri": "https://localhost:8080/"
        },
        "id": "qraBwD26FTo_",
        "outputId": "7f79dd18-b398-4673-8b75-ca7827712a42"
      },
      "execution_count": 1,
      "outputs": [
        {
          "output_type": "stream",
          "name": "stdout",
          "text": [
            "Requirement already satisfied: openai==0.28 in /usr/local/lib/python3.10/dist-packages (0.28.0)\n",
            "Requirement already satisfied: requests>=2.20 in /usr/local/lib/python3.10/dist-packages (from openai==0.28) (2.32.3)\n",
            "Requirement already satisfied: tqdm in /usr/local/lib/python3.10/dist-packages (from openai==0.28) (4.67.1)\n",
            "Requirement already satisfied: aiohttp in /usr/local/lib/python3.10/dist-packages (from openai==0.28) (3.11.11)\n",
            "Requirement already satisfied: charset-normalizer<4,>=2 in /usr/local/lib/python3.10/dist-packages (from requests>=2.20->openai==0.28) (3.4.1)\n",
            "Requirement already satisfied: idna<4,>=2.5 in /usr/local/lib/python3.10/dist-packages (from requests>=2.20->openai==0.28) (3.10)\n",
            "Requirement already satisfied: urllib3<3,>=1.21.1 in /usr/local/lib/python3.10/dist-packages (from requests>=2.20->openai==0.28) (2.3.0)\n",
            "Requirement already satisfied: certifi>=2017.4.17 in /usr/local/lib/python3.10/dist-packages (from requests>=2.20->openai==0.28) (2024.12.14)\n",
            "Requirement already satisfied: aiohappyeyeballs>=2.3.0 in /usr/local/lib/python3.10/dist-packages (from aiohttp->openai==0.28) (2.4.4)\n",
            "Requirement already satisfied: aiosignal>=1.1.2 in /usr/local/lib/python3.10/dist-packages (from aiohttp->openai==0.28) (1.3.2)\n",
            "Requirement already satisfied: async-timeout<6.0,>=4.0 in /usr/local/lib/python3.10/dist-packages (from aiohttp->openai==0.28) (4.0.3)\n",
            "Requirement already satisfied: attrs>=17.3.0 in /usr/local/lib/python3.10/dist-packages (from aiohttp->openai==0.28) (24.3.0)\n",
            "Requirement already satisfied: frozenlist>=1.1.1 in /usr/local/lib/python3.10/dist-packages (from aiohttp->openai==0.28) (1.5.0)\n",
            "Requirement already satisfied: multidict<7.0,>=4.5 in /usr/local/lib/python3.10/dist-packages (from aiohttp->openai==0.28) (6.1.0)\n",
            "Requirement already satisfied: propcache>=0.2.0 in /usr/local/lib/python3.10/dist-packages (from aiohttp->openai==0.28) (0.2.1)\n",
            "Requirement already satisfied: yarl<2.0,>=1.17.0 in /usr/local/lib/python3.10/dist-packages (from aiohttp->openai==0.28) (1.18.3)\n",
            "Requirement already satisfied: typing-extensions>=4.1.0 in /usr/local/lib/python3.10/dist-packages (from multidict<7.0,>=4.5->aiohttp->openai==0.28) (4.12.2)\n"
          ]
        }
      ]
    },
    {
      "cell_type": "code",
      "source": [
        "def read_journal(journal_file):\n",
        "    f = open(journal_file, \"r\")\n",
        "    journal = f.read()\n",
        "    f.close()\n",
        "    return journal"
      ],
      "metadata": {
        "id": "gwpV90gWFO_U"
      },
      "execution_count": 3,
      "outputs": []
    },
    {
      "cell_type": "code",
      "execution_count": 4,
      "metadata": {
        "height": 47,
        "id": "UnUUl5w2E41C"
      },
      "outputs": [],
      "source": [
        "journal_rio_de_janeiro = read_journal(\"rio_de_janeiro.txt\")"
      ]
    },
    {
      "cell_type": "markdown",
      "metadata": {
        "id": "123oqYFBE41C"
      },
      "source": [
        "Next, write and print out a prompt that asks the LLM to highlight the restaurants and their best dishes in the journal entry:"
      ]
    },
    {
      "cell_type": "code",
      "execution_count": 5,
      "metadata": {
        "height": 217,
        "colab": {
          "base_uri": "https://localhost:8080/"
        },
        "id": "lygh76S-E41C",
        "outputId": "525fa71e-01c8-40ab-e00d-5cf261f676e9"
      },
      "outputs": [
        {
          "output_type": "stream",
          "name": "stdout",
          "text": [
            "\n",
            "Given the following journal entry from a food critic, identify the restaurants and their best dishes.\n",
            "Highlight and bold each restaurant (in orange) and best dish (in blue) within the original text. \n",
            "\n",
            "Provide the output as HTML suitable for display in a Jupyter notebook. \n",
            "\n",
            "Journal entry:\n",
            "First up was Confeitaria Colombo, a legendary and picturesque café in central Rio. Known for its pastel de nata (custard tart), Colombo serves a delightful treat that is hard to beat. The crispy, flaky pastry filled with creamy, sweet custard was an excellent start to the day. The café's historic Belle Époque ambiance added an extra layer of charm.\n",
            "\n",
            "Next, I visited Fogo de Chão, a quintessential Brazilian steakhouse in Botafogo. Famous for its picanha (top sirloin), this churrascaria impressed with its perfectly grilled meat. The picanha was juicy, tender, and bursting with flavor, showcasing the high quality of Brazilian beef. The endless array of grilled meats served tableside made for a hearty and satisfying meal.\n",
            "\n",
            "For a more modern dining experience, I headed to Olympe in Lagoa. This Michelin-starred restaurant specializes in contemporary Brazilian cuisine. The highlight was their moqueca de caju (cashew nut stew). This rich and creamy stew, made from cashew nuts and complemented by fresh seafood and vegetables, was an exquisite dish in an elegant and refined setting.\n",
            "\n",
            "Finally, I concluded my culinary tour at Aprazível, renowned for its breathtaking views and farm-to-table approach. Their signature dish, galinhada (Brazilian chicken and rice), was outstanding. The tender and flavorful chicken, cooked with a mix of rice, vegetables, and spices, and served with farofa (toasted cassava flour), perfectly highlighted the fresh, locally sourced ingredients. The lush, garden-like setting of the restaurant provided a serene end to the culinary adventure.\n",
            "\n",
            "\n"
          ]
        }
      ],
      "source": [
        "prompt = f\"\"\"\n",
        "Given the following journal entry from a food critic, identify the restaurants and their best dishes.\n",
        "Highlight and bold each restaurant (in orange) and best dish (in blue) within the original text.\n",
        "\n",
        "Provide the output as HTML suitable for display in a Jupyter notebook.\n",
        "\n",
        "Journal entry:\n",
        "{journal_rio_de_janeiro}\n",
        "\"\"\"\n",
        "\n",
        "print(prompt)"
      ]
    },
    {
      "cell_type": "markdown",
      "metadata": {
        "id": "reahY1u-E41D"
      },
      "source": [
        "Pass this prompt to an LLM and store the response in a variable called `html_response`. Then print the result:"
      ]
    },
    {
      "cell_type": "code",
      "execution_count": 6,
      "metadata": {
        "height": 47,
        "colab": {
          "base_uri": "https://localhost:8080/"
        },
        "id": "qT-MK9fwE41D",
        "outputId": "869df650-1538-4895-8d07-982c56287b24"
      },
      "outputs": [
        {
          "output_type": "stream",
          "name": "stdout",
          "text": [
            "```html\n",
            "<p>First up was <span style=\"color:orange\"><strong>Confeitaria Colombo</strong></span>, a legendary and picturesque café in central Rio. Known for its <span style=\"color:blue\"><strong>pastel de nata (custard tart)</strong></span>, Colombo serves a delightful treat that is hard to beat. The crispy, flaky pastry filled with creamy, sweet custard was an excellent start to the day. The café's historic Belle Époque ambiance added an extra layer of charm.</p>\n",
            "\n",
            "<p>Next, I visited <span style=\"color:orange\"><strong>Fogo de Chão</strong></span>, a quintessential Brazilian steakhouse in Botafogo. Famous for its <span style=\"color:blue\"><strong>picanha (top sirloin)</strong></span>, this churrascaria impressed with its perfectly grilled meat. The picanha was juicy, tender, and bursting with flavor, showcasing the high quality of Brazilian beef. The endless array of grilled meats served tableside made for a hearty and satisfying meal.</p>\n",
            "\n",
            "<p>For a more modern dining experience, I headed to <span style=\"color:orange\"><strong>Olympe</strong></span> in Lagoa. This Michelin-starred restaurant specializes in contemporary Brazilian cuisine. The highlight was their <span style=\"color:blue\"><strong>moqueca de caju (cashew nut stew)</strong></span>. This rich and creamy stew, made from cashew nuts and complemented by fresh seafood and vegetables, was an exquisite dish in an elegant and refined setting.</p>\n",
            "\n",
            "<p>Finally, I concluded my culinary tour at <span style=\"color:orange\"><strong>Aprazível</strong></span>, renowned for its breathtaking views and farm-to-table approach. Their signature dish, <span style=\"color:blue\"><strong>galinhada (Brazilian chicken and rice)</strong></span>, was outstanding. The tender and flavorful chicken, cooked with a mix of rice, vegetables, and spices, and served with farofa (toasted cassava flour), perfectly highlighted the fresh, locally sourced ingredients. The lush, garden-like setting of the restaurant provided a serene end to the culinary adventure.</p>\n",
            "```  \n"
          ]
        }
      ],
      "source": [
        "html_response = get_llm_response(prompt)\n",
        "print(html_response)"
      ]
    },
    {
      "cell_type": "markdown",
      "metadata": {
        "id": "jxe4ZuGiE41D"
      },
      "source": [
        "The 'print' function here displays the raw text - including all of the HTML tags that a web browser uses to display the text with proper formatting.\n",
        "* Use display and HTML to display the HTML formatted output properly in the Jupyter notebook:"
      ]
    },
    {
      "cell_type": "code",
      "execution_count": 7,
      "metadata": {
        "height": 30,
        "colab": {
          "base_uri": "https://localhost:8080/",
          "height": 307
        },
        "id": "Xt5LIEEzE41E",
        "outputId": "e114ec62-8365-49fc-e3b1-7722feda432d"
      },
      "outputs": [
        {
          "output_type": "display_data",
          "data": {
            "text/plain": [
              "<IPython.core.display.HTML object>"
            ],
            "text/html": [
              "```html\n",
              "<p>First up was <span style=\"color:orange\"><strong>Confeitaria Colombo</strong></span>, a legendary and picturesque café in central Rio. Known for its <span style=\"color:blue\"><strong>pastel de nata (custard tart)</strong></span>, Colombo serves a delightful treat that is hard to beat. The crispy, flaky pastry filled with creamy, sweet custard was an excellent start to the day. The café's historic Belle Époque ambiance added an extra layer of charm.</p>\n",
              "\n",
              "<p>Next, I visited <span style=\"color:orange\"><strong>Fogo de Chão</strong></span>, a quintessential Brazilian steakhouse in Botafogo. Famous for its <span style=\"color:blue\"><strong>picanha (top sirloin)</strong></span>, this churrascaria impressed with its perfectly grilled meat. The picanha was juicy, tender, and bursting with flavor, showcasing the high quality of Brazilian beef. The endless array of grilled meats served tableside made for a hearty and satisfying meal.</p>\n",
              "\n",
              "<p>For a more modern dining experience, I headed to <span style=\"color:orange\"><strong>Olympe</strong></span> in Lagoa. This Michelin-starred restaurant specializes in contemporary Brazilian cuisine. The highlight was their <span style=\"color:blue\"><strong>moqueca de caju (cashew nut stew)</strong></span>. This rich and creamy stew, made from cashew nuts and complemented by fresh seafood and vegetables, was an exquisite dish in an elegant and refined setting.</p>\n",
              "\n",
              "<p>Finally, I concluded my culinary tour at <span style=\"color:orange\"><strong>Aprazível</strong></span>, renowned for its breathtaking views and farm-to-table approach. Their signature dish, <span style=\"color:blue\"><strong>galinhada (Brazilian chicken and rice)</strong></span>, was outstanding. The tender and flavorful chicken, cooked with a mix of rice, vegetables, and spices, and served with farofa (toasted cassava flour), perfectly highlighted the fresh, locally sourced ingredients. The lush, garden-like setting of the restaurant provided a serene end to the culinary adventure.</p>\n",
              "```  "
            ]
          },
          "metadata": {}
        }
      ],
      "source": [
        "display(HTML(html_response))"
      ]
    },
    {
      "cell_type": "markdown",
      "metadata": {
        "id": "Qklolv5CE41E"
      },
      "source": [
        "Try the same steps with the Tokyo journal entry:"
      ]
    },
    {
      "cell_type": "code",
      "execution_count": 8,
      "metadata": {
        "height": 268,
        "colab": {
          "base_uri": "https://localhost:8080/",
          "height": 551
        },
        "id": "SyVbTwM7E41E",
        "outputId": "a342e4f6-6d68-418d-f05b-a7734a3debe9"
      },
      "outputs": [
        {
          "output_type": "display_data",
          "data": {
            "text/plain": [
              "<IPython.core.display.HTML object>"
            ],
            "text/html": [
              "```html\n",
              "<p>Tokyo's culinary landscape is nothing short of extraordinary. Each spot offers a unique taste of the city's diverse food culture. Here's a quick guide to some must-try places and dishes.</p>\n",
              "\n",
              "<p><span style=\"color:orange\"><strong>Sukiyabashi Jiro</strong></span>\n",
              "    <br>Location: Ginza\n",
              "    <br>Dish: <span style=\"color:blue\">Omakase sushi</span>\n",
              "    <br>Highlight: Impeccably crafted sushi made by the legendary Jiro Ono. Each piece is a masterclass in balance and flavor.</p>\n",
              "\n",
              "<p><span style=\"color:orange\"><strong>Ichiran Ramen</strong></span>\n",
              "    <br>Location: Shibuya\n",
              "    <br>Dish: <span style=\"color:blue\">Tonkotsu ramen</span>\n",
              "    <br>Highlight: A personal ramen booth for focused, uninterrupted enjoyment. Rich, creamy broth with perfectly cooked noodles.</p>\n",
              "\n",
              "<p><span style=\"color:orange\"><strong>Tsukiji Outer Market</strong></span>\n",
              "    <br>Location: Tsukiji\n",
              "    <br>Dish: Fresh sashimi and street food\n",
              "    <br>Highlight: Vibrant market atmosphere. Indulge in ultra-fresh sashimi, grilled seafood, and other Japanese street food delights.</p>\n",
              "\n",
              "<p><span style=\"color:orange\"><strong>Narisawa</strong></span>\n",
              "    <br>Location: Minato\n",
              "    <br>Dish: Innovative tasting menu\n",
              "    <br>Highlight: A fusion of French and Japanese techniques. Creative dishes with an emphasis on sustainability and local ingredients.</p>\n",
              "\n",
              "<p><span style=\"color:orange\"><strong>Ginza Kojyu</strong></span>\n",
              "    <br>Location: Ginza\n",
              "    <br>Dish: <span style=\"color:blue\">Kaiseki (traditional multi-course meal)</span>\n",
              "    <br>Highlight: Exquisite presentation and meticulous preparation. A journey through seasonal Japanese flavors.</p>\n",
              "\n",
              "<p><span style=\"color:orange\"><strong>Akasaka Kikunoi</strong></span>\n",
              "    <br>Location: Akasaka\n",
              "    <br>Dish: Kaiseki\n",
              "    <br>Highlight: Elegant and serene setting. Seasonal ingredients transformed into artful, delicious courses.</p>\n",
              "```"
            ]
          },
          "metadata": {}
        }
      ],
      "source": [
        "journal_tokyo = read_journal(\"tokyo.txt\")\n",
        "\n",
        "prompt = f\"\"\"\n",
        "Given the following journal entry from a food critic, identify the restaurants and their best dishes.\n",
        "Highlight and bold each restaurant (in orange) and best dish (in blue) within the original text.\n",
        "\n",
        "Provide the output as HTML suitable for display in a Jupyter notebook.\n",
        "\n",
        "Journal entry:\n",
        "{journal_tokyo}\n",
        "\"\"\"\n",
        "\n",
        "html_response = get_llm_response(prompt)\n",
        "display(HTML(html_response))"
      ]
    },
    {
      "cell_type": "markdown",
      "metadata": {
        "id": "WxIqn3BjE41E"
      },
      "source": [
        "Notice that even though the structure of this text is very different from the previous one, the LLM is able to identify and highlight the correct items."
      ]
    },
    {
      "cell_type": "markdown",
      "metadata": {
        "id": "XhL8291pE41E"
      },
      "source": [
        "## Try for yourself!\n",
        "\n",
        "If you like, pause the video here and try modifying the prompt above to do other things, for example:\n",
        "- Have the LLM highlight any desserts in green\n",
        "- Have the LLM add a relevant emoji beside any ingredients"
      ]
    },
    {
      "cell_type": "markdown",
      "metadata": {
        "id": "Fv3qi17-E41E"
      },
      "source": [
        "## Extracting restaurants and their best dishes"
      ]
    },
    {
      "cell_type": "markdown",
      "metadata": {
        "id": "SAdIRQndE41F"
      },
      "source": [
        "Next, you'll modify the prompt to extract the information from the text and list it out, instead of highlighting it.\n",
        "\n",
        "Here is the modified prompt with the new instructions to save the data in CSV, or **Comma Separated Value** format:"
      ]
    },
    {
      "cell_type": "code",
      "execution_count": 9,
      "metadata": {
        "height": 353,
        "colab": {
          "base_uri": "https://localhost:8080/"
        },
        "id": "wlVuJYPwE41F",
        "outputId": "64610e50-9cd1-4a42-d05d-5c108468d01e"
      },
      "outputs": [
        {
          "output_type": "stream",
          "name": "stdout",
          "text": [
            "Restaurant,Dish\n",
            "Confeitaria Colombo,Pastel de nata\n",
            "Fogo de Chão,Picanha\n",
            "Olympe,Moqueca de caju\n",
            "Aprazível,Galinhada\n"
          ]
        }
      ],
      "source": [
        "prompt = f\"\"\"Please extract a comprehensive list of the restaurants\n",
        "and their respective best dishes mentioned in the following journal entry.\n",
        "Ensure that each restaurant name is accurately identified and listed.\n",
        "\n",
        "Provide your answer in CSV format, ready to save.\n",
        "Exclude the \"```csv\" declaration, don't add spaces after the comma, include column headers.\n",
        "\n",
        "Format:\n",
        "Restaurant, Dish\n",
        "Res_1, Dsh_1\n",
        "...\n",
        "\n",
        "Journal entry:\n",
        "{journal_rio_de_janeiro}\n",
        "\"\"\"\n",
        "\n",
        "restaurants_csv_ready_string = get_llm_response(prompt)\n",
        "\n",
        "print(restaurants_csv_ready_string)"
      ]
    },
    {
      "cell_type": "markdown",
      "metadata": {
        "id": "LoZvU1WEE41F"
      },
      "source": [
        "Notice how the output now only contains the restaurants and names of dishes.\n",
        "\n",
        "The first line indicates what information each row contains, in this case the name of the restaurant, then a comma, then the name of the dish."
      ]
    },
    {
      "cell_type": "markdown",
      "metadata": {
        "id": "I42tMkneE41F"
      },
      "source": [
        "## Looping through multiple journals"
      ]
    },
    {
      "cell_type": "markdown",
      "metadata": {
        "id": "ks5hUw4YE41F"
      },
      "source": [
        "In this section, you'll iterate through all the journal entries using a `for` loop and extract the restaurants and best dishes from each file:"
      ]
    },
    {
      "cell_type": "code",
      "source": [
        "# Install the OpenAI library\n",
        "#!pip install openai==0.28\n",
        "\n",
        "import openai\n",
        "from google.colab import userdata\n",
        "\n",
        "# Retrieve the OpenAI API key from Google Colab secrets\n",
        "openai.api_key = userdata.get('openai')\n",
        "\n",
        "def print_llm_response(prompt: str, max_tokens: int = 1000):\n",
        "    \"\"\"\n",
        "    Fetch and print an LLM response using the OpenAI library.\n",
        "\n",
        "    Parameters:\n",
        "        prompt (str): The input prompt to query the LLM.\n",
        "        max_tokens (int): Maximum number of tokens to include in the response.\n",
        "    \"\"\"\n",
        "    # Use the updated `ChatCompletion` API\n",
        "    response = openai.ChatCompletion.create(\n",
        "        model=\"gpt-4\",  # Specify the appropriate model\n",
        "        messages=[\n",
        "            {\"role\": \"system\", \"content\": \"You are a helpful assistant.\"},\n",
        "            {\"role\": \"user\", \"content\": prompt},\n",
        "        ],\n",
        "        max_tokens=max_tokens\n",
        "    )\n",
        "\n",
        "    # Extract and print the response text\n",
        "    response_text = response[\"choices\"][0][\"message\"][\"content\"].strip()\n",
        "    print(f\"Response:\\n{'-'*40}\\n{response_text}\\n{'-'*40}\")\n",
        "\n",
        "\n"
      ],
      "metadata": {
        "id": "mhOCSd0BGKQV"
      },
      "execution_count": 11,
      "outputs": []
    },
    {
      "cell_type": "code",
      "execution_count": 12,
      "metadata": {
        "height": 523,
        "colab": {
          "base_uri": "https://localhost:8080/"
        },
        "id": "o5TZBVEEE41F",
        "outputId": "f0407174-de7a-45e6-a935-f07d9c836cd6"
      },
      "outputs": [
        {
          "output_type": "stream",
          "name": "stdout",
          "text": [
            "cape_town.txt\n",
            "Response:\n",
            "----------------------------------------\n",
            "Restaurant,Dish\n",
            "The Test Kitchen,Pickled Fish Tacos\n",
            "La Colombe,Tuna La Colombe\n",
            "Harbour House,Grilled Kingklip\n",
            "The Pot Luck Club,Beef Tataki\n",
            "----------------------------------------\n",
            "\n",
            "istanbul.txt\n",
            "Response:\n",
            "----------------------------------------\n",
            "Restaurant, Dish\n",
            "Çiya Sofrası, Kuzu Tandir\n",
            "Karaköy Lokantası, Midye Dolma\n",
            "Asitane, Mutancana\n",
            "Mikla, Lamb Rump\n",
            "----------------------------------------\n",
            "\n",
            "new_york.txt\n",
            "Response:\n",
            "----------------------------------------\n",
            "Restaurant,Dish\n",
            "Katz's Delicatessen,pastrami on rye\n",
            "Peter Luger Steak House,porterhouse steak\n",
            "Lobster Place at Chelsea Market,lobster rolls\n",
            "Gramercy Tavern,roasted chicken with seasonal vegetables\n",
            "----------------------------------------\n",
            "\n",
            "paris.txt\n",
            "Response:\n",
            "----------------------------------------\n",
            "Restaurant,Dish\n",
            "Le Comptoir du Relais,Coq au Vin\n",
            "Le Jules Verne,Filet de Boeuf\n",
            "Pierre Hermé,Ispahan\n",
            "L'Ambroisie,Turbot with Artichokes and Truffle\n",
            "----------------------------------------\n",
            "\n",
            "rio_de_janeiro.txt\n",
            "Response:\n",
            "----------------------------------------\n",
            "Restaurant,Dish\n",
            "Confeitaria Colombo,pastel de nata (custard tart)\n",
            "Fogo de Chão,picanha (top sirloin)\n",
            "Olympe,moqueca de caju (cashew nut stew)\n",
            "Aprazível,galinhada (Brazilian chicken and rice)\n",
            "----------------------------------------\n",
            "\n",
            "sydney.txt\n",
            "Response:\n",
            "----------------------------------------\n",
            "Restaurant,Dish\n",
            "Saint Peter,Murray Cod\n",
            "Billy Kwong,Crispy Skin Duck with Davidson’s Plum Sauce\n",
            "The Lord Nelson Brewery Hotel,Roast Lamb\n",
            "Vic's Meat Market,BBQ Beef Brisket\n",
            "Bennelong,Sydney Rock Oysters\n",
            "----------------------------------------\n",
            "\n",
            "tokyo.txt\n",
            "Response:\n",
            "----------------------------------------\n",
            "Restaurant,Dish\n",
            "Sukiyabashi Jiro,Omakase sushi\n",
            "Ichiran Ramen,Tonkotsu ramen\n",
            "Tsukiji Outer Market,Fresh sashimi and street food\n",
            "Narisawa,Innovative tasting menu\n",
            "Ginza Kojyu,Kaiseki (traditional multi-course meal)\n",
            "Akasaka Kikunoi,Kaiseki\n",
            "----------------------------------------\n",
            "\n"
          ]
        }
      ],
      "source": [
        "files = [\"cape_town.txt\", \"istanbul.txt\", \"new_york.txt\", \"paris.txt\",\n",
        "          \"rio_de_janeiro.txt\", \"sydney.txt\", \"tokyo.txt\"]\n",
        "\n",
        "for file in files:\n",
        "    #Open file and read contents\n",
        "    journal_entry = read_journal(file)\n",
        "\n",
        "    #Extract restaurants and display csv\n",
        "    prompt =  f\"\"\"Please extract a comprehensive list of the restaurants\n",
        "    and their respective best dishes mentioned in the following journal entry.\n",
        "\n",
        "    Ensure that each restaurant name is accurately identified and listed.\n",
        "    Provide your answer in CSV format, ready to save.\n",
        "\n",
        "    Exclude the \"```csv\" declaration, don't add spaces after the\n",
        "    comma, include column headers.\n",
        "\n",
        "    Format:\n",
        "    Restaurant, Dish\n",
        "    Res_1, Dsh_1\n",
        "    ...\n",
        "\n",
        "    Journal entry:\n",
        "    {journal_entry}\n",
        "    \"\"\"\n",
        "\n",
        "    print(file)\n",
        "    print_llm_response(prompt)\n",
        "    print(\"\") # Prints a blank line!"
      ]
    },
    {
      "cell_type": "markdown",
      "metadata": {
        "id": "25yi9H11E41F"
      },
      "source": [
        "## Try for yourself!\n",
        "Try modifying the prompt inside the `for` loop above to extract different information. For example\n",
        "* Extract the restaurant name and the neighborhood it is located in\n",
        "* Extract each dish and it's main ingredient"
      ]
    },
    {
      "cell_type": "markdown",
      "metadata": {
        "id": "Epnsxr_5E41G"
      },
      "source": [
        "## Writing Files"
      ]
    },
    {
      "cell_type": "markdown",
      "metadata": {
        "id": "DEodxXnVE41G"
      },
      "source": [
        "Here, you will learn how you can save files with the data you have created using Python and LLM.\n",
        "\n",
        "As a reminder, print the html_response variable to see it's contents:"
      ]
    },
    {
      "cell_type": "code",
      "execution_count": 13,
      "metadata": {
        "height": 30,
        "colab": {
          "base_uri": "https://localhost:8080/",
          "height": 551
        },
        "id": "9ww0gAHZE41G",
        "outputId": "4bc654d2-76ba-432d-88de-acd4f269a284"
      },
      "outputs": [
        {
          "output_type": "display_data",
          "data": {
            "text/plain": [
              "<IPython.core.display.HTML object>"
            ],
            "text/html": [
              "```html\n",
              "<p>Tokyo's culinary landscape is nothing short of extraordinary. Each spot offers a unique taste of the city's diverse food culture. Here's a quick guide to some must-try places and dishes.</p>\n",
              "\n",
              "<p><span style=\"color:orange\"><strong>Sukiyabashi Jiro</strong></span>\n",
              "    <br>Location: Ginza\n",
              "    <br>Dish: <span style=\"color:blue\">Omakase sushi</span>\n",
              "    <br>Highlight: Impeccably crafted sushi made by the legendary Jiro Ono. Each piece is a masterclass in balance and flavor.</p>\n",
              "\n",
              "<p><span style=\"color:orange\"><strong>Ichiran Ramen</strong></span>\n",
              "    <br>Location: Shibuya\n",
              "    <br>Dish: <span style=\"color:blue\">Tonkotsu ramen</span>\n",
              "    <br>Highlight: A personal ramen booth for focused, uninterrupted enjoyment. Rich, creamy broth with perfectly cooked noodles.</p>\n",
              "\n",
              "<p><span style=\"color:orange\"><strong>Tsukiji Outer Market</strong></span>\n",
              "    <br>Location: Tsukiji\n",
              "    <br>Dish: Fresh sashimi and street food\n",
              "    <br>Highlight: Vibrant market atmosphere. Indulge in ultra-fresh sashimi, grilled seafood, and other Japanese street food delights.</p>\n",
              "\n",
              "<p><span style=\"color:orange\"><strong>Narisawa</strong></span>\n",
              "    <br>Location: Minato\n",
              "    <br>Dish: Innovative tasting menu\n",
              "    <br>Highlight: A fusion of French and Japanese techniques. Creative dishes with an emphasis on sustainability and local ingredients.</p>\n",
              "\n",
              "<p><span style=\"color:orange\"><strong>Ginza Kojyu</strong></span>\n",
              "    <br>Location: Ginza\n",
              "    <br>Dish: <span style=\"color:blue\">Kaiseki (traditional multi-course meal)</span>\n",
              "    <br>Highlight: Exquisite presentation and meticulous preparation. A journey through seasonal Japanese flavors.</p>\n",
              "\n",
              "<p><span style=\"color:orange\"><strong>Akasaka Kikunoi</strong></span>\n",
              "    <br>Location: Akasaka\n",
              "    <br>Dish: Kaiseki\n",
              "    <br>Highlight: Elegant and serene setting. Seasonal ingredients transformed into artful, delicious courses.</p>\n",
              "```"
            ]
          },
          "metadata": {}
        }
      ],
      "source": [
        "display(HTML(html_response))"
      ]
    },
    {
      "cell_type": "markdown",
      "metadata": {
        "id": "reHJyn0xE41G"
      },
      "source": [
        "Next, save the data in html_response to a file:"
      ]
    },
    {
      "cell_type": "code",
      "execution_count": 14,
      "metadata": {
        "height": 64,
        "id": "7j4dyYk0E41H"
      },
      "outputs": [],
      "source": [
        "f = open(\"highlighted_text.html\", 'w')\n",
        "f.write(html_response)\n",
        "f.close()"
      ]
    },
    {
      "cell_type": "markdown",
      "metadata": {
        "id": "oBFEriZME41H"
      },
      "source": [
        "Note that you use `'w'` instead of `'r'` and `f.write` instead of `f.read` here, in contrast to when you read in a file."
      ]
    },
    {
      "cell_type": "markdown",
      "metadata": {
        "id": "ja6YOrcVE41H"
      },
      "source": [
        "<p style=\"background-color:#F5C780; padding:15px\"> 🤖 <b>Use the Chatbot</b>:\n",
        "    <br><br>\n",
        "    Explain this code line by line:\n",
        "    <br><br>f = open(\"highlighted_text.html\", 'w')\n",
        "    <br>f.write(html_response)\n",
        "    <br>f.close()\n",
        "</p>"
      ]
    },
    {
      "cell_type": "markdown",
      "metadata": {
        "id": "J51U6PmfE41H"
      },
      "source": [
        "You can use the following button to download the file you just wrote above.\n",
        "* Make sure to provide the right file name: 'highlighted_text.html' when asked!"
      ]
    },
    {
      "cell_type": "code",
      "execution_count": null,
      "metadata": {
        "height": 30,
        "id": "XuwBHjU0E41H"
      },
      "outputs": [],
      "source": [
        "download_file()"
      ]
    },
    {
      "cell_type": "markdown",
      "metadata": {
        "id": "8BfAfeGuE41I"
      },
      "source": [
        "## Extra practice\n",
        "\n",
        "### Exercise 1\n",
        "\n",
        "Modify the prompt below to create an HTML file that highlights all the **restaurant names in green** and the **neighborhoods in pink** in the Sydney journal entry."
      ]
    },
    {
      "cell_type": "code",
      "execution_count": null,
      "metadata": {
        "height": 302,
        "id": "RnasYPh7E41I"
      },
      "outputs": [],
      "source": [
        "journal_sydney = read_journal(\"sydney.txt\")\n",
        "\n",
        "# Modify the prompt below\n",
        "prompt = f\"\"\"\n",
        "Given the following journal entry from a food critic, identify the\n",
        "restaurants and their best dishes. Highlight and bold each restaurant\n",
        "(in orange) and best dish (in blue) within the original text.\n",
        "\n",
        "Provide the output as HTML suitable for display in a Jupyter notebook.\n",
        "\n",
        "Journal entry:\n",
        "{journal_tokyo}\n",
        "\"\"\"\n",
        "\n",
        "html_sydney = get_llm_response(prompt)\n",
        "display(HTML(html_sydney))"
      ]
    },
    {
      "cell_type": "markdown",
      "metadata": {
        "id": "38JdiDAfE41I"
      },
      "source": [
        "### Exercise 2\n",
        "\n",
        "Modify the code below to save the output of the LLM to an HTML file. The file should be called `highlighted_sydney.html`."
      ]
    },
    {
      "cell_type": "code",
      "execution_count": null,
      "metadata": {
        "height": 81,
        "id": "4qKxiPF3E41I"
      },
      "outputs": [],
      "source": [
        "\n",
        "f = open()\n",
        "f.write()\n",
        "f.close()"
      ]
    },
    {
      "cell_type": "markdown",
      "metadata": {
        "id": "40KQxDEzE41I"
      },
      "source": [
        "You can then download the file, if you'd like!"
      ]
    },
    {
      "cell_type": "code",
      "execution_count": null,
      "metadata": {
        "height": 30,
        "id": "JXf9pSysE41I"
      },
      "outputs": [],
      "source": [
        "download_file()"
      ]
    }
  ],
  "metadata": {
    "kernelspec": {
      "display_name": "Python 3 (ipykernel)",
      "language": "python",
      "name": "python3"
    },
    "language_info": {
      "codemirror_mode": {
        "name": "ipython",
        "version": 3
      },
      "file_extension": ".py",
      "mimetype": "text/x-python",
      "name": "python",
      "nbconvert_exporter": "python",
      "pygments_lexer": "ipython3",
      "version": "3.9.19"
    },
    "colab": {
      "provenance": [],
      "include_colab_link": true
    }
  },
  "nbformat": 4,
  "nbformat_minor": 0
}